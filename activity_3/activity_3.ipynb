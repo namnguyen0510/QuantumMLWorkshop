{
 "cells": [
  {
   "attachments": {},
   "cell_type": "markdown",
   "metadata": {},
   "source": [
    "# Quantum Neural Machine\n",
    "(Author: Nam Nguyen)"
   ]
  },
  {
   "attachments": {},
   "cell_type": "markdown",
   "metadata": {},
   "source": [
    "# Character Selections\n",
    "<img src=\"f71838b53228ad6332612892564d602bb9d25a36a218501921c66f66591465f7.001.jpeg\" alt=\"alt text\" width=\"25%\">\n",
    "<img src=\"i71838b53228ad6332612892564d602bb9d25a36a218501921c66f66591465f7.001.jpeg\" alt=\"alt text\" width=\"25%\">\n",
    "\n",
    "[Ice][Fire]\n",
    "\n",
    "<img src=\"e22abdb3ee0cd7ef2a1169f6bc5abe3d76711a3b379636fc31f199b4a1f9ae47.001.jpeg\" alt=\"alt text\" width=\"25%\">\n",
    "<img src=\"0e1b5c7be347178eb5640772bafa5cbdd36e5a6945fe0e47ced39a48c03df79c.001.jpeg\" alt=\"alt text\" width=\"25%\">\n",
    "\n",
    "\n",
    "\n",
    "\n",
    "\n"
   ]
  },
  {
   "attachments": {},
   "cell_type": "markdown",
   "metadata": {},
   "source": [
    "## Spider\n",
    "The species that Galois and Ice found is a Water Spider.\n",
    "\n",
    "\"Spider and web are terms that are often associated with the natural world. Spiders are **eight-legged** arachnids that are known for **spinning silk** webs to capture their prey. These webs are intricate structures that can vary in shape and size, depending on the spider species and its environment.\n",
    "\n",
    "Spiders use their silk to build webs that serve a variety of purposes, such as catching prey, protecting their eggs, and providing a place to rest. The silk is produced by specialized glands in the spider's abdomen, and it hardens when exposed to air, forming a strong and elastic material.\n",
    "\n",
    "Spiders typically **spin webs** in locations where they are likely to catch their prey, such as near light sources or in areas where insects are abundant. The structure of the web is designed to trap insects and other small animals, with sticky strands that hold the prey in place until the spider can move in for the kill.\""
   ]
  },
  {
   "attachments": {},
   "cell_type": "markdown",
   "metadata": {},
   "source": [
    "Ice: You must update your equation, Galois..?!\n",
    "\n",
    "Galois: Fine..."
   ]
  },
  {
   "attachments": {},
   "cell_type": "markdown",
   "metadata": {},
   "source": [
    "Galois recall the last activity of Group theory, where we know about how to generalize function as \n",
    "$\\mathcal{S}_{1} \\rightarrow \\mathcal{S}_{2}$. Recall, we have the first Galois's equation from Fire's dream (Act 1), given as a polynormial\n",
    "\\begin{equation}\n",
    "    f(z) = 1 + z + z^2 +z^3\n",
    "\\end{equation}\n",
    "\n",
    "Each of $z$ in Fire dream is a scalar in $\\mathbb{R}$. Because Galois and Ice now are in a team of two element, we have to extend $z$ in to two-dimensional vector so that we can represent the spin web. From act 2, we have the mapping presented by $\\mathbb{R} \\rightarrow \\mathbb{R}^2$. Now, we present the two-dimensional vector $z$ in bold for multi-dimensional vectors. In the most simpliest case. Galois open his G.A.I.A and plot:"
   ]
  },
  {
   "cell_type": "code",
   "execution_count": 1,
   "metadata": {},
   "outputs": [
    {
     "name": "stdout",
     "output_type": "stream",
     "text": [
      "[34.54 72.22 59.66 53.38 91.06]\n"
     ]
    },
    {
     "data": {
      "application/vnd.plotly.v1+json": {
       "config": {
        "plotlyServerURL": "https://plot.ly"
       },
       "data": [
        {
         "mode": "markers",
         "name": "Linear",
         "type": "scatter",
         "x": [
          11,
          23,
          19,
          17,
          29
         ],
         "xaxis": "x",
         "y": [
          34.54,
          72.22,
          59.660000000000004,
          53.38,
          91.06
         ],
         "yaxis": "y"
        },
        {
         "mode": "markers",
         "name": "Non-Linear",
         "type": "scatter",
         "x": [
          11,
          23,
          19,
          17,
          29
         ],
         "xaxis": "x3",
         "y": [
          41206.620663999995,
          376679.905048,
          212348.76869600004,
          152102.27447200002,
          755062.5630160001
         ],
         "yaxis": "y3"
        }
       ],
       "layout": {
        "template": {
         "data": {
          "bar": [
           {
            "error_x": {
             "color": "#2a3f5f"
            },
            "error_y": {
             "color": "#2a3f5f"
            },
            "marker": {
             "line": {
              "color": "#E5ECF6",
              "width": 0.5
             },
             "pattern": {
              "fillmode": "overlay",
              "size": 10,
              "solidity": 0.2
             }
            },
            "type": "bar"
           }
          ],
          "barpolar": [
           {
            "marker": {
             "line": {
              "color": "#E5ECF6",
              "width": 0.5
             },
             "pattern": {
              "fillmode": "overlay",
              "size": 10,
              "solidity": 0.2
             }
            },
            "type": "barpolar"
           }
          ],
          "carpet": [
           {
            "aaxis": {
             "endlinecolor": "#2a3f5f",
             "gridcolor": "white",
             "linecolor": "white",
             "minorgridcolor": "white",
             "startlinecolor": "#2a3f5f"
            },
            "baxis": {
             "endlinecolor": "#2a3f5f",
             "gridcolor": "white",
             "linecolor": "white",
             "minorgridcolor": "white",
             "startlinecolor": "#2a3f5f"
            },
            "type": "carpet"
           }
          ],
          "choropleth": [
           {
            "colorbar": {
             "outlinewidth": 0,
             "ticks": ""
            },
            "type": "choropleth"
           }
          ],
          "contour": [
           {
            "colorbar": {
             "outlinewidth": 0,
             "ticks": ""
            },
            "colorscale": [
             [
              0,
              "#0d0887"
             ],
             [
              0.1111111111111111,
              "#46039f"
             ],
             [
              0.2222222222222222,
              "#7201a8"
             ],
             [
              0.3333333333333333,
              "#9c179e"
             ],
             [
              0.4444444444444444,
              "#bd3786"
             ],
             [
              0.5555555555555556,
              "#d8576b"
             ],
             [
              0.6666666666666666,
              "#ed7953"
             ],
             [
              0.7777777777777778,
              "#fb9f3a"
             ],
             [
              0.8888888888888888,
              "#fdca26"
             ],
             [
              1,
              "#f0f921"
             ]
            ],
            "type": "contour"
           }
          ],
          "contourcarpet": [
           {
            "colorbar": {
             "outlinewidth": 0,
             "ticks": ""
            },
            "type": "contourcarpet"
           }
          ],
          "heatmap": [
           {
            "colorbar": {
             "outlinewidth": 0,
             "ticks": ""
            },
            "colorscale": [
             [
              0,
              "#0d0887"
             ],
             [
              0.1111111111111111,
              "#46039f"
             ],
             [
              0.2222222222222222,
              "#7201a8"
             ],
             [
              0.3333333333333333,
              "#9c179e"
             ],
             [
              0.4444444444444444,
              "#bd3786"
             ],
             [
              0.5555555555555556,
              "#d8576b"
             ],
             [
              0.6666666666666666,
              "#ed7953"
             ],
             [
              0.7777777777777778,
              "#fb9f3a"
             ],
             [
              0.8888888888888888,
              "#fdca26"
             ],
             [
              1,
              "#f0f921"
             ]
            ],
            "type": "heatmap"
           }
          ],
          "heatmapgl": [
           {
            "colorbar": {
             "outlinewidth": 0,
             "ticks": ""
            },
            "colorscale": [
             [
              0,
              "#0d0887"
             ],
             [
              0.1111111111111111,
              "#46039f"
             ],
             [
              0.2222222222222222,
              "#7201a8"
             ],
             [
              0.3333333333333333,
              "#9c179e"
             ],
             [
              0.4444444444444444,
              "#bd3786"
             ],
             [
              0.5555555555555556,
              "#d8576b"
             ],
             [
              0.6666666666666666,
              "#ed7953"
             ],
             [
              0.7777777777777778,
              "#fb9f3a"
             ],
             [
              0.8888888888888888,
              "#fdca26"
             ],
             [
              1,
              "#f0f921"
             ]
            ],
            "type": "heatmapgl"
           }
          ],
          "histogram": [
           {
            "marker": {
             "pattern": {
              "fillmode": "overlay",
              "size": 10,
              "solidity": 0.2
             }
            },
            "type": "histogram"
           }
          ],
          "histogram2d": [
           {
            "colorbar": {
             "outlinewidth": 0,
             "ticks": ""
            },
            "colorscale": [
             [
              0,
              "#0d0887"
             ],
             [
              0.1111111111111111,
              "#46039f"
             ],
             [
              0.2222222222222222,
              "#7201a8"
             ],
             [
              0.3333333333333333,
              "#9c179e"
             ],
             [
              0.4444444444444444,
              "#bd3786"
             ],
             [
              0.5555555555555556,
              "#d8576b"
             ],
             [
              0.6666666666666666,
              "#ed7953"
             ],
             [
              0.7777777777777778,
              "#fb9f3a"
             ],
             [
              0.8888888888888888,
              "#fdca26"
             ],
             [
              1,
              "#f0f921"
             ]
            ],
            "type": "histogram2d"
           }
          ],
          "histogram2dcontour": [
           {
            "colorbar": {
             "outlinewidth": 0,
             "ticks": ""
            },
            "colorscale": [
             [
              0,
              "#0d0887"
             ],
             [
              0.1111111111111111,
              "#46039f"
             ],
             [
              0.2222222222222222,
              "#7201a8"
             ],
             [
              0.3333333333333333,
              "#9c179e"
             ],
             [
              0.4444444444444444,
              "#bd3786"
             ],
             [
              0.5555555555555556,
              "#d8576b"
             ],
             [
              0.6666666666666666,
              "#ed7953"
             ],
             [
              0.7777777777777778,
              "#fb9f3a"
             ],
             [
              0.8888888888888888,
              "#fdca26"
             ],
             [
              1,
              "#f0f921"
             ]
            ],
            "type": "histogram2dcontour"
           }
          ],
          "mesh3d": [
           {
            "colorbar": {
             "outlinewidth": 0,
             "ticks": ""
            },
            "type": "mesh3d"
           }
          ],
          "parcoords": [
           {
            "line": {
             "colorbar": {
              "outlinewidth": 0,
              "ticks": ""
             }
            },
            "type": "parcoords"
           }
          ],
          "pie": [
           {
            "automargin": true,
            "type": "pie"
           }
          ],
          "scatter": [
           {
            "fillpattern": {
             "fillmode": "overlay",
             "size": 10,
             "solidity": 0.2
            },
            "type": "scatter"
           }
          ],
          "scatter3d": [
           {
            "line": {
             "colorbar": {
              "outlinewidth": 0,
              "ticks": ""
             }
            },
            "marker": {
             "colorbar": {
              "outlinewidth": 0,
              "ticks": ""
             }
            },
            "type": "scatter3d"
           }
          ],
          "scattercarpet": [
           {
            "marker": {
             "colorbar": {
              "outlinewidth": 0,
              "ticks": ""
             }
            },
            "type": "scattercarpet"
           }
          ],
          "scattergeo": [
           {
            "marker": {
             "colorbar": {
              "outlinewidth": 0,
              "ticks": ""
             }
            },
            "type": "scattergeo"
           }
          ],
          "scattergl": [
           {
            "marker": {
             "colorbar": {
              "outlinewidth": 0,
              "ticks": ""
             }
            },
            "type": "scattergl"
           }
          ],
          "scattermapbox": [
           {
            "marker": {
             "colorbar": {
              "outlinewidth": 0,
              "ticks": ""
             }
            },
            "type": "scattermapbox"
           }
          ],
          "scatterpolar": [
           {
            "marker": {
             "colorbar": {
              "outlinewidth": 0,
              "ticks": ""
             }
            },
            "type": "scatterpolar"
           }
          ],
          "scatterpolargl": [
           {
            "marker": {
             "colorbar": {
              "outlinewidth": 0,
              "ticks": ""
             }
            },
            "type": "scatterpolargl"
           }
          ],
          "scatterternary": [
           {
            "marker": {
             "colorbar": {
              "outlinewidth": 0,
              "ticks": ""
             }
            },
            "type": "scatterternary"
           }
          ],
          "surface": [
           {
            "colorbar": {
             "outlinewidth": 0,
             "ticks": ""
            },
            "colorscale": [
             [
              0,
              "#0d0887"
             ],
             [
              0.1111111111111111,
              "#46039f"
             ],
             [
              0.2222222222222222,
              "#7201a8"
             ],
             [
              0.3333333333333333,
              "#9c179e"
             ],
             [
              0.4444444444444444,
              "#bd3786"
             ],
             [
              0.5555555555555556,
              "#d8576b"
             ],
             [
              0.6666666666666666,
              "#ed7953"
             ],
             [
              0.7777777777777778,
              "#fb9f3a"
             ],
             [
              0.8888888888888888,
              "#fdca26"
             ],
             [
              1,
              "#f0f921"
             ]
            ],
            "type": "surface"
           }
          ],
          "table": [
           {
            "cells": {
             "fill": {
              "color": "#EBF0F8"
             },
             "line": {
              "color": "white"
             }
            },
            "header": {
             "fill": {
              "color": "#C8D4E3"
             },
             "line": {
              "color": "white"
             }
            },
            "type": "table"
           }
          ]
         },
         "layout": {
          "annotationdefaults": {
           "arrowcolor": "#2a3f5f",
           "arrowhead": 0,
           "arrowwidth": 1
          },
          "autotypenumbers": "strict",
          "coloraxis": {
           "colorbar": {
            "outlinewidth": 0,
            "ticks": ""
           }
          },
          "colorscale": {
           "diverging": [
            [
             0,
             "#8e0152"
            ],
            [
             0.1,
             "#c51b7d"
            ],
            [
             0.2,
             "#de77ae"
            ],
            [
             0.3,
             "#f1b6da"
            ],
            [
             0.4,
             "#fde0ef"
            ],
            [
             0.5,
             "#f7f7f7"
            ],
            [
             0.6,
             "#e6f5d0"
            ],
            [
             0.7,
             "#b8e186"
            ],
            [
             0.8,
             "#7fbc41"
            ],
            [
             0.9,
             "#4d9221"
            ],
            [
             1,
             "#276419"
            ]
           ],
           "sequential": [
            [
             0,
             "#0d0887"
            ],
            [
             0.1111111111111111,
             "#46039f"
            ],
            [
             0.2222222222222222,
             "#7201a8"
            ],
            [
             0.3333333333333333,
             "#9c179e"
            ],
            [
             0.4444444444444444,
             "#bd3786"
            ],
            [
             0.5555555555555556,
             "#d8576b"
            ],
            [
             0.6666666666666666,
             "#ed7953"
            ],
            [
             0.7777777777777778,
             "#fb9f3a"
            ],
            [
             0.8888888888888888,
             "#fdca26"
            ],
            [
             1,
             "#f0f921"
            ]
           ],
           "sequentialminus": [
            [
             0,
             "#0d0887"
            ],
            [
             0.1111111111111111,
             "#46039f"
            ],
            [
             0.2222222222222222,
             "#7201a8"
            ],
            [
             0.3333333333333333,
             "#9c179e"
            ],
            [
             0.4444444444444444,
             "#bd3786"
            ],
            [
             0.5555555555555556,
             "#d8576b"
            ],
            [
             0.6666666666666666,
             "#ed7953"
            ],
            [
             0.7777777777777778,
             "#fb9f3a"
            ],
            [
             0.8888888888888888,
             "#fdca26"
            ],
            [
             1,
             "#f0f921"
            ]
           ]
          },
          "colorway": [
           "#636efa",
           "#EF553B",
           "#00cc96",
           "#ab63fa",
           "#FFA15A",
           "#19d3f3",
           "#FF6692",
           "#B6E880",
           "#FF97FF",
           "#FECB52"
          ],
          "font": {
           "color": "#2a3f5f"
          },
          "geo": {
           "bgcolor": "white",
           "lakecolor": "white",
           "landcolor": "#E5ECF6",
           "showlakes": true,
           "showland": true,
           "subunitcolor": "white"
          },
          "hoverlabel": {
           "align": "left"
          },
          "hovermode": "closest",
          "mapbox": {
           "style": "light"
          },
          "paper_bgcolor": "white",
          "plot_bgcolor": "#E5ECF6",
          "polar": {
           "angularaxis": {
            "gridcolor": "white",
            "linecolor": "white",
            "ticks": ""
           },
           "bgcolor": "#E5ECF6",
           "radialaxis": {
            "gridcolor": "white",
            "linecolor": "white",
            "ticks": ""
           }
          },
          "scene": {
           "xaxis": {
            "backgroundcolor": "#E5ECF6",
            "gridcolor": "white",
            "gridwidth": 2,
            "linecolor": "white",
            "showbackground": true,
            "ticks": "",
            "zerolinecolor": "white"
           },
           "yaxis": {
            "backgroundcolor": "#E5ECF6",
            "gridcolor": "white",
            "gridwidth": 2,
            "linecolor": "white",
            "showbackground": true,
            "ticks": "",
            "zerolinecolor": "white"
           },
           "zaxis": {
            "backgroundcolor": "#E5ECF6",
            "gridcolor": "white",
            "gridwidth": 2,
            "linecolor": "white",
            "showbackground": true,
            "ticks": "",
            "zerolinecolor": "white"
           }
          },
          "shapedefaults": {
           "line": {
            "color": "#2a3f5f"
           }
          },
          "ternary": {
           "aaxis": {
            "gridcolor": "white",
            "linecolor": "white",
            "ticks": ""
           },
           "baxis": {
            "gridcolor": "white",
            "linecolor": "white",
            "ticks": ""
           },
           "bgcolor": "#E5ECF6",
           "caxis": {
            "gridcolor": "white",
            "linecolor": "white",
            "ticks": ""
           }
          },
          "title": {
           "x": 0.05
          },
          "xaxis": {
           "automargin": true,
           "gridcolor": "white",
           "linecolor": "white",
           "ticks": "",
           "title": {
            "standoff": 15
           },
           "zerolinecolor": "white",
           "zerolinewidth": 2
          },
          "yaxis": {
           "automargin": true,
           "gridcolor": "white",
           "linecolor": "white",
           "ticks": "",
           "title": {
            "standoff": 15
           },
           "zerolinecolor": "white",
           "zerolinewidth": 2
          }
         }
        },
        "xaxis": {
         "anchor": "y",
         "domain": [
          0,
          0.2888888888888889
         ]
        },
        "xaxis2": {
         "anchor": "y2",
         "domain": [
          0.35555555555555557,
          0.6444444444444445
         ]
        },
        "xaxis3": {
         "anchor": "y3",
         "domain": [
          0.7111111111111111,
          1
         ]
        },
        "yaxis": {
         "anchor": "x",
         "domain": [
          0,
          1
         ]
        },
        "yaxis2": {
         "anchor": "x2",
         "domain": [
          0,
          1
         ]
        },
        "yaxis3": {
         "anchor": "x3",
         "domain": [
          0,
          1
         ]
        }
       }
      }
     },
     "metadata": {},
     "output_type": "display_data"
    },
    {
     "data": {
      "application/vnd.plotly.v1+json": {
       "config": {
        "plotlyServerURL": "https://plot.ly"
       },
       "data": [
        {
         "mode": "markers",
         "name": "A Polar Jump",
         "r": [
          11,
          23,
          19,
          17,
          29
         ],
         "theta": [
          11,
          23,
          19,
          17,
          29
         ],
         "type": "scatterpolar"
        }
       ],
       "layout": {
        "template": {
         "data": {
          "bar": [
           {
            "error_x": {
             "color": "#2a3f5f"
            },
            "error_y": {
             "color": "#2a3f5f"
            },
            "marker": {
             "line": {
              "color": "#E5ECF6",
              "width": 0.5
             },
             "pattern": {
              "fillmode": "overlay",
              "size": 10,
              "solidity": 0.2
             }
            },
            "type": "bar"
           }
          ],
          "barpolar": [
           {
            "marker": {
             "line": {
              "color": "#E5ECF6",
              "width": 0.5
             },
             "pattern": {
              "fillmode": "overlay",
              "size": 10,
              "solidity": 0.2
             }
            },
            "type": "barpolar"
           }
          ],
          "carpet": [
           {
            "aaxis": {
             "endlinecolor": "#2a3f5f",
             "gridcolor": "white",
             "linecolor": "white",
             "minorgridcolor": "white",
             "startlinecolor": "#2a3f5f"
            },
            "baxis": {
             "endlinecolor": "#2a3f5f",
             "gridcolor": "white",
             "linecolor": "white",
             "minorgridcolor": "white",
             "startlinecolor": "#2a3f5f"
            },
            "type": "carpet"
           }
          ],
          "choropleth": [
           {
            "colorbar": {
             "outlinewidth": 0,
             "ticks": ""
            },
            "type": "choropleth"
           }
          ],
          "contour": [
           {
            "colorbar": {
             "outlinewidth": 0,
             "ticks": ""
            },
            "colorscale": [
             [
              0,
              "#0d0887"
             ],
             [
              0.1111111111111111,
              "#46039f"
             ],
             [
              0.2222222222222222,
              "#7201a8"
             ],
             [
              0.3333333333333333,
              "#9c179e"
             ],
             [
              0.4444444444444444,
              "#bd3786"
             ],
             [
              0.5555555555555556,
              "#d8576b"
             ],
             [
              0.6666666666666666,
              "#ed7953"
             ],
             [
              0.7777777777777778,
              "#fb9f3a"
             ],
             [
              0.8888888888888888,
              "#fdca26"
             ],
             [
              1,
              "#f0f921"
             ]
            ],
            "type": "contour"
           }
          ],
          "contourcarpet": [
           {
            "colorbar": {
             "outlinewidth": 0,
             "ticks": ""
            },
            "type": "contourcarpet"
           }
          ],
          "heatmap": [
           {
            "colorbar": {
             "outlinewidth": 0,
             "ticks": ""
            },
            "colorscale": [
             [
              0,
              "#0d0887"
             ],
             [
              0.1111111111111111,
              "#46039f"
             ],
             [
              0.2222222222222222,
              "#7201a8"
             ],
             [
              0.3333333333333333,
              "#9c179e"
             ],
             [
              0.4444444444444444,
              "#bd3786"
             ],
             [
              0.5555555555555556,
              "#d8576b"
             ],
             [
              0.6666666666666666,
              "#ed7953"
             ],
             [
              0.7777777777777778,
              "#fb9f3a"
             ],
             [
              0.8888888888888888,
              "#fdca26"
             ],
             [
              1,
              "#f0f921"
             ]
            ],
            "type": "heatmap"
           }
          ],
          "heatmapgl": [
           {
            "colorbar": {
             "outlinewidth": 0,
             "ticks": ""
            },
            "colorscale": [
             [
              0,
              "#0d0887"
             ],
             [
              0.1111111111111111,
              "#46039f"
             ],
             [
              0.2222222222222222,
              "#7201a8"
             ],
             [
              0.3333333333333333,
              "#9c179e"
             ],
             [
              0.4444444444444444,
              "#bd3786"
             ],
             [
              0.5555555555555556,
              "#d8576b"
             ],
             [
              0.6666666666666666,
              "#ed7953"
             ],
             [
              0.7777777777777778,
              "#fb9f3a"
             ],
             [
              0.8888888888888888,
              "#fdca26"
             ],
             [
              1,
              "#f0f921"
             ]
            ],
            "type": "heatmapgl"
           }
          ],
          "histogram": [
           {
            "marker": {
             "pattern": {
              "fillmode": "overlay",
              "size": 10,
              "solidity": 0.2
             }
            },
            "type": "histogram"
           }
          ],
          "histogram2d": [
           {
            "colorbar": {
             "outlinewidth": 0,
             "ticks": ""
            },
            "colorscale": [
             [
              0,
              "#0d0887"
             ],
             [
              0.1111111111111111,
              "#46039f"
             ],
             [
              0.2222222222222222,
              "#7201a8"
             ],
             [
              0.3333333333333333,
              "#9c179e"
             ],
             [
              0.4444444444444444,
              "#bd3786"
             ],
             [
              0.5555555555555556,
              "#d8576b"
             ],
             [
              0.6666666666666666,
              "#ed7953"
             ],
             [
              0.7777777777777778,
              "#fb9f3a"
             ],
             [
              0.8888888888888888,
              "#fdca26"
             ],
             [
              1,
              "#f0f921"
             ]
            ],
            "type": "histogram2d"
           }
          ],
          "histogram2dcontour": [
           {
            "colorbar": {
             "outlinewidth": 0,
             "ticks": ""
            },
            "colorscale": [
             [
              0,
              "#0d0887"
             ],
             [
              0.1111111111111111,
              "#46039f"
             ],
             [
              0.2222222222222222,
              "#7201a8"
             ],
             [
              0.3333333333333333,
              "#9c179e"
             ],
             [
              0.4444444444444444,
              "#bd3786"
             ],
             [
              0.5555555555555556,
              "#d8576b"
             ],
             [
              0.6666666666666666,
              "#ed7953"
             ],
             [
              0.7777777777777778,
              "#fb9f3a"
             ],
             [
              0.8888888888888888,
              "#fdca26"
             ],
             [
              1,
              "#f0f921"
             ]
            ],
            "type": "histogram2dcontour"
           }
          ],
          "mesh3d": [
           {
            "colorbar": {
             "outlinewidth": 0,
             "ticks": ""
            },
            "type": "mesh3d"
           }
          ],
          "parcoords": [
           {
            "line": {
             "colorbar": {
              "outlinewidth": 0,
              "ticks": ""
             }
            },
            "type": "parcoords"
           }
          ],
          "pie": [
           {
            "automargin": true,
            "type": "pie"
           }
          ],
          "scatter": [
           {
            "fillpattern": {
             "fillmode": "overlay",
             "size": 10,
             "solidity": 0.2
            },
            "type": "scatter"
           }
          ],
          "scatter3d": [
           {
            "line": {
             "colorbar": {
              "outlinewidth": 0,
              "ticks": ""
             }
            },
            "marker": {
             "colorbar": {
              "outlinewidth": 0,
              "ticks": ""
             }
            },
            "type": "scatter3d"
           }
          ],
          "scattercarpet": [
           {
            "marker": {
             "colorbar": {
              "outlinewidth": 0,
              "ticks": ""
             }
            },
            "type": "scattercarpet"
           }
          ],
          "scattergeo": [
           {
            "marker": {
             "colorbar": {
              "outlinewidth": 0,
              "ticks": ""
             }
            },
            "type": "scattergeo"
           }
          ],
          "scattergl": [
           {
            "marker": {
             "colorbar": {
              "outlinewidth": 0,
              "ticks": ""
             }
            },
            "type": "scattergl"
           }
          ],
          "scattermapbox": [
           {
            "marker": {
             "colorbar": {
              "outlinewidth": 0,
              "ticks": ""
             }
            },
            "type": "scattermapbox"
           }
          ],
          "scatterpolar": [
           {
            "marker": {
             "colorbar": {
              "outlinewidth": 0,
              "ticks": ""
             }
            },
            "type": "scatterpolar"
           }
          ],
          "scatterpolargl": [
           {
            "marker": {
             "colorbar": {
              "outlinewidth": 0,
              "ticks": ""
             }
            },
            "type": "scatterpolargl"
           }
          ],
          "scatterternary": [
           {
            "marker": {
             "colorbar": {
              "outlinewidth": 0,
              "ticks": ""
             }
            },
            "type": "scatterternary"
           }
          ],
          "surface": [
           {
            "colorbar": {
             "outlinewidth": 0,
             "ticks": ""
            },
            "colorscale": [
             [
              0,
              "#0d0887"
             ],
             [
              0.1111111111111111,
              "#46039f"
             ],
             [
              0.2222222222222222,
              "#7201a8"
             ],
             [
              0.3333333333333333,
              "#9c179e"
             ],
             [
              0.4444444444444444,
              "#bd3786"
             ],
             [
              0.5555555555555556,
              "#d8576b"
             ],
             [
              0.6666666666666666,
              "#ed7953"
             ],
             [
              0.7777777777777778,
              "#fb9f3a"
             ],
             [
              0.8888888888888888,
              "#fdca26"
             ],
             [
              1,
              "#f0f921"
             ]
            ],
            "type": "surface"
           }
          ],
          "table": [
           {
            "cells": {
             "fill": {
              "color": "#EBF0F8"
             },
             "line": {
              "color": "white"
             }
            },
            "header": {
             "fill": {
              "color": "#C8D4E3"
             },
             "line": {
              "color": "white"
             }
            },
            "type": "table"
           }
          ]
         },
         "layout": {
          "annotationdefaults": {
           "arrowcolor": "#2a3f5f",
           "arrowhead": 0,
           "arrowwidth": 1
          },
          "autotypenumbers": "strict",
          "coloraxis": {
           "colorbar": {
            "outlinewidth": 0,
            "ticks": ""
           }
          },
          "colorscale": {
           "diverging": [
            [
             0,
             "#8e0152"
            ],
            [
             0.1,
             "#c51b7d"
            ],
            [
             0.2,
             "#de77ae"
            ],
            [
             0.3,
             "#f1b6da"
            ],
            [
             0.4,
             "#fde0ef"
            ],
            [
             0.5,
             "#f7f7f7"
            ],
            [
             0.6,
             "#e6f5d0"
            ],
            [
             0.7,
             "#b8e186"
            ],
            [
             0.8,
             "#7fbc41"
            ],
            [
             0.9,
             "#4d9221"
            ],
            [
             1,
             "#276419"
            ]
           ],
           "sequential": [
            [
             0,
             "#0d0887"
            ],
            [
             0.1111111111111111,
             "#46039f"
            ],
            [
             0.2222222222222222,
             "#7201a8"
            ],
            [
             0.3333333333333333,
             "#9c179e"
            ],
            [
             0.4444444444444444,
             "#bd3786"
            ],
            [
             0.5555555555555556,
             "#d8576b"
            ],
            [
             0.6666666666666666,
             "#ed7953"
            ],
            [
             0.7777777777777778,
             "#fb9f3a"
            ],
            [
             0.8888888888888888,
             "#fdca26"
            ],
            [
             1,
             "#f0f921"
            ]
           ],
           "sequentialminus": [
            [
             0,
             "#0d0887"
            ],
            [
             0.1111111111111111,
             "#46039f"
            ],
            [
             0.2222222222222222,
             "#7201a8"
            ],
            [
             0.3333333333333333,
             "#9c179e"
            ],
            [
             0.4444444444444444,
             "#bd3786"
            ],
            [
             0.5555555555555556,
             "#d8576b"
            ],
            [
             0.6666666666666666,
             "#ed7953"
            ],
            [
             0.7777777777777778,
             "#fb9f3a"
            ],
            [
             0.8888888888888888,
             "#fdca26"
            ],
            [
             1,
             "#f0f921"
            ]
           ]
          },
          "colorway": [
           "#636efa",
           "#EF553B",
           "#00cc96",
           "#ab63fa",
           "#FFA15A",
           "#19d3f3",
           "#FF6692",
           "#B6E880",
           "#FF97FF",
           "#FECB52"
          ],
          "font": {
           "color": "#2a3f5f"
          },
          "geo": {
           "bgcolor": "white",
           "lakecolor": "white",
           "landcolor": "#E5ECF6",
           "showlakes": true,
           "showland": true,
           "subunitcolor": "white"
          },
          "hoverlabel": {
           "align": "left"
          },
          "hovermode": "closest",
          "mapbox": {
           "style": "light"
          },
          "paper_bgcolor": "white",
          "plot_bgcolor": "#E5ECF6",
          "polar": {
           "angularaxis": {
            "gridcolor": "white",
            "linecolor": "white",
            "ticks": ""
           },
           "bgcolor": "#E5ECF6",
           "radialaxis": {
            "gridcolor": "white",
            "linecolor": "white",
            "ticks": ""
           }
          },
          "scene": {
           "xaxis": {
            "backgroundcolor": "#E5ECF6",
            "gridcolor": "white",
            "gridwidth": 2,
            "linecolor": "white",
            "showbackground": true,
            "ticks": "",
            "zerolinecolor": "white"
           },
           "yaxis": {
            "backgroundcolor": "#E5ECF6",
            "gridcolor": "white",
            "gridwidth": 2,
            "linecolor": "white",
            "showbackground": true,
            "ticks": "",
            "zerolinecolor": "white"
           },
           "zaxis": {
            "backgroundcolor": "#E5ECF6",
            "gridcolor": "white",
            "gridwidth": 2,
            "linecolor": "white",
            "showbackground": true,
            "ticks": "",
            "zerolinecolor": "white"
           }
          },
          "shapedefaults": {
           "line": {
            "color": "#2a3f5f"
           }
          },
          "ternary": {
           "aaxis": {
            "gridcolor": "white",
            "linecolor": "white",
            "ticks": ""
           },
           "baxis": {
            "gridcolor": "white",
            "linecolor": "white",
            "ticks": ""
           },
           "bgcolor": "#E5ECF6",
           "caxis": {
            "gridcolor": "white",
            "linecolor": "white",
            "ticks": ""
           }
          },
          "title": {
           "x": 0.05
          },
          "xaxis": {
           "automargin": true,
           "gridcolor": "white",
           "linecolor": "white",
           "ticks": "",
           "title": {
            "standoff": 15
           },
           "zerolinecolor": "white",
           "zerolinewidth": 2
          },
          "yaxis": {
           "automargin": true,
           "gridcolor": "white",
           "linecolor": "white",
           "ticks": "",
           "title": {
            "standoff": 15
           },
           "zerolinecolor": "white",
           "zerolinewidth": 2
          }
         }
        }
       }
      }
     },
     "metadata": {},
     "output_type": "display_data"
    }
   ],
   "source": [
    "import matplotlib as plt\n",
    "import plotly.graph_objects as go\n",
    "from plotly.subplots import make_subplots\n",
    "# Declare your package\n",
    "import numpy as np #Use for Array Manipulation, Transformation\n",
    "import pandas as pd #Use for DataFrame Process\n",
    "\n",
    "day = np.array([1,3,5,7,11]).astype('int') # The Integer\n",
    "n_item = np.array([11,23,19,17,29]).astype('float') #The Real Number\n",
    "\n",
    "def y_sale(n_item, nest_price = 3.14):\n",
    "    '''\n",
    "    y_sale: is the random varible that we want to compute in the targeted column\n",
    "    '''\n",
    "    y = n_item*3.14\n",
    "    return y\n",
    "print(y_sale(n_item))\n",
    "\n",
    "# Create a figure with four subplots arranged in a 2x2 grid\n",
    "fig_l = make_subplots(rows=1, cols=3)\n",
    "# Add scatter plots to each subplot\n",
    "fig_l.add_trace(go.Scatter(x=n_item, y=y_sale(n_item), mode='markers', name = 'Linear'), row=1, col=1)\n",
    "fig_l.add_trace(go.Scatter(x=n_item, y=y_sale(n_item)**3, mode='markers', name = 'Non-Linear'), row=1, col=3)\n",
    "fig_nl = go.Figure(go.Scatterpolar(r=n_item, theta=n_item, mode='markers', name = 'A Polar Jump'))\n",
    "# Show the figure\n",
    "fig_l.show()\n",
    "fig_nl.show()\n",
    "\n",
    "\n"
   ]
  },
  {
   "attachments": {},
   "cell_type": "markdown",
   "metadata": {},
   "source": [
    "## Quantant Machines\n",
    "Quantum bits (qubits) and classical bits are computational units but differ in several key ways. Classical bits are binary information units existing in one of two states: $0$ or $1$. In contrast, qubits are the basic units of quantum information and can exist in multiple states simultaneously, known as superposition or a coherent system. This property allows quantum computers to perform calculations exponentially faster than classical computers for certain problems (the problem of primes ..?! the shore, 1994). \n",
    "\n",
    "Mathematical speaking, a single qubit system is a two-state quantum mechanical system, which is represented as electronic wavefunction $\\ket{\\psi} \\in \\mathbb{C}^2$, while a classical bit system takes value from $[0,1]$. We can present the state vector of a two-level system as\n",
    "\\begin{equation}\n",
    "    \\ket{0} = \\begin{pmatrix}\n",
    "    1\\\\0\n",
    "    \\end{pmatrix}, \\ket{1} = \\begin{pmatrix}\n",
    "    0\\\\1\n",
    "    \\end{pmatrix}.\n",
    "\\end{equation}\n",
    "Superposition of quantum states is represented by the linear combination of computational bases $\\mathbb{B}_{\\mathcal{H}} = \\{\\ket{0},\\ket{1}\\}$, or a vector in complex Hilbert space with\n",
    "\\begin{equation}\n",
    "    \\ket{\\psi} = \\alpha\\ket{0} +\\beta\\ket{1}, (\\alpha, \\beta \\in \\mathbb{C}).\n",
    "\\end{equation}\n",
    "Two special superposition states commonly seen in quantum computing applications are\n",
    "\\begin{equation}\n",
    "    \\begin{split}\n",
    "        \\ket{+} &:= \\frac{1}{2} (\\ket{0} + \\ket{1})\\\\\n",
    "        \\ket{-} &:= \\frac{1}{2} (\\ket{0} - \\ket{1})\n",
    "    \\end{split}\n",
    "\\end{equation}\n",
    "\n",
    "\n",
    "\n"
   ]
  },
  {
   "attachments": {},
   "cell_type": "markdown",
   "metadata": {},
   "source": [
    "From the knowledge that Galois and Ice learns from Act 1 and 2, we can now see Quantum Machine Intelligence is just ML/AI models on quantum hardware, using quantum qubits or qumodes. Using the language of Abstract Algebra, we can present qurons\\cite{} as matrix transformation, or manipulation, or product (stand for operator $\\odot$). \n",
    "\n",
    "\n",
    "There are two type of \\textbf{product operations} can be applied on quantum states, including (1) inner product and (2) outer product. In the former case, we have\n",
    "\\begin{equation}\n",
    "    \\begin{split}\n",
    "        \\braket{.|.}: \\mathbb{C}^2 \\times \\mathbb{C}^2 &\\rightarrow \\mathcal{V}_{\\text{inner}} = \\mathbb{R}\\\\\n",
    "        (\\ket{u},\\ket{v}) &\\mapsto \\braket{u|v}\n",
    "    \\end{split}\n",
    "\\end{equation}\n",
    "while the latter operator yields\n",
    "\\begin{equation}\n",
    "    \\begin{split}\n",
    "        \\ket{.}\\bra{.}: \\mathbb{C}^2 \\times \\mathbb{C}^2 &\\rightarrow \\mathcal{V}_{\\text{outer}} = M_{2\\times 2}(\\mathbb{C})\\\\\n",
    "        (\\ket{u},\\ket{v}) &\\mapsto \\ket{u}\\bra{v},\n",
    "    \\end{split}\n",
    "\\end{equation}\n",
    "where $M_{2\\times 2}(\\mathbb{C})$ is the vector space of unitary matrices. Clearly, the inner product makes dimensionality of quantum states collapsed since the transformation is from two-dimensional vectors into scalar. In contrast, the outer product expands the dimensionality; for example, we have\n",
    "\\begin{equation}\n",
    "    \\begin{split}\n",
    "        \\ket{0}\\bra{0} &= \\begin{pmatrix}\n",
    "            1\\\\0\n",
    "        \\end{pmatrix}\\begin{pmatrix}\n",
    "            1&0\n",
    "        \\end{pmatrix} = \\begin{pmatrix}\n",
    "            1 & 0 \\\\\n",
    "            0 & 0\n",
    "        \\end{pmatrix}\\\\\n",
    "        \\ket{0}\\bra{1} &= \\begin{pmatrix}\n",
    "            1\\\\0\n",
    "        \\end{pmatrix}\\begin{pmatrix}\n",
    "            0&1\n",
    "        \\end{pmatrix} = \\begin{pmatrix}\n",
    "            0 & 1 \\\\\n",
    "            0 & 0\n",
    "        \\end{pmatrix}\\\\\n",
    "        \\ket{1}\\bra{0} &= \\begin{pmatrix}\n",
    "            0\\\\1\n",
    "        \\end{pmatrix}\\begin{pmatrix}\n",
    "            1&0\n",
    "        \\end{pmatrix} = \\begin{pmatrix}\n",
    "            0 & 0 \\\\\n",
    "            1 & 0\n",
    "        \\end{pmatrix}\\\\\n",
    "        \\ket{1}\\bra{1} &= \\begin{pmatrix}\n",
    "            0\\\\1\n",
    "        \\end{pmatrix}\\begin{pmatrix}\n",
    "            0&1\n",
    "        \\end{pmatrix} = \\begin{pmatrix}\n",
    "            0 & 0 \\\\\n",
    "            0 & 1\n",
    "        \\end{pmatrix}\n",
    "    \\end{split}\n",
    "\\end{equation}\n",
    "which expands the dimension of quantum state vectors from $2\\times 1$ to $2\\times 2$. In general, any single qubit gate can be presented as an unitary matrix $U$ that satisfies $U^{\\dagger}U =I$ where $U^{\\dagger}$ is the conjugate-transpose (adjoint) of $U$.\n"
   ]
  },
  {
   "attachments": {},
   "cell_type": "markdown",
   "metadata": {},
   "source": [
    "We can geometrically represent qubits using two paradigms: (1) the hydrogen molecular (an electron orbiting around single nucleus) and (2) the Bloch sphere. In the former model, the election can adopt two states with different energy named ground state and excited state, which represent $\\ket{0}$ and $\\ket{1}$, respectively. In the latter interpretation, we can present a quantum state in a Bloch sphere (Figure~\\ref{fig:bloch_sphere}), given by\n",
    "\\begin{equation}\n",
    "    \\ket{\\psi} = \\cos \\frac{\\theta}{2}\\ket{0}+e^{i\\phi}\\sin{\\frac{\\theta}{2}}\\ket{1}.\n",
    "\\end{equation}\n",
    "In other word, any quantum state can be presented by a point on a three-dimensional sphere, defined by a rotation pair $(\\theta,\\phi)$ form $Ox$ and $Oz$, respectively.\n",
    "\n",
    "![Qubit](book_1.010.jpeg)"
   ]
  },
  {
   "attachments": {},
   "cell_type": "markdown",
   "metadata": {},
   "source": [
    "\n",
    "# To-do:\n",
    "\\textbf{Variational Quantum Eigensolver (VQE)\\cite{}:} is a class of quantum algorithms for finding the eigenvalues of a large matrix, represented the Hamiltonian of a system. This algorithm leverages a physical property of quantum systems: the eigenvalues of a Hamiltonian correspond to the system's possible energies, and the eigenstates describe the states of the system with those energies. The idea behind the VQE algorithm is to prepare an ansatz (guess) circuit, measure quantum states close to the Hamiltonian's ground state, and then use classical optimization techniques to improve the approximation accuracy. This algorithm is a flag-ship approach in quantum chemistry\\cite{} to compute certain molecular indexes such as potential energy surface (PES)\\cite{} or optimized geometry\\cite{}.\n",
    "\n",
    "\\textbf{Quantum Approximate Optimization Algorithm (QAQA)\\cite{}:} is designed to solve combinatorial optimization problems with ubiquitous applications in many fields such as logistics\\cite{}, scheduling\\cite{}, and finance\\cite{}. The QAOA algorithm is a hybrid quantum-classical algorithm consisting of two main parts: (1) a quantum circuit that prepares a specific quantum state and (2) a classical optimization algorithm that updates the parameters of the quantum circuit based on the feedback from measuring the quantum state. The quantum circuit is typically composed of a series of unitary operations, known as \"mixer\"  (or mixing) and \"problem\" (cost) Hamiltonians, which act on a set of qubits representing the problem to be solved.\n",
    "\n",
    "\\textbf{Quantum Machine Learning (QML):} is an emerging field at the intersection of quantum computing and machine learning. The research focuses on developing algorithms and techniques that use the principles of quantum mechanics to enhance or enable ML tasks. Specifically, supervised QML are kernel methods\\cite{schuld2021supervised,schuld2019quantum,havlivcek2019supervised}, which makes hard problems in the original data space becoming easier on higher, embedded vector space. Current literature has witnessed the advantages of quantum machine learning over its classical counterparts given various learning tasks\\cite{liu2018quantum,gao2018quantum,dunjko2016quantum,von2018quantum,lloyd2016quantum,lloyd2014quantum}. The primary approach for quantum machine learning is circuit-based models, referred to as variational quantum classifiers\\cite{romero2021variational,mcclean2016theory,farhi2014quantum}. Different strategies of classifiers in the quantum Hilbert space have been proposed, including linear classifier\\cite{mari2020transfer}, bitstrings parity-binary mapping\\cite{cappelletti2020polyadic}, Helstrom, and fidelity classifiers\\cite{lloyd2020quantum}. \n",
    "\n",
    "\\textbf{Quantum Neural Network (QNN):} is a neural network implemented on a quantum computer or uses quantum mechanics to perform certain computations\\cite{}. It is a form of quantum machine learning that seeks to combine the strengths of quantum computing with the power of artificial neural networks. The core component of a QNN model is the variational (parameterized) circuits called ansatz (plural ansaetze). An ansatz is constructed by stacking multiple identical sub-layers, similar to the construction of cell-based neural architecture designs\\cite{zoph2016neural}. Although many variational \\textit{ansaetze} have been proposed in the literature\\cite{schuld2020circuit,killoran2019continuous,huggins2019towards,farhi2014quantum,farhi2018classification,schuld2019quantum,tacchino2020variational}, there is no general framework to design optimal ansatz for data-specific scenarios or specific use-cases."
   ]
  },
  {
   "attachments": {},
   "cell_type": "markdown",
   "metadata": {},
   "source": [
    "# Hand-ons\n",
    "QuantAnts Machine \n",
    "\n",
    "(Author: Nam Nguyen)."
   ]
  },
  {
   "attachments": {},
   "cell_type": "markdown",
   "metadata": {},
   "source": [
    "When extracting the sample from the creature, Galois and Ice finds two representations of the genetic codes, which (1) spanned by $\\mathbb{B} = \\{A,T,G,C\\}$ and (2) spanned by $\\mathbb{s,p,d,f}$. Now, they will have two groups of:\n",
    "- Molecular DNA\n",
    "- Atomic DNA\n",
    "\n",
    "Suppose that Galois and Ice lives in a far future, where they have abundance data that they can instaneously access many observations while going through the Data Structure and the Zoo of Architectures.\n",
    "\n",
    "The problem now is more complicated since the two databases do not have the common domain. We can formulate the problem as follow:"
   ]
  },
  {
   "attachments": {},
   "cell_type": "markdown",
   "metadata": {},
   "source": [
    "\n",
    "[Blue Print of Quan*Ants*]\n",
    "Given $A_b$ and $A_s$ are adjacency matrix associated with two domain maps $\\mathbb{B}_0$ and $\\mathbb{B}_1$. We will construct dual representations for the two given matrices \n",
    "\n",
    "A representation of a group $\\mathcal{G}$ is a homomorphism $\\Phi: \\mathcal{G} \\rightarrow GL(V)$  with $$GL(V):= \\{f \\in End(V)| f\\textbf{ is invetible}\\}$$. We have $End(V)$ as the endomorphism ring of (finite-dimensional) vector space $V$, or a set of linear maps from $V$ to $V$.\n",
    "\n",
    "We defined the mapping with direct sum (from Euler's formula)\n",
    "\\begin{equation}\n",
    "    [\\Phi^{(0)} \\oplus \\Phi^{(1)}] = \\begin{bmatrix}\n",
    "    \\exp(\\frac{2\\pi i m}{n}) & 0 \\\\\n",
    "    0 & \\exp(-\\frac{2\\pi i m}{n})\n",
    "    \\end{bmatrix}\n",
    "\\end{equation}\n",
    "as **Euler Representations**. The dual-generators for sub-representations is\n",
    "\n",
    "\\begin{equation}\n",
    "\\begin{split}\n",
    "        \\Phi^{(0)}_{[m]} &= \\exp\\bigg( {2\\pi i}\\frac{m}{n} \\bigg)\\\\\n",
    "        \\Phi^{(1)}_{[m]} &= \\exp\\bigg({-2\\pi i}\\frac{m}{n} \\bigg)\n",
    "        \\end{split}\n",
    "\\end{equation}\n",
    "\n",
    "\n",
    "We encode the domain information, i.e., $A_b$ and $A_s$, by altering Euler Representations with spectral decomposition theorem. We have\n",
    "\\begin{equation}\n",
    "    \\begin{split}\n",
    "    A_b &= S_b^\\dagger \\Lambda_b S_b\\\\\n",
    "    A_s &= S_s^\\dagger \\Lambda_s S_s\n",
    "    \\end{split}\n",
    "\\end{equation}\n",
    "where $\\Lambda_b = \\text{diag} (\\lambda^{(b)}_1, \\dots, \\lambda^{(b)}_N)$ and $\\Lambda_s = \\text{diag} (\\lambda^{(s)}_1, \\dots, \\lambda^{(s)}_N)$ are diagonal matrix of eigenvalues for $A_b$ and $A_s$, respectively. Noted that both $\\Lambda_b$ and $\\Lambda_s$ are complex-valued matrix as $A_b$ and $A_s$ is asymmetric matrices; i.e., $A_b \\neq A_b^{\\dagger}$ and $A_s \\neq A_s^{\\dagger}$. \n",
    "\n"
   ]
  },
  {
   "attachments": {},
   "cell_type": "markdown",
   "metadata": {},
   "source": [
    "We define mapping\n",
    "\\begin{equation}\n",
    "\\begin{split}\n",
    "    \\Phi^{(0)}_{[\\Delta t]}(\\lambda^{(b)}_k) &= \\exp\\bigg(i\\Delta t \\lambda^{(b)}_k \\bigg)\\\\\n",
    "    \\Phi^{(1)}_{[\\Delta t]}(\\lambda^{(s)}_k) &= \\exp\\bigg(i\\Delta t \\lambda^{(s)}_k \\bigg)\n",
    "\\end{split}\n",
    "\\end{equation}\n",
    "generating the dual representations:\n",
    "\\begin{equation}\n",
    "    \\sum_{k=1}^{n} \\Phi^{(0)}_{[\\Delta t]}(\\lambda^{(b)}_k) \\otimes \\Phi^{(1)}_{[\\Delta t]}(\\lambda^{(s)}_k) =i\\Delta t \\times \\text{diag} (\\lambda^{(b)}_0 + \\lambda^{(s)}_0, \\dots, \\lambda^{(b)}_N + \\lambda^{(s)}_N) := \\Lambda(\\Phi[\\Delta t])\n",
    "\\end{equation}"
   ]
  },
  {
   "attachments": {},
   "cell_type": "markdown",
   "metadata": {},
   "source": [
    "Now, let's apply QuanAnts Machine on Multi-Modality analysis."
   ]
  },
  {
   "cell_type": "code",
   "execution_count": 2,
   "metadata": {},
   "outputs": [
    {
     "name": "stdout",
     "output_type": "stream",
     "text": [
      "402\n",
      "Graph with 402 nodes and 80601 edges\n",
      "Graph named 'Protein Interaction Graph' with 402 nodes and 3276 edges\n",
      "['TPM3', 'TIMP2', 'SMC1A', 'TG', 'ZNF384', 'EGR1', 'FKBP4', 'MCM2', 'RNF187', 'SLC39A1', 'PYCR1', 'SH3PXD2A', 'ATP2A2', 'TPX2', 'PGD', 'RCC2', 'FKBP5', 'LRP2', 'SUPT5H', 'ACADVL', 'SRXN1', 'TNS1', 'DPP4', 'ZNF319', 'LPCAT1', 'TPM4', 'PRDX4', 'LYPLA1', 'PSMB4', 'GLTSCR2', 'PLXNA1', 'USP9X', 'COL5A1', 'MCM3', 'NCAPD2', 'RRBP1', 'APH1A', 'AZIN1', 'AMD1', 'FOSB', 'PDLIM5', 'TRIM28', 'ATP1B3', 'SMARCC1', 'SUB1', 'GPX2', 'TFRC', 'MACF1', 'SRP9', 'SLC3A2', 'FTL', 'BTG2', 'PEBP1', 'PDCD4', 'MMP14', 'SLC2A1', 'PTDSS1', 'SLC25A39', 'YWHAG', 'LSM4', 'SEPT7', 'MORF4L2', 'ADAR', 'IGFBP7', 'CCNI', 'TMEM132A', 'PPAP2B', 'MDH2', 'LSR', 'RBM47', 'SPAG9', 'SDC1', 'TMSB10', 'GPX3', 'KRT17', 'MTHFD2', 'PTGES3', 'SLC25A3', 'TMPRSS4', 'S100A10', 'PPIA', 'SNRPB', 'SNRNP200', 'PDLIM1', 'SDC4', 'PSMC4', 'ARL6IP1', 'SSR3', 'TRPM4', 'SMC4', 'REEP5', 'TPI1', 'OAS1', 'TMED2', 'CD34', 'PTHLH', 'YWHAH', 'FOLH1', 'CORO1A', 'STIP1', 'MPZL1', 'PVRL1', 'SCD', 'UBA2', 'VCP', 'COL3A1', 'CD9', 'STAT1', 'UBE2Z', 'EIF3B', 'CYBRD1', 'RAB10', 'LRRK2', 'LCP1', 'CCT5', 'PTPRM', 'MKI67', 'RAD21', 'UQCRFS1', 'PAPOLA', 'STMN1', 'CTSB', 'RAI14', 'MCM4', 'ENG', 'PARP1', 'SLC39A7', 'DNAJB1', 'VAPA', 'STRAP', 'LRPPRC', 'UPF1', 'LY6E', 'SMARCA4', 'POFUT1', 'TUBB3', 'MCM7', 'TRIM29', 'PERP', 'PA2G4', 'NME2', 'SSR1', 'EEF1A1', 'PSME3', 'SCPEP1', 'COL1A2', 'SRCAP', 'CNDP2', 'UBAP2L', 'CAPS', 'SGPL1', 'PSMA6', 'YWHAB', 'RPL8', 'ST3GAL1', 'NRP1', 'CCT6A', 'NASP', 'SHMT2', 'NACC1', 'PSMD2', 'PLEC', 'NDUFS2', 'NME1', 'SLC25A5', 'UBR5', 'SHC1', 'TNK2', 'PAX8', 'PSMD8', 'EIF3L', 'TBL1XR1', 'HSPD1', 'RPN2', 'SET', 'ACPP', 'DUSP1', 'MTSS1', 'RTN4', 'KPNB1', 'PCNA', 'SYNCRIP', 'UBA1', 'PSMD4', 'RPN1', 'RDH11', 'UBC', 'UCHL1', 'M6PR', 'U2AF2', 'SF3B3', 'SLC4A4', 'PLXNB2', 'ZNF395', 'HSP90AB1', 'DDX17', 'USP11', 'PPIF', 'TUBB6', 'VAT1', 'ILF2', 'MSX1', 'NKX3-1', 'USP7', 'CLU', 'PAICS', 'RPL38', 'XRCC5', 'CCT3', 'KDELR2', 'CEACAM6', 'SCRN1', 'RBM38', 'PIM1', 'SF3B2', 'PLP2', 'GAPDH', 'STK24', 'ATP2A3', 'SLC44A1', 'NDUFB9', 'SLC9A3R1', 'MPO', 'LTBP3', 'UBE2L6', 'SHISA5', 'GPNMB', 'SOD1', 'MARS', 'WNK1', 'YBX1', 'SERPINH1', 'PUF60', 'SLC38A1', 'TOP1', 'PABPC1', 'NAA50', 'NOP56', 'ARPC1B', 'UTRN', 'IGF2', 'MARCKS', 'NET1', 'GPI', 'YWHAZ', 'OAT', 'F11R', 'STAU1', 'TAP2', 'C4A', 'CYR61', 'COL5A2', 'HUWE1', 'AKR1C1', 'UQCRC1', 'TRAM1', 'SSRP1', 'SDHA', 'MEST', 'S100A11', 'ZNF217', 'RBPMS', 'PSMA2', 'YWHAQ', 'EIF4G1', 'LDHB', 'SLC3A1', 'SLC29A1', 'RNPS1', 'SORD', 'TOMM20', 'TMED9', 'NPLOC4', 'MLF2', 'COL1A1', 'FLT1', 'PVRL4', 'YME1L1', 'PTPRC', 'SLC44A2', 'SLC38A2', 'PRKCI', 'CRABP2', 'UBE2V1', 'PRKDC', 'SLC45A3', 'CBX3', 'ARHGDIB', 'PPP1CC', 'SEMA4B', 'RPL27', 'PHB2', 'GABARAP', 'PAM', 'TSPAN1', 'TKT', 'NPC2', 'TUBA1B', 'JUP', 'PLVAP', 'OAS3', 'CD74', 'GPC1', 'TNFRSF21', 'PGK1', 'RPL30', 'TAX1BP1', 'TOP2A', 'MSH6', 'TFDP1', 'LRRC59', 'FOS', 'TM4SF1', 'NDFIP1', 'TPR', 'LAMB3', 'PDAP1', 'ZNF280D', 'SQSTM1', 'PEG10', 'FSCN1', 'SURF4', 'RANGAP1', 'SREBF2', 'TXNRD1', 'PFKM', 'CALU', 'SLC7A5', 'PTPN12', 'PAK2', 'MYBL2', 'GNB2L1', 'ERGIC1', 'XPO1', 'XRCC6', 'TXN', 'RPS21', 'CIRBP', 'ASPH', 'SNCG', 'NOC2L', 'RSL1D1', 'HDGF', 'RPL37', 'RAPGEFL1', 'MAPRE1', 'HSP90AA1', 'TUBA4A', 'HERPUD1', 'DST', 'TP63', 'SUMO2', 'PBXIP1', 'NAV1', 'CCT2', 'SNRPD2', 'APLP2', 'LAPTM4B', 'NOLC1', 'LONRF2', 'TUFM', 'STEAP2', 'TCP1', 'ABCC5', 'BCAP31', 'AES', 'PPAP2A', 'PSMB5', 'NLRP2', 'ZNF350', 'COL7A1', 'CAT', 'EIF4B', 'SPINT2', 'PFN2', 'RPL35A', 'PDK4', 'CCT4', 'TXNDC5', 'TARDBP', 'PSMA7', 'PER1', 'HMGB3', 'COL6A3', 'SUPT16H', 'PXDN', 'SCNN1A', 'MYH11', 'TNKS1BP1', 'SFPQ', 'RPS16', 'VDAC1', 'MAOA', 'TM9SF4', 'CUBN', 'SEC61A1', 'PROS1', 'METTL7A', 'ZNF281', 'TCF7', 'ZNF473', 'PHB']\n",
      "['M6PR', 'CLU', 'TXNDC5', 'CTSB', 'TFRC', 'IGF2', 'FKBP4', 'GAPDH', 'SYNCRIP', 'UPF1', 'PDAP1', 'PPIF', 'PPIA', 'ATP1B3', 'GNB2L1', 'DNAJB1', 'FKBP5', 'STIP1', 'HSP90AB1', 'PTGES3', 'HSP90AA1', 'PDK4', 'LRRK2', 'LDHB', 'SCD', 'PFKM', 'SLC2A1', 'ACADVL', 'TMEM132A', 'SSR3', 'CD74', 'GPX3', 'TPM3', 'SDC4', 'KDELR2', 'PTPRC', 'LCP1', 'HERPUD1', 'PSMC4', 'TUBB3', 'YWHAZ', 'YME1L1', 'TUBA1B', 'RPL27', 'CCT6A', 'TCP1', 'RPL30', 'RPS16', 'HSPD1', 'CCT3', 'CCT2', 'EEF1A1', 'RPL38', 'CCT4', 'CCT5', 'SOD1', 'RPL8', 'PAK2', 'PSME3', 'EIF4G1', 'PABPC1', 'VCP', 'UBC', 'PSMD8', 'PSMA7', 'PSMA2', 'PSMB4', 'PSMD2', 'PSMB5', 'PSMD4', 'PSMA6', 'TNS1', 'SHC1', 'PDCD4', 'NOLC1', 'CEACAM6', 'DPP4', 'SCNN1A', 'UQCRC1', 'PGK1', 'TOMM20', 'TPI1', 'PHB', 'RTN4', 'COL7A1', 'SLC25A5', 'VDAC1', 'SLC25A3', 'TUFM', 'MDH2', 'PHB2', 'SDHA', 'NDUFS2', 'NDUFB9', 'UQCRFS1', 'MLF2', 'SUB1', 'TM9SF4', 'EIF3B', 'KPNB1', 'SNRPB', 'UBA1', 'SNRPD2', 'EIF3L', 'TXN', 'PAPOLA', 'CIRBP', 'SUPT5H', 'PDLIM5', 'RNPS1', 'PPP1CC', 'U2AF2', 'SUPT16H', 'RAD21', 'SFPQ', 'CBX3', 'SMC1A', 'SUMO2', 'XRCC5', 'PARP1', 'TRIM28', 'RBM47', 'TOP2A', 'UBR5', 'NASP', 'XRCC6', 'MSH6', 'MCM7', 'MCM4', 'MCM3', 'MCM2', 'HMGB3', 'TOP1', 'SMARCC1', 'SMARCA4', 'SSRP1', 'MYBL2', 'SNRNP200', 'SHMT2', 'PAICS', 'SF3B3', 'ZNF217', 'SF3B2', 'TPX2', 'MKI67', 'TFDP1', 'USP11', 'UCHL1', 'HUWE1', 'EIF4B', 'USP7', 'CORO1A', 'MEST', 'ARHGDIB', 'ARPC1B', 'TG', 'CAT', 'PAX8', 'LRP2', 'AES', 'TCF7', 'PEG10', 'RPS21', 'LSM4', 'NAA50', 'SRXN1', 'MARS', 'PA2G4', 'SEC61A1', 'UBA2', 'RPL35A', 'RPN1', 'RPN2', 'S100A10', 'PROS1', 'RRBP1', 'PEBP1', 'NME1', 'NME2', 'CD34', 'TBL1XR1', 'MPO', 'FOS', 'GPX2', 'SDC1', 'ENG', 'COL1A1', 'IGFBP7', 'EGR1', 'PTHLH', 'PXDN', 'MYH11', 'CYR61', 'ZNF384', 'MMP14', 'TIMP2', 'COL6A3', 'SERPINH1', 'COL5A1', 'COL5A2', 'COL3A1', 'COL1A2', 'LRRC59', 'TMED9', 'YBX1', 'RAB10', 'GPI', 'OAS3', 'LY6E', 'UBE2L6', 'OAS1', 'ADAR', 'STAT1', 'TXNRD1', 'NRP1', 'MSX1', 'YWHAH', 'STAU1', 'TPR', 'STMN1', 'FTL', 'KRT17', 'SORD', 'TUBB6', 'PRDX4', 'PRKDC', 'PRKCI', 'DUSP1', 'TUBA4A', 'YWHAQ', 'TARDBP', 'FLT1', 'PCNA', 'JUP', 'SREBF2', 'CD9', 'ATP2A2', 'XPO1', 'YWHAG', 'ILF2', 'GABARAP', 'YWHAB', 'SQSTM1', 'PGD', 'SET', 'TKT', 'OAT', 'TMSB10', 'GPNMB', 'NCAPD2', 'ASPH', 'REEP5', 'SMC4', 'SURF4', 'SLC39A7', 'SSR1', 'TRAM1', 'CCNI', 'SRP9', 'TM4SF1', 'FOSB', 'BTG2', 'PFN2', 'USP9X', 'DDX17', 'VAPA', 'RPL37', 'CRABP2', 'VAT1', 'MAOA', 'SLC9A3R1', 'TMED2', 'ARL6IP1', 'NPLOC4', 'BCAP31', 'ZNF350', 'SEPT7', 'SNCG', 'RANGAP1', 'GLTSCR2', 'NOP56', 'NOC2L', 'RSL1D1', 'MAPRE1', 'PTPN12', 'SH3PXD2A', 'STK24', 'PLEC', 'PLVAP', 'TRPM4', 'TRIM29', 'NDFIP1', 'SRCAP', 'PDLIM1', 'SLC38A2', 'SLC3A1', 'SLC3A2', 'SLC7A5', 'SLC38A1', 'FOLH1', 'STEAP2', 'SLC45A3', 'NKX3-1', 'ERGIC1', 'HDGF', 'PUF60', 'LRPPRC', 'SGPL1', 'MTHFD2', 'SLC29A1', 'LAPTM4B', 'SPAG9', 'RCC2', 'APLP2', 'ZNF281', 'SCPEP1', 'MORF4L2', 'SLC4A4', 'APH1A', 'TNFRSF21', 'GPC1', 'CUBN', 'PVRL1', 'MACF1', 'PVRL4', 'RAPGEFL1', 'NET1', 'PBXIP1', 'MARCKS', 'TP63', 'RBM38', 'PERP', 'PPAP2A', 'LPCAT1', 'SEMA4B', 'PLXNB2', 'PLXNA1', 'ZNF280D', 'S100A11', 'STRAP', 'MTSS1', 'LYPLA1', 'PTDSS1', 'ATP2A3', 'SLC25A39', 'UBE2Z', 'UBE2V1', 'TNKS1BP1', 'NACC1', 'ZNF395', 'AZIN1', 'ST3GAL1', 'F11R', 'SHISA5', 'RAI14', 'LONRF2', 'ZNF319', 'SPINT2', 'TMPRSS4', 'LTBP3', 'LAMB3', 'TSPAN1', 'PAM', 'LSR', 'RNF187', 'PIM1', 'TAX1BP1', 'DST', 'UBAP2L', 'UTRN', 'PER1', 'C4A', 'PLP2', 'CYBRD1', 'SLC39A1', 'ACPP', 'CNDP2', 'AMD1', 'PYCR1', 'ABCC5', 'TNK2', 'FSCN1', 'SLC44A2', 'RBPMS', 'WNK1', 'ZNF473', 'TPM4', 'SCRN1', 'NPC2', 'CALU', 'MPZL1', 'PTPRM', 'TAP2', 'NAV1', 'RDH11', 'METTL7A', 'PPAP2B', 'SLC44A1', 'POFUT1', 'AKR1C1', 'NLRP2', 'CAPS']\n",
      "(402, 402)\n",
      "(402, 402)\n",
      "        ABCC5    ACADVL      ACPP      ADAR       AES    AKR1C1      AMD1  \\\n",
      "0    0.741406  0.776164  0.744658  0.714609  0.760653  0.774183  0.773450   \n",
      "1    0.766877  0.766980  0.763761  0.797516  0.749530  0.769723  0.791152   \n",
      "2    0.732534  0.789420  0.783415  0.733042  0.772655  0.771330  0.757833   \n",
      "3    0.761614  0.782362  0.766030  0.800967  0.790794  0.764940  0.797058   \n",
      "4    0.802256  0.783094  0.799684  0.785837  0.793481  0.765954  0.806013   \n",
      "..        ...       ...       ...       ...       ...       ...       ...   \n",
      "397  0.763820  0.798358  0.770130  0.788978  0.775675  0.787526  0.779476   \n",
      "398  0.777197  0.757543  0.762460  0.736191  0.754276  0.779334  0.753797   \n",
      "399  0.799055  0.804777  0.788069  0.797498  0.803499  0.797939  0.804130   \n",
      "400  0.767266  0.775570  0.756990  0.758702  0.788932  0.776698  0.766594   \n",
      "401  0.829228  0.809199  0.821768  0.828195  0.819188  0.826555  0.818788   \n",
      "\n",
      "        APH1A     APLP2   ARHGDIB  ...     YWHAQ     YWHAZ    ZNF217  \\\n",
      "0    0.769385  0.777038  0.760002  ...  0.576861  0.494938  0.717207   \n",
      "1    0.797375  0.775768  0.772348  ...  0.779209  0.820415  0.784465   \n",
      "2    0.788791  0.768918  0.780804  ...  0.544329  0.583331  0.759279   \n",
      "3    0.800220  0.764998  0.792072  ...  0.826270  0.844466  0.794166   \n",
      "4    0.806551  0.815611  0.798984  ...  0.922650  0.934988  0.712147   \n",
      "..        ...       ...       ...  ...       ...       ...       ...   \n",
      "397  0.806667  0.773776  0.772295  ...  0.765638  0.730226  0.789433   \n",
      "398  0.774074  0.773120  0.768655  ...  0.742605  0.748482  0.658524   \n",
      "399  0.814622  0.796944  0.787575  ...  0.737155  0.686404  0.788178   \n",
      "400  0.756949  0.770141  0.788932  ...  0.757983  0.754207  0.681366   \n",
      "401  0.803703  0.823569  0.813760  ...  0.841687  0.846017  0.836397   \n",
      "\n",
      "      ZNF280D    ZNF281    ZNF319    ZNF350    ZNF384    ZNF395    ZNF473  \n",
      "0    0.778101  0.750844  0.757075  0.758660  0.770302  0.766561  0.753780  \n",
      "1    0.783894  0.768545  0.775708  0.763179  0.783729  0.777980  0.777142  \n",
      "2    0.771313  0.710904  0.760259  0.773932  0.760261  0.777994  0.736392  \n",
      "3    0.767835  0.765206  0.715893  0.761324  0.767830  0.766589  0.779241  \n",
      "4    0.653919  0.703619  0.664616  0.681609  0.000000  0.651046  0.595176  \n",
      "..        ...       ...       ...       ...       ...       ...       ...  \n",
      "397  0.793018  0.773890  0.771467  0.773629  0.805789  0.802892  0.785881  \n",
      "398  0.681773  0.000000  0.738716  0.738689  0.703619  0.732957  0.678809  \n",
      "399  0.809924  0.804539  0.811779  0.830357  0.810637  0.821040  0.773017  \n",
      "400  0.666247  0.678809  0.715817  0.679594  0.595176  0.664483  0.000000  \n",
      "401  0.825393  0.848284  0.838620  0.838092  0.836228  0.829902  0.835215  \n",
      "\n",
      "[402 rows x 402 columns]\n",
      "     ABCC5  ACADVL  ACPP  ADAR  AES  AKR1C1  AMD1  APH1A     APLP2  ARHGDIB  \\\n",
      "0      0.0     0.0   0.0   0.0  0.0     0.0   0.0    0.0  0.000000      0.0   \n",
      "1      0.0     0.0   0.0   0.0  0.0     0.0   0.0    0.0  0.000000      0.0   \n",
      "2      0.0     0.0   0.0   0.0  0.0     0.0   0.0    0.0  0.000000      0.0   \n",
      "3      0.0     0.0   0.0   0.0  0.0     0.0   0.0    0.0  0.510511      0.0   \n",
      "4      0.0     0.0   0.0   0.0  0.0     0.0   0.0    0.0  0.460460      0.0   \n",
      "..     ...     ...   ...   ...  ...     ...   ...    ...       ...      ...   \n",
      "397    0.0     0.0   0.0   0.0  0.0     0.0   0.0    0.0  0.000000      0.0   \n",
      "398    0.0     0.0   0.0   0.0  0.0     0.0   0.0    0.0  0.000000      0.0   \n",
      "399    0.0     0.0   0.0   0.0  0.0     0.0   0.0    0.0  0.000000      0.0   \n",
      "400    0.0     0.0   0.0   0.0  0.0     0.0   0.0    0.0  0.000000      0.0   \n",
      "401    0.0     0.0   0.0   0.0  0.0     0.0   0.0    0.0  0.000000      0.0   \n",
      "\n",
      "     ...  YWHAQ  YWHAZ  ZNF217  ZNF280D  ZNF281  ZNF319  ZNF350  ZNF384  \\\n",
      "0    ...    0.0    0.0     0.0      0.0     0.0     0.0     0.0     0.0   \n",
      "1    ...    0.0    0.0     0.0      0.0     0.0     0.0     0.0     0.0   \n",
      "2    ...    0.0    0.0     0.0      0.0     0.0     0.0     0.0     0.0   \n",
      "3    ...    0.0    0.0     0.0      0.0     0.0     0.0     0.0     0.0   \n",
      "4    ...    0.0    0.0     0.0      0.0     0.0     0.0     0.0     0.0   \n",
      "..   ...    ...    ...     ...      ...     ...     ...     ...     ...   \n",
      "397  ...    0.0    0.0     0.0      0.0     0.0     0.0     0.0     0.0   \n",
      "398  ...    0.0    0.0     0.0      0.0     0.0     0.0     0.0     0.0   \n",
      "399  ...    0.0    0.0     0.0      0.0     0.0     0.0     0.0     0.0   \n",
      "400  ...    0.0    0.0     0.0      0.0     0.0     0.0     0.0     0.0   \n",
      "401  ...    0.0    0.0     0.0      0.0     0.0     0.0     0.0     0.0   \n",
      "\n",
      "     ZNF395  ZNF473  \n",
      "0       0.0     0.0  \n",
      "1       0.0     0.0  \n",
      "2       0.0     0.0  \n",
      "3       0.0     0.0  \n",
      "4       0.0     0.0  \n",
      "..      ...     ...  \n",
      "397     0.0     0.0  \n",
      "398     0.0     0.0  \n",
      "399     0.0     0.0  \n",
      "400     0.0     0.0  \n",
      "401     0.0     0.0  \n",
      "\n",
      "[402 rows x 402 columns]\n",
      "[ 3.09665279e+02+0.j         -4.44447652e+00+0.j\n",
      " -1.58895384e+00+0.j          5.51165223e-01+1.36771201j\n",
      "  5.51165223e-01-1.36771201j  1.30109073e+00+0.21192051j\n",
      "  1.30109073e+00-0.21192051j  8.39313975e-01+0.81295606j\n",
      "  8.39313975e-01-0.81295606j -4.93236974e-01+1.01887102j\n",
      " -4.93236974e-01-1.01887102j -1.93706778e-01+1.08991273j\n",
      " -1.93706778e-01-1.08991273j -1.00551692e+00+0.44361138j\n",
      " -1.00551692e+00-0.44361138j -9.58140792e-01+0.j\n",
      " -7.31911337e-01+0.5216898j  -7.31911337e-01-0.5216898j\n",
      " -8.03146055e-01+0.34928823j -8.03146055e-01-0.34928823j\n",
      "  4.80329138e-01+0.7694749j   4.80329138e-01-0.7694749j\n",
      "  2.73753150e-01+0.85055253j  2.73753150e-01-0.85055253j\n",
      "  8.75590561e-01+0.j          4.74218656e-01+0.71762831j\n",
      "  4.74218656e-01-0.71762831j  7.34235126e-01+0.4526829j\n",
      "  7.34235126e-01-0.4526829j  -7.97766912e-01+0.27067835j\n",
      " -7.97766912e-01-0.27067835j -3.76917758e-02+0.83582051j\n",
      " -3.76917758e-02-0.83582051j -2.51309399e-01+0.78574193j\n",
      " -2.51309399e-01-0.78574193j -5.12679747e-01+0.62601529j\n",
      " -5.12679747e-01-0.62601529j -6.14025555e-01+0.5209058j\n",
      " -6.14025555e-01-0.5209058j   8.19299410e-01+0.j\n",
      " -1.30100603e-01+0.78038362j -1.30100603e-01-0.78038362j\n",
      "  7.39668692e-01+0.30070326j  7.39668692e-01-0.30070326j\n",
      "  7.20284270e-02+0.77340482j  7.20284270e-02-0.77340482j\n",
      "  7.66559656e-01+0.j          6.63824072e-01+0.35722714j\n",
      "  6.63824072e-01-0.35722714j  4.87657179e-01+0.56038165j\n",
      "  4.87657179e-01-0.56038165j -7.36283821e-01+0.06241891j\n",
      " -7.36283821e-01-0.06241891j  6.75449240e-01+0.27473146j\n",
      "  6.75449240e-01-0.27473146j  7.09792091e-01+0.06484861j\n",
      "  7.09792091e-01-0.06484861j  6.88511085e-01+0.11317218j\n",
      "  6.88511085e-01-0.11317218j  5.66484107e-01+0.3811884j\n",
      "  5.66484107e-01-0.3811884j   3.73128247e-01+0.59889717j\n",
      "  3.73128247e-01-0.59889717j  2.77377773e-01+0.65310803j\n",
      "  2.77377773e-01-0.65310803j -5.75155479e-01+0.43887921j\n",
      " -5.75155479e-01-0.43887921j -6.19303184e-01+0.35883266j\n",
      " -6.19303184e-01-0.35883266j -2.34619451e-01+0.68131656j\n",
      " -2.34619451e-01-0.68131656j -3.94835313e-01+0.58440727j\n",
      " -3.94835313e-01-0.58440727j -2.91406961e-01+0.6468536j\n",
      " -2.91406961e-01-0.6468536j  -1.79055327e-01+0.68575612j\n",
      " -1.79055327e-01-0.68575612j -6.40078876e-01+0.28426653j\n",
      " -6.40078876e-01-0.28426653j -6.50985507e-01+0.23888273j\n",
      " -6.50985507e-01-0.23888273j -6.75052234e-01+0.13179063j\n",
      " -6.75052234e-01-0.13179063j -6.97590820e-02+0.67784179j\n",
      " -6.97590820e-02-0.67784179j  3.59433313e-01+0.56100513j\n",
      "  3.59433313e-01-0.56100513j  2.93637595e-01+0.60071846j\n",
      "  2.93637595e-01-0.60071846j  1.07004227e-01+0.66053406j\n",
      "  1.07004227e-01-0.66053406j -6.74941678e-01+0.01151445j\n",
      " -6.74941678e-01-0.01151445j -3.78649271e-01+0.54535683j\n",
      " -3.78649271e-01-0.54535683j -4.69765939e-01+0.44700742j\n",
      " -4.69765939e-01-0.44700742j -3.46501449e-01+0.55194857j\n",
      " -3.46501449e-01-0.55194857j  6.16984404e-01+0.22167289j\n",
      "  6.16984404e-01-0.22167289j  5.04531163e-01+0.4197983j\n",
      "  5.04531163e-01-0.4197983j   5.76927953e-01+0.28421298j\n",
      "  5.76927953e-01-0.28421298j  3.89506132e-01+0.51272389j\n",
      "  3.89506132e-01-0.51272389j  4.43317419e-01+0.46041425j\n",
      "  4.43317419e-01-0.46041425j  5.30233497e-01+0.3161263j\n",
      "  5.30233497e-01-0.3161263j   1.80064534e-01+0.60805193j\n",
      "  1.80064534e-01-0.60805193j -1.29941364e-01+0.63030288j\n",
      " -1.29941364e-01-0.63030288j -6.22793943e-01+0.12393443j\n",
      " -6.22793943e-01-0.12393443j -6.23932429e-01+0.j\n",
      " -5.43025420e-01+0.30759642j -5.43025420e-01-0.30759642j\n",
      " -3.77499140e-01+0.50764561j -3.77499140e-01-0.50764561j\n",
      " -2.58777828e-01+0.5735435j  -2.58777828e-01-0.5735435j\n",
      " -8.91130818e-02+0.62048326j -8.91130818e-02-0.62048326j\n",
      "  9.44533100e-02+0.61146309j  9.44533100e-02-0.61146309j\n",
      " -4.49100070e-01+0.41678716j -4.49100070e-01-0.41678716j\n",
      " -6.04769519e-01+0.04974861j -6.04769519e-01-0.04974861j\n",
      "  1.52079652e-02+0.60657241j  1.52079652e-02-0.60657241j\n",
      " -1.77929799e-01+0.57279312j -1.77929799e-01-0.57279312j\n",
      "  1.61527166e-01+0.57789876j  1.61527166e-01-0.57789876j\n",
      "  2.42810603e-01+0.54849166j  2.42810603e-01-0.54849166j\n",
      "  5.19220146e-01+0.30266357j  5.19220146e-01-0.30266357j\n",
      "  3.78470873e-01+0.45764275j  3.78470873e-01-0.45764275j\n",
      " -5.39155324e-01+0.22676925j -5.39155324e-01-0.22676925j\n",
      " -4.97358708e-01+0.31168745j -4.97358708e-01-0.31168745j\n",
      " -4.42962099e-01+0.37737058j -4.42962099e-01-0.37737058j\n",
      "  3.58333914e-01+0.45828115j  3.58333914e-01-0.45828115j\n",
      "  5.86977083e-01+0.05811894j  5.86977083e-01-0.05811894j\n",
      "  5.84333307e-01+0.03066865j  5.84333307e-01-0.03066865j\n",
      "  5.57042685e-01+0.16878245j  5.57042685e-01-0.16878245j\n",
      "  5.69030585e-01+0.10559487j  5.69030585e-01-0.10559487j\n",
      "  5.65327260e-01+0.08397269j  5.65327260e-01-0.08397269j\n",
      " -5.62529272e-01+0.14865307j -5.62529272e-01-0.14865307j\n",
      "  3.96425421e-01+0.41455464j  3.96425421e-01-0.41455464j\n",
      " -3.85115437e-01+0.43194345j -3.85115437e-01-0.43194345j\n",
      " -2.44265682e-01+0.52413393j -2.44265682e-01-0.52413393j\n",
      "  4.44422161e-01+0.35533714j  4.44422161e-01-0.35533714j\n",
      "  5.27042008e-01+0.20102149j  5.27042008e-01-0.20102149j\n",
      "  2.00111261e-01+0.52868891j  2.00111261e-01-0.52868891j\n",
      " -4.51549541e-01+0.34272437j -4.51549541e-01-0.34272437j\n",
      " -5.73404633e-01+0.0643257j  -5.73404633e-01-0.0643257j\n",
      " -5.58655600e-01+0.j          4.83987245e-01+0.27584247j\n",
      "  4.83987245e-01-0.27584247j  4.50040794e-01+0.31506062j\n",
      "  4.50040794e-01-0.31506062j  8.71731780e-02+0.55822721j\n",
      "  8.71731780e-02-0.55822721j  1.57587241e-01+0.53173567j\n",
      "  1.57587241e-01-0.53173567j -2.54155291e-02+0.56114249j\n",
      " -2.54155291e-02-0.56114249j -3.00522958e-01+0.47685883j\n",
      " -3.00522958e-01-0.47685883j -3.79899650e-01+0.40278977j\n",
      " -3.79899650e-01-0.40278977j -4.96101039e-01+0.23068339j\n",
      " -4.96101039e-01-0.23068339j -1.78106398e-01+0.52206719j\n",
      " -1.78106398e-01-0.52206719j -3.39287537e-01+0.43386894j\n",
      " -3.39287537e-01-0.43386894j  3.41966573e-01+0.41279708j\n",
      "  3.41966573e-01-0.41279708j -9.58220599e-02+0.53903708j\n",
      " -9.58220599e-02-0.53903708j -4.93281312e-02+0.54278899j\n",
      " -4.93281312e-02-0.54278899j  4.08132792e-01+0.34593364j\n",
      "  4.08132792e-01-0.34593364j  4.88391217e-01+0.19672065j\n",
      "  4.88391217e-01-0.19672065j  4.73815883e-01+0.22822189j\n",
      "  4.73815883e-01-0.22822189j  2.79402663e-01+0.4444878j\n",
      "  2.79402663e-01-0.4444878j  -4.67180666e-01+0.2528475j\n",
      " -4.67180666e-01-0.2528475j  -5.11063591e-01+0.1515832j\n",
      " -5.11063591e-01-0.1515832j  -1.92714666e-01+0.49684739j\n",
      " -1.92714666e-01-0.49684739j -2.78495865e-01+0.45439653j\n",
      " -2.78495865e-01-0.45439653j  1.93469856e-01+0.48861905j\n",
      "  1.93469856e-01-0.48861905j -1.26395235e-01+0.5131121j\n",
      " -1.26395235e-01-0.5131121j  -4.86323766e-01+0.1967436j\n",
      " -4.86323766e-01-0.1967436j  -5.11881846e-01+0.11550293j\n",
      " -5.11881846e-01-0.11550293j  3.36366090e-01+0.38939272j\n",
      "  3.36366090e-01-0.38939272j  4.34488047e-01+0.27599298j\n",
      "  4.34488047e-01-0.27599298j  1.00357956e-01+0.50980541j\n",
      "  1.00357956e-01-0.50980541j -5.17905471e-01+0.01466319j\n",
      " -5.17905471e-01-0.01466319j  4.95258630e-01+0.0907189j\n",
      "  4.95258630e-01-0.0907189j   2.36252293e-01+0.45093468j\n",
      "  2.36252293e-01-0.45093468j  6.53004795e-03+0.51922325j\n",
      "  6.53004795e-03-0.51922325j  5.06718626e-01+0.j\n",
      " -4.45553719e-01+0.23773134j -4.45553719e-01-0.23773134j\n",
      " -3.49322581e-01+0.36979728j -3.49322581e-01-0.36979728j\n",
      " -2.50942738e-01+0.44571913j -2.50942738e-01-0.44571913j\n",
      "  1.95965631e-01+0.46409616j  1.95965631e-01-0.46409616j\n",
      "  4.99117697e-01+0.j          3.95084781e-01+0.28154882j\n",
      "  3.95084781e-01-0.28154882j  4.25896721e-01+0.23299691j\n",
      "  4.25896721e-01-0.23299691j -4.77622813e-02+0.49847244j\n",
      " -4.77622813e-02-0.49847244j  2.19454045e-02+0.49568666j\n",
      "  2.19454045e-02-0.49568666j -3.85426270e-01+0.3027538j\n",
      " -3.85426270e-01-0.3027538j  -3.55978653e-01+0.33720017j\n",
      " -3.55978653e-01-0.33720017j -2.32451330e-01+0.43251304j\n",
      " -2.32451330e-01-0.43251304j  4.78341539e-01+0.04212964j\n",
      "  4.78341539e-01-0.04212964j  3.27038222e-02+0.48845689j\n",
      "  3.27038222e-02-0.48845689j  2.73593401e-01+0.39139441j\n",
      "  2.73593401e-01-0.39139441j  3.32177557e-01+0.34039031j\n",
      "  3.32177557e-01-0.34039031j  4.56499414e-01+0.13482455j\n",
      "  4.56499414e-01-0.13482455j -4.82957598e-01+0.06406794j\n",
      " -4.82957598e-01-0.06406794j -1.06003230e-01+0.47725371j\n",
      " -1.06003230e-01-0.47725371j -3.79747236e-01+0.29015575j\n",
      " -3.79747236e-01-0.29015575j  1.29614356e-01+0.46157496j\n",
      "  1.29614356e-01-0.46157496j  4.21420776e-01+0.19709604j\n",
      "  4.21420776e-01-0.19709604j  2.49431212e-01+0.3942656j\n",
      "  2.49431212e-01-0.3942656j  -2.29812208e-01+0.41083701j\n",
      " -2.29812208e-01-0.41083701j -3.01190060e-01+0.36247363j\n",
      " -3.01190060e-01-0.36247363j  4.54140531e-01+0.05882311j\n",
      "  4.54140531e-01-0.05882311j  1.58342353e-01+0.43971005j\n",
      "  1.58342353e-01-0.43971005j  2.14880479e-01+0.4074706j\n",
      "  2.14880479e-01-0.4074706j   4.30253230e-01+0.11331943j\n",
      "  4.30253230e-01-0.11331943j -9.03821038e-02+0.45746957j\n",
      " -9.03821038e-02-0.45746957j  6.78247890e-02+0.45382319j\n",
      "  6.78247890e-02-0.45382319j -4.25470213e-01+0.16549257j\n",
      " -4.25470213e-01-0.16549257j -4.48701093e-01+0.08156892j\n",
      " -4.48701093e-01-0.08156892j -4.33251768e-01+0.13769481j\n",
      " -4.33251768e-01-0.13769481j -2.37996873e-02+0.45920005j\n",
      " -2.37996873e-02-0.45920005j -4.47939281e-01+0.02847707j\n",
      " -4.47939281e-01-0.02847707j -4.06870498e-01+0.17787386j\n",
      " -4.06870498e-01-0.17787386j -1.65490281e-01+0.40326829j\n",
      " -1.65490281e-01-0.40326829j  1.59657165e-01+0.41622082j\n",
      "  1.59657165e-01-0.41622082j  6.84633938e-02+0.42959375j\n",
      "  6.84633938e-02-0.42959375j -1.72207777e-01+0.39170057j\n",
      " -1.72207777e-01-0.39170057j  3.84492886e-01+0.17792922j\n",
      "  3.84492886e-01-0.17792922j  3.20320529e-01+0.28742376j\n",
      "  3.20320529e-01-0.28742376j  4.20176382e-01+0.07531091j\n",
      "  4.20176382e-01-0.07531091j  4.29207421e-01+0.01167402j\n",
      "  4.29207421e-01-0.01167402j  3.92968956e-01+0.1307378j\n",
      "  3.92968956e-01-0.1307378j   3.34543916e-01+0.25138565j\n",
      "  3.34543916e-01-0.25138565j -2.64631432e-01+0.33635851j\n",
      " -2.64631432e-01-0.33635851j -1.18979857e-02+0.4273359j\n",
      " -1.18979857e-02-0.4273359j   3.97423277e-01+0.j\n",
      "  1.44158463e-01+0.38239578j  1.44158463e-01-0.38239578j\n",
      "  2.17312602e-01+0.33114427j  2.17312602e-01-0.33114427j\n",
      " -2.80844901e-01+0.30458393j -2.80844901e-01-0.30458393j\n",
      " -4.08065321e-01+0.09988604j -4.08065321e-01-0.09988604j\n",
      " -3.26496790e-01+0.24206889j -3.26496790e-01-0.24206889j\n",
      " -3.57784506e-01+0.19007232j -3.57784506e-01-0.19007232j\n",
      " -5.37569018e-02+0.40624799j -5.37569018e-02-0.40624799j\n",
      " -3.58668542e-01+0.16561642j -3.58668542e-01-0.16561642j\n",
      " -2.85043148e-01+0.25405001j -2.85043148e-01-0.25405001j\n",
      " -8.58994937e-02+0.39678214j -8.58994937e-02-0.39678214j\n",
      " -2.24492270e-01+0.31090182j -2.24492270e-01-0.31090182j\n",
      "  4.72036814e-02+0.3823115j   4.72036814e-02-0.3823115j\n",
      "  2.49938286e-01+0.27413818j  2.49938286e-01-0.27413818j\n",
      "  2.88515240e-01+0.24667446j  2.88515240e-01-0.24667446j\n",
      "  1.12262879e-01+0.34821447j  1.12262879e-01-0.34821447j\n",
      " -3.88763910e-01+0.j          2.04791578e-01+0.27668549j\n",
      "  2.04791578e-01-0.27668549j -1.07884190e-01+0.29700893j\n",
      " -1.07884190e-01-0.29700893j -1.57717342e-01+0.27621042j\n",
      " -1.57717342e-01-0.27621042j -3.48199327e-01+0.j\n",
      " -3.10592941e-01+0.09318572j -3.10592941e-01-0.09318572j\n",
      " -2.07917741e-01+0.20118905j -2.07917741e-01-0.20118905j\n",
      "  6.01849914e-02+0.27516864j  6.01849914e-02-0.27516864j\n",
      "  3.16164262e-01+0.10196531j  3.16164262e-01-0.10196531j\n",
      "  1.62619917e-01+0.22144157j  1.62619917e-01-0.22144157j\n",
      "  3.66591223e-01+0.j          3.36626153e-01+0.j\n",
      "  2.96985675e-01+0.j         -3.03509639e-01+0.05062435j\n",
      " -3.03509639e-01-0.05062435j  2.89158839e-02+0.j\n",
      " -4.73321098e-02+0.17622692j -4.73321098e-02-0.17622692j\n",
      " -3.43192515e-02+0.j         -2.91642117e-01+0.j        ] [[-0.04574638+0.j          0.04853893+0.j          0.00478921+0.j\n",
      "  ...  0.01024586+0.0016594j  -0.02395763+0.j\n",
      "   0.01313026+0.j        ]\n",
      " [-0.05089116+0.j         -0.00428214+0.j         -0.06119499+0.j\n",
      "  ...  0.00889753+0.01220596j  0.01107595+0.j\n",
      "   0.00503322+0.j        ]\n",
      " [-0.04627835+0.j          0.06074991+0.j         -0.04851993+0.j\n",
      "  ...  0.04612183+0.0403322j   0.01064034+0.j\n",
      "  -0.00929786+0.j        ]\n",
      " ...\n",
      " [-0.0494094 +0.j          0.01983212+0.j          0.04335858+0.j\n",
      "  ... -0.00138656+0.00976928j -0.04637314+0.j\n",
      "  -0.03685248+0.j        ]\n",
      " [-0.04942062+0.j         -0.00697113+0.j          0.03097334+0.j\n",
      "  ... -0.01461324-0.03013654j -0.01352758+0.j\n",
      "  -0.01965298+0.j        ]\n",
      " [-0.05017056+0.j         -0.0219117 +0.j          0.05610535+0.j\n",
      "  ...  0.01931046+0.00459368j  0.07644968+0.j\n",
      "   0.1064538 +0.j        ]]\n",
      "[ 9.80884671e+00+0.j         -2.54747172e+00+0.58496547j\n",
      " -2.54747172e+00-0.58496547j  2.67468423e+00+0.j\n",
      " -8.75790569e-01+2.24906683j -8.75790569e-01-2.24906683j\n",
      "  1.30256771e+00+1.95342898j  1.30256771e+00-1.95342898j\n",
      "  1.61201018e+00+1.63805179j  1.61201018e+00-1.63805179j\n",
      " -1.44123489e+00+1.61007387j -1.44123489e+00-1.61007387j\n",
      "  2.11363566e+00+0.3497112j   2.11363566e+00-0.3497112j\n",
      " -1.73323724e+00+1.12468886j -1.73323724e+00-1.12468886j\n",
      " -2.01145106e+00+0.06323078j -2.01145106e+00-0.06323078j\n",
      "  6.01037244e-01+1.94906262j  6.01037244e-01-1.94906262j\n",
      " -1.19423959e+00+1.63475108j -1.19423959e+00-1.63475108j\n",
      "  2.37528014e-01+1.96731237j  2.37528014e-01-1.96731237j\n",
      " -1.05168548e+00+1.669009j   -1.05168548e+00-1.669009j\n",
      " -1.87206901e+00+0.08948822j -1.87206901e+00-0.08948822j\n",
      " -1.38872331e+00+1.27586925j -1.38872331e+00-1.27586925j\n",
      " -6.57438322e-01+1.80591914j -6.57438322e-01-1.80591914j\n",
      "  1.99389409e+00+0.15150756j  1.99389409e+00-0.15150756j\n",
      "  1.67899166e+00+1.01958393j  1.67899166e+00-1.01958393j\n",
      "  1.77910824e+00+0.79185891j  1.77910824e+00-0.79185891j\n",
      "  1.30274204e+00+1.35369178j  1.30274204e+00-1.35369178j\n",
      "  1.85549693e+00+0.j          8.76143498e-01+1.6211041j\n",
      "  8.76143498e-01-1.6211041j  -3.67139524e-01+1.80603275j\n",
      " -3.67139524e-01-1.80603275j -4.13594971e-01+1.76542857j\n",
      " -4.13594971e-01-1.76542857j -1.76544753e+00+0.j\n",
      " -1.51332051e+00+0.91334066j -1.51332051e+00-0.91334066j\n",
      " -1.64341271e+00+0.58087592j -1.64341271e+00-0.58087592j\n",
      "  1.65093380e+00+0.58917808j  1.65093380e+00-0.58917808j\n",
      "  1.30784272e+00+1.14172216j  1.30784272e+00-1.14172216j\n",
      "  9.03724485e-01+1.52065044j  9.03724485e-01-1.52065044j\n",
      " -2.27980193e-01+1.77457282j -2.27980193e-01-1.77457282j\n",
      "  1.81534822e-01+1.75716037j  1.81534822e-01-1.75716037j\n",
      "  2.66431905e-02+1.73947189j  2.66431905e-02-1.73947189j\n",
      " -1.50196987e+00+0.76262069j -1.50196987e+00-0.76262069j\n",
      "  5.94262449e-01+1.58847752j  5.94262449e-01-1.58847752j\n",
      "  1.67072421e+00+0.14630332j  1.67072421e+00-0.14630332j\n",
      "  1.60417542e+00+0.39357187j  1.60417542e+00-0.39357187j\n",
      " -1.34517833e+00+0.89901226j -1.34517833e+00-0.89901226j\n",
      " -8.78901435e-01+1.33773635j -8.78901435e-01-1.33773635j\n",
      "  9.27569253e-01+1.34820683j  9.27569253e-01-1.34820683j\n",
      "  1.19888767e+00+1.04850117j  1.19888767e+00-1.04850117j\n",
      " -1.54045956e+00+0.25283673j -1.54045956e+00-0.25283673j\n",
      "  7.01835654e-02+1.57451763j  7.01835654e-02-1.57451763j\n",
      "  1.30660546e+00+0.77166376j  1.30660546e+00-0.77166376j\n",
      "  1.38940781e+00+0.59210054j  1.38940781e+00-0.59210054j\n",
      "  3.64753058e-02+1.52392785j  3.64753058e-02-1.52392785j\n",
      " -3.48307489e-01+1.50933531j -3.48307489e-01-1.50933531j\n",
      " -1.09387267e+00+1.03574338j -1.09387267e+00-1.03574338j\n",
      " -1.42031034e+00+0.5114629j  -1.42031034e+00-0.5114629j\n",
      " -1.47730635e+00+0.j         -1.41378347e+00+0.36396012j\n",
      " -1.41378347e+00-0.36396012j -1.18608631e+00+0.84449352j\n",
      " -1.18608631e+00-0.84449352j -7.12919803e-01+1.29656346j\n",
      " -7.12919803e-01-1.29656346j -6.31289465e-01+1.30164916j\n",
      " -6.31289465e-01-1.30164916j  1.39775817e+00+0.17917327j\n",
      "  1.39775817e+00-0.17917327j  9.07539807e-01+1.09227208j\n",
      "  9.07539807e-01-1.09227208j  3.63063348e-01+1.38340912j\n",
      "  3.63063348e-01-1.38340912j  1.35535628e+00+0.j\n",
      "  7.25041083e-01+1.15725522j  7.25041083e-01-1.15725522j\n",
      " -3.33370079e-01+1.31663778j -3.33370079e-01-1.31663778j\n",
      " -1.24500248e+00+0.49533262j -1.24500248e+00-0.49533262j\n",
      " -1.36147711e+00+0.09113813j -1.36147711e+00-0.09113813j\n",
      " -9.72514434e-01+0.89587664j -9.72514434e-01-0.89587664j\n",
      " -8.29516412e-01+1.02874205j -8.29516412e-01-1.02874205j\n",
      " -3.46771013e-01+1.26563892j -3.46771013e-01-1.26563892j\n",
      "  5.51570282e-01+1.21810557j  5.51570282e-01-1.21810557j\n",
      "  2.18533709e-01+1.28373994j  2.18533709e-01-1.28373994j\n",
      "  9.31941881e-01+0.93676349j  9.31941881e-01-0.93676349j\n",
      "  1.28017263e+00+0.32554975j  1.28017263e+00-0.32554975j\n",
      "  1.26186503e+00+0.16432277j  1.26186503e+00-0.16432277j\n",
      "  9.96590503e-01+0.76005073j  9.96590503e-01-0.76005073j\n",
      "  1.13667713e+00+0.48475521j  1.13667713e+00-0.48475521j\n",
      " -4.70743808e-01+1.15283631j -4.70743808e-01-1.15283631j\n",
      " -8.67840083e-01+0.86890008j -8.67840083e-01-0.86890008j\n",
      " -1.03461986e+00+0.62718527j -1.03461986e+00-0.62718527j\n",
      "  7.30188250e-01+0.98477815j  7.30188250e-01-0.98477815j\n",
      "  1.83647232e-01+1.20776169j  1.83647232e-01-1.20776169j\n",
      "  8.09773532e-01+0.89017537j  8.09773532e-01-0.89017537j\n",
      " -3.61632260e-01+1.15522711j -3.61632260e-01-1.15522711j\n",
      " -7.65902749e-01+0.90251898j -7.65902749e-01-0.90251898j\n",
      " -2.69993355e-02+1.17972263j -2.69993355e-02-1.17972263j\n",
      "  3.80464920e-01+1.08831986j  3.80464920e-01-1.08831986j\n",
      "  1.17517451e+00+0.j          1.06790304e+00+0.40582785j\n",
      "  1.06790304e+00-0.40582785j  9.46551163e-01+0.63471568j\n",
      "  9.46551163e-01-0.63471568j  1.12793367e+00+0.16149219j\n",
      "  1.12793367e+00-0.16149219j -6.17065681e-01+0.97032468j\n",
      " -6.17065681e-01-0.97032468j -1.07143152e+00+0.44596243j\n",
      " -1.07143152e+00-0.44596243j -1.20187785e+00+0.j\n",
      " -1.11087883e+00+0.28172867j -1.11087883e+00-0.28172867j\n",
      "  3.15548598e-03+1.13854352j  3.15548598e-03-1.13854352j\n",
      " -1.12627637e+00+0.12157355j -1.12627637e+00-0.12157355j\n",
      "  5.41377144e-01+0.96660705j  5.41377144e-01-0.96660705j\n",
      "  2.69977905e-01+1.07979995j  2.69977905e-01-1.07979995j\n",
      "  1.10053907e+00+0.j          8.52417714e-01+0.6900558j\n",
      "  8.52417714e-01-0.6900558j  -8.27074315e-01+0.7349334j\n",
      " -8.27074315e-01-0.7349334j  -1.33130429e-01+1.0730095j\n",
      " -1.33130429e-01-1.0730095j  -4.06267754e-01+1.00343704j\n",
      " -4.06267754e-01-1.00343704j -9.98913597e-01+0.36232431j\n",
      " -9.98913597e-01-0.36232431j  6.99734361e-01+0.80690285j\n",
      "  6.99734361e-01-0.80690285j  1.01242994e+00+0.19900803j\n",
      "  1.01242994e+00-0.19900803j  9.04802209e-01+0.5351994j\n",
      "  9.04802209e-01-0.5351994j  -1.93534144e-01+1.04296679j\n",
      " -1.93534144e-01-1.04296679j  2.01837391e-01+1.03621654j\n",
      "  2.01837391e-01-1.03621654j  3.52703776e-01+0.97452096j\n",
      "  3.52703776e-01-0.97452096j -1.03153919e+00+0.j\n",
      " -5.92548513e-01+0.8000741j  -5.92548513e-01-0.8000741j\n",
      " -8.51079542e-01+0.48750349j -8.51079542e-01-0.48750349j\n",
      " -1.89390051e-03+1.00516741j -1.89390051e-03-1.00516741j\n",
      "  8.79025829e-01+0.45143892j  8.79025829e-01-0.45143892j\n",
      " -6.98245748e-01+0.63147495j -6.98245748e-01-0.63147495j\n",
      "  8.89964153e-01+0.39254101j  8.89964153e-01-0.39254101j\n",
      "  9.32239239e-01+0.09472129j  9.32239239e-01-0.09472129j\n",
      "  5.43264890e-01+0.77940295j  5.43264890e-01-0.77940295j\n",
      " -9.37656108e-01+0.18892881j -9.37656108e-01-0.18892881j\n",
      " -3.07984623e-01+0.87608053j -3.07984623e-01-0.87608053j\n",
      " -5.96707195e-01+0.71181517j -5.96707195e-01-0.71181517j\n",
      " -1.35219383e-01+0.90266844j -1.35219383e-01-0.90266844j\n",
      " -4.42561001e-01+0.78776419j -4.42561001e-01-0.78776419j\n",
      " -8.34811718e-01+0.36000586j -8.34811718e-01-0.36000586j\n",
      " -8.90912720e-01+0.18027724j -8.90912720e-01-0.18027724j\n",
      "  7.25179397e-01+0.5463652j   7.25179397e-01-0.5463652j\n",
      "  5.92787587e-02+0.89811892j  5.92787587e-02-0.89811892j\n",
      "  1.30827512e-01+0.87796523j  1.30827512e-01-0.87796523j\n",
      " -8.53891133e-01+0.29119153j -8.53891133e-01-0.29119153j\n",
      " -4.75316280e-01+0.75405107j -4.75316280e-01-0.75405107j\n",
      " -7.95509960e-01+0.04973012j -7.95509960e-01-0.04973012j\n",
      " -6.43546079e-01+0.46592302j -6.43546079e-01-0.46592302j\n",
      "  4.32120677e-02+0.8265869j   4.32120677e-02-0.8265869j\n",
      "  4.39768274e-01+0.7270475j   4.39768274e-01-0.7270475j\n",
      "  5.14298314e-01+0.67273665j  5.14298314e-01-0.67273665j\n",
      "  7.27709946e-01+0.35952035j  7.27709946e-01-0.35952035j\n",
      "  7.82629721e-01+0.19524625j  7.82629721e-01-0.19524625j\n",
      "  8.03688619e-01+0.j          5.46406446e-01+0.58101896j\n",
      "  5.46406446e-01-0.58101896j  5.89768217e-01+0.54174657j\n",
      "  5.89768217e-01-0.54174657j -1.48094445e-01+0.78123429j\n",
      " -1.48094445e-01-0.78123429j -2.13495602e-01+0.75339053j\n",
      " -2.13495602e-01-0.75339053j  7.34472258e-01+0.26637865j\n",
      "  7.34472258e-01-0.26637865j  3.65756029e-01+0.66582784j\n",
      "  3.65756029e-01-0.66582784j  7.31958158e-01+0.08217931j\n",
      "  7.31958158e-01-0.08217931j -5.08715490e-01+0.55501222j\n",
      " -5.08715490e-01-0.55501222j -6.70992682e-01+0.36632684j\n",
      " -6.70992682e-01-0.36632684j -7.01402579e-01+0.2220195j\n",
      " -7.01402579e-01-0.2220195j  -7.28935328e-01+0.j\n",
      " -1.49544982e-01+0.69525089j -1.49544982e-01-0.69525089j\n",
      "  6.73508983e-01+0.17285635j  6.73508983e-01-0.17285635j\n",
      "  6.21063340e-01+0.2800444j   6.21063340e-01-0.2800444j\n",
      "  1.08680794e-01+0.67070793j  1.08680794e-01-0.67070793j\n",
      " -8.41485990e-02+0.68007505j -8.41485990e-02-0.68007505j\n",
      " -5.38202618e-01+0.43887322j -5.38202618e-01-0.43887322j\n",
      " -6.53439697e-01+0.1370966j  -6.53439697e-01-0.1370966j\n",
      " -4.15931863e-01+0.53079253j -4.15931863e-01-0.53079253j\n",
      "  4.94630291e-01+0.41568599j  4.94630291e-01-0.41568599j\n",
      "  2.36767157e-01+0.58932113j  2.36767157e-01-0.58932113j\n",
      "  3.56353331e-01+0.51677644j  3.56353331e-01-0.51677644j\n",
      " -5.16976116e-01+0.36442026j -5.16976116e-01-0.36442026j\n",
      " -2.73203511e-01+0.55931594j -2.73203511e-01-0.55931594j\n",
      "  5.99467389e-01+0.j          2.91847945e-01+0.51795789j\n",
      "  2.91847945e-01-0.51795789j -5.25615467e-01+0.26937601j\n",
      " -5.25615467e-01-0.26937601j -3.28012173e-01+0.49459116j\n",
      " -3.28012173e-01-0.49459116j -7.61585028e-02+0.59003053j\n",
      " -7.61585028e-02-0.59003053j  5.65439738e-01+0.12624656j\n",
      "  5.65439738e-01-0.12624656j  3.54259237e-01+0.4519294j\n",
      "  3.54259237e-01-0.4519294j   4.91251745e-01+0.27685596j\n",
      "  4.91251745e-01-0.27685596j -5.53226634e-01+0.09792273j\n",
      " -5.53226634e-01-0.09792273j -4.26958861e-01+0.33411112j\n",
      " -4.26958861e-01-0.33411112j  1.55311188e-01+0.52887839j\n",
      "  1.55311188e-01-0.52887839j  6.57204261e-03+0.54170556j\n",
      "  6.57204261e-03-0.54170556j  4.50713933e-01+0.17674908j\n",
      "  4.50713933e-01-0.17674908j  4.93085217e-01+0.j\n",
      "  4.54070667e-01+0.12449073j  4.54070667e-01-0.12449073j\n",
      " -7.62913896e-02+0.48106207j -7.62913896e-02-0.48106207j\n",
      "  2.78932702e-01+0.33445307j  2.78932702e-01-0.33445307j\n",
      " -4.37972849e-01+0.21227217j -4.37972849e-01-0.21227217j\n",
      " -3.98349842e-02+0.42996675j -3.98349842e-02-0.42996675j\n",
      " -2.56690764e-01+0.33574176j -2.56690764e-01-0.33574176j\n",
      " -4.27429508e-01+0.12173315j -4.27429508e-01-0.12173315j\n",
      " -4.20668338e-01+0.j         -3.57085455e-01+0.22595831j\n",
      " -3.57085455e-01-0.22595831j -1.63144952e-01+0.35103591j\n",
      " -1.63144952e-01-0.35103591j  1.07084290e-01+0.38021192j\n",
      "  1.07084290e-01-0.38021192j  3.80939727e-01+0.07138532j\n",
      "  3.80939727e-01-0.07138532j  3.73951198e-01+0.j\n",
      " -3.10341929e-01+0.06147754j -3.10341929e-01-0.06147754j\n",
      "  2.17139472e-01+0.25151201j  2.17139472e-01-0.25151201j\n",
      "  1.29098341e-01+0.30602582j  1.29098341e-01-0.30602582j\n",
      " -3.80709206e-03+0.32538156j -3.80709206e-03-0.32538156j\n",
      "  2.68715720e-01+0.00230706j  2.68715720e-01-0.00230706j\n",
      " -7.23775240e-02+0.27713343j -7.23775240e-02-0.27713343j\n",
      "  1.99033673e-01+0.13788474j  1.99033673e-01-0.13788474j\n",
      " -1.45555987e-01+0.22623j    -1.45555987e-01-0.22623j\n",
      " -1.67789546e-01+0.1925334j  -1.67789546e-01-0.1925334j\n",
      "  1.41883987e-01+0.18918934j  1.41883987e-01-0.18918934j\n",
      "  2.41192490e-02+0.24868118j  2.41192490e-02-0.24868118j\n",
      " -2.19484414e-01+0.04651947j -2.19484414e-01-0.04651947j\n",
      "  9.97199185e-02+0.15731793j  9.97199185e-02-0.15731793j\n",
      "  1.58851184e-01+0.j         -1.47695337e-01+0.07460216j\n",
      " -1.47695337e-01-0.07460216j -7.84946031e-03+0.15999022j\n",
      " -7.84946031e-03-0.15999022j  7.98474842e-02+0.08591271j\n",
      "  7.98474842e-02-0.08591271j -1.11457865e-01+0.j\n",
      " -8.05000683e-02+0.07235299j -8.05000683e-02-0.07235299j\n",
      " -3.82164928e-02+0.11176797j -3.82164928e-02-0.11176797j\n",
      " -7.64472262e-03+0.04668836j -7.64472262e-03-0.04668836j\n",
      "  1.53087135e-03+0.00611912j  1.53087135e-03-0.00611912j\n",
      "  1.73298494e-10+0.j         -1.73299574e-10+0.j        ] [[-1.83112737e-02+0.j         -2.50570461e-03+0.02151743j\n",
      "  -2.50570461e-03-0.02151743j ...  7.26820294e-04+0.02835973j\n",
      "   6.38394966e-10+0.j          6.38406670e-10+0.j        ]\n",
      " [-2.85511415e-02+0.j         -1.65370327e-02-0.01263752j\n",
      "  -1.65370327e-02+0.01263752j ... -1.71369380e-03+0.00115548j\n",
      "  -4.73190336e-11+0.j         -4.73184416e-11+0.j        ]\n",
      " [-1.00051430e-02+0.j          2.11759670e-02-0.01379655j\n",
      "   2.11759670e-02+0.01379655j ... -5.68100288e-03+0.02157228j\n",
      "   3.08239832e-10+0.j          3.08251334e-10+0.j        ]\n",
      " ...\n",
      " [-4.85724059e-03+0.j         -3.97810121e-03-0.00151582j\n",
      "  -3.97810121e-03+0.00151582j ...  5.46848820e-03-0.00680385j\n",
      "  -8.24748537e-11+0.j         -8.24779243e-11+0.j        ]\n",
      " [-4.79521413e-04+0.j         -1.63515003e-03+0.00028087j\n",
      "  -1.63515003e-03-0.00028087j ...  2.26612836e-03-0.01315631j\n",
      "  -2.35995410e-10+0.j         -2.36002747e-10+0.j        ]\n",
      " [-2.02822224e-03+0.j          4.24197183e-03-0.00111021j\n",
      "   4.24197183e-03+0.00111021j ... -1.63296385e-02+0.04449366j\n",
      "  -7.37930401e-11+0.j         -7.37675824e-11+0.j        ]]\n",
      "[[ 2.09654352e+01+0.00000000e+00j  2.37656183e+01+0.00000000e+00j\n",
      "   2.80398780e-01-2.77555756e-17j ...  6.48654171e-01+4.61833322e-01j\n",
      "   4.71062351e+00-2.22044605e-16j  1.27263933e+00+5.55111512e-17j]\n",
      " [ 2.37656183e+01+0.00000000e+00j  3.04614497e+01+0.00000000e+00j\n",
      "   1.25699642e+00-1.38777878e-17j ...  2.55286316e+00+6.38688030e-01j\n",
      "   8.49725996e+00+2.22044605e-16j  3.27269450e+00-3.33066907e-16j]\n",
      " [ 2.80398780e-01+2.77555756e-17j  1.25699642e+00+1.38777878e-17j\n",
      "   2.80686003e+00+0.00000000e+00j ... -2.14108719e-02-2.00629116e-04j\n",
      "   5.37493191e-01+0.00000000e+00j  3.30149538e-02-6.93889390e-18j]\n",
      " ...\n",
      " [ 6.48654171e-01-4.61833322e-01j  2.55286316e+00-6.38688030e-01j\n",
      "  -2.14108719e-02+2.00629116e-04j ...  7.76106186e-02+0.00000000e+00j\n",
      "   2.41943794e-01-4.39575616e-02j  8.55395349e-02-5.78826754e-02j]\n",
      " [ 4.71062351e+00+2.22044605e-16j  8.49725996e+00-2.22044605e-16j\n",
      "   5.37493191e-01+0.00000000e+00j ...  2.41943794e-01+4.39575616e-02j\n",
      "   3.42099596e+00+0.00000000e+00j  4.79573353e-01-2.77555756e-17j]\n",
      " [ 1.27263933e+00-5.55111512e-17j  3.27269450e+00+3.33066907e-16j\n",
      "   3.30149538e-02+6.93889390e-18j ...  8.55395349e-02+5.78826754e-02j\n",
      "   4.79573353e-01+2.77555756e-17j  1.04581192e+00+0.00000000e+00j]]\n",
      "[[ 1.85861916e+00+0.00000000e+00j -9.36216889e-01-4.13067984e-01j\n",
      "  -9.36216889e-01+4.13067984e-01j ... -1.87370343e+00+5.26948148e-01j\n",
      "   3.95034308e-02+0.00000000e+00j  3.95034566e-02+0.00000000e+00j]\n",
      " [-9.36216889e-01+4.13067984e-01j  1.87098218e+00+0.00000000e+00j\n",
      "  -6.49007995e-01+8.45791120e-04j ...  1.49504380e+00-1.12730698e+00j\n",
      "  -2.96854814e-03-4.81290651e-02j -2.96856860e-03-4.81290733e-02j]\n",
      " [-9.36216889e-01-4.13067984e-01j -6.49007995e-01-8.45791120e-04j\n",
      "   1.87098218e+00+0.00000000e+00j ...  1.24792432e+00+3.54321811e-01j\n",
      "  -2.96854814e-03+4.81290651e-02j -2.96856860e-03+4.81290733e-02j]\n",
      " ...\n",
      " [-1.87370343e+00-5.26948148e-01j  1.49504380e+00+1.12730698e+00j\n",
      "   1.24792432e+00-3.54321811e-01j ...  1.22206204e+01+0.00000000e+00j\n",
      "   3.48831822e+01+5.12873901e-01j  3.48831822e+01+5.12874880e-01j]\n",
      " [ 3.95034308e-02+0.00000000e+00j -2.96854814e-03+4.81290651e-02j\n",
      "  -2.96854814e-03-4.81290651e-02j ...  3.48831822e+01-5.12873901e-01j\n",
      "   4.72445995e+01+0.00000000e+00j  4.72445995e+01+0.00000000e+00j]\n",
      " [ 3.95034566e-02+0.00000000e+00j -2.96856860e-03+4.81290733e-02j\n",
      "  -2.96856860e-03-4.81290733e-02j ...  3.48831822e+01-5.12874880e-01j\n",
      "   4.72445995e+01+0.00000000e+00j  4.72445995e+01+0.00000000e+00j]]\n",
      "15\n",
      "368\n",
      "iter: 0\n",
      "[ 1.34684840e+03+0.00000000e+00j  2.37876106e+01+0.00000000e+00j\n",
      " -2.10042669e+01+2.89381383e+00j -2.10042669e+01-2.89381383e+00j\n",
      "  1.59409871e+01+1.05819425e+01j  1.59409871e+01-1.05819425e+01j\n",
      "  1.70122161e+01+6.07705806e+00j  1.70122161e+01-6.07705806e+00j\n",
      " -1.76015765e+01+7.98393316e-01j -1.76015765e+01-7.98393316e-01j\n",
      " -1.42306429e+01+1.66404926e+00j -1.42306429e+01-1.66404926e+00j\n",
      "  1.23514852e+01+6.34273874e+00j  1.23514852e+01-6.34273874e+00j\n",
      "  4.48478080e+00+1.25737589e+01j  4.48478080e+00-1.25737589e+01j\n",
      " -1.98433902e+00+1.06512626e+01j -1.98433902e+00-1.06512626e+01j\n",
      "  1.02335140e+01+2.09928038e+00j  1.02335140e+01-2.09928038e+00j\n",
      "  7.18116744e+00+7.08623103e+00j  7.18116744e+00-7.08623103e+00j\n",
      "  1.25994900e+00+9.75387387e+00j  1.25994900e+00-9.75387387e+00j\n",
      " -1.08642514e+01+0.00000000e+00j -1.00987114e+01+2.06895893e+00j\n",
      " -1.00987114e+01-2.06895893e+00j  8.61816526e+00+4.22876811e+00j\n",
      "  8.61816526e+00-4.22876811e+00j -1.14925807e+00+8.70066595e+00j\n",
      " -1.14925807e+00-8.70066595e+00j  3.92556233e+00+7.66031644e+00j\n",
      "  3.92556233e+00-7.66031644e+00j  9.04497233e+00+0.00000000e+00j\n",
      "  8.22815016e+00+0.00000000e+00j  7.62443195e+00+2.84334517e+00j\n",
      "  7.62443195e+00-2.84334517e+00j -8.28299815e+00+2.56299629e+00j\n",
      " -8.28299815e+00-2.56299629e+00j -7.87501811e+00+9.76830965e-01j\n",
      " -7.87501811e+00-9.76830965e-01j -6.13341437e+00+4.85446489e+00j\n",
      " -6.13341437e+00-4.85446489e+00j -5.58599942e+00+5.45042677e+00j\n",
      " -5.58599942e+00-5.45042677e+00j  6.96753104e+00+2.95316116e+00j\n",
      "  6.96753104e+00-2.95316116e+00j  7.63914331e+00+4.34231671e-01j\n",
      "  7.63914331e+00-4.34231671e-01j -6.97016230e+00+1.08766833e+00j\n",
      " -6.97016230e+00-1.08766833e+00j -6.74494565e+00+1.81240422e+00j\n",
      " -6.74494565e+00-1.81240422e+00j -1.27061319e-01+6.45664651e+00j\n",
      " -1.27061319e-01-6.45664651e+00j  3.81404198e+00+5.38829509e+00j\n",
      "  3.81404198e+00-5.38829509e+00j -6.27473656e+00+1.16419178e+00j\n",
      " -6.27473656e+00-1.16419178e+00j -1.72678518e+00+5.82228111e+00j\n",
      " -1.72678518e+00-5.82228111e+00j  6.10685904e+00+1.42672641e+00j\n",
      "  6.10685904e+00-1.42672641e+00j  6.25949005e+00+0.00000000e+00j\n",
      "  1.82594764e+00+5.66376248e+00j  1.82594764e+00-5.66376248e+00j\n",
      "  3.20432018e+00+4.94650648e+00j  3.20432018e+00-4.94650648e+00j\n",
      "  4.41785416e+00+3.75570718e+00j  4.41785416e+00-3.75570718e+00j\n",
      " -5.81956261e+00+0.00000000e+00j -3.93668203e+00+3.91811913e+00j\n",
      " -3.93668203e+00-3.91811913e+00j -1.51246759e+00+5.08274343e+00j\n",
      " -1.51246759e+00-5.08274343e+00j  5.02168588e+00+1.61316170e+00j\n",
      "  5.02168588e+00-1.61316170e+00j -5.28152992e+00+9.21905737e-01j\n",
      " -5.28152992e+00-9.21905737e-01j -4.44294743e+00+2.80016275e+00j\n",
      " -4.44294743e+00-2.80016275e+00j -2.40689165e+00+4.58610476e+00j\n",
      " -2.40689165e+00-4.58610476e+00j  1.40734262e+00+5.11370493e+00j\n",
      "  1.40734262e+00-5.11370493e+00j -5.29707117e-01+5.12042890e+00j\n",
      " -5.29707117e-01-5.12042890e+00j -1.57627588e+00+4.74585940e+00j\n",
      " -1.57627588e+00-4.74585940e+00j  2.09430179e+00+4.65315927e+00j\n",
      "  2.09430179e+00-4.65315927e+00j  4.09047099e+00+2.75458709e+00j\n",
      "  4.09047099e+00-2.75458709e+00j -4.86456626e+00+0.00000000e+00j\n",
      " -4.53472132e+00+1.44861786e+00j -4.53472132e+00-1.44861786e+00j\n",
      "  8.92408333e-01+4.52162417e+00j  8.92408333e-01-4.52162417e+00j\n",
      "  2.61417503e+00+3.71799174e+00j  2.61417503e+00-3.71799174e+00j\n",
      " -3.33883468e+00+2.72200700e+00j -3.33883468e+00-2.72200700e+00j\n",
      " -3.72448231e+00+1.76035045e+00j -3.72448231e+00-1.76035045e+00j\n",
      "  4.17046171e+00+0.00000000e+00j  2.43801212e-02+4.00610308e+00j\n",
      "  2.43801212e-02-4.00610308e+00j  3.73833154e+00+9.21889537e-01j\n",
      "  3.73833154e+00-9.21889537e-01j  3.73828562e+00+4.33061867e-01j\n",
      "  3.73828562e+00-4.33061867e-01j  3.38951631e+00+1.65868564e+00j\n",
      "  3.38951631e+00-1.65868564e+00j  3.03957442e+00+2.07310220e+00j\n",
      "  3.03957442e+00-2.07310220e+00j -2.37559912e+00+3.27230241e+00j\n",
      " -2.37559912e+00-3.27230241e+00j -8.93740961e-01+3.75906494e+00j\n",
      " -8.93740961e-01-3.75906494e+00j  9.75989882e-01+3.41929323e+00j\n",
      "  9.75989882e-01-3.41929323e+00j  1.52722874e+00+3.02894882e+00j\n",
      "  1.52722874e+00-3.02894882e+00j  8.05129342e-01+3.30179448e+00j\n",
      "  8.05129342e-01-3.30179448e+00j -6.40431664e-01+3.30535908e+00j\n",
      " -6.40431664e-01-3.30535908e+00j -2.03154729e+00+2.51008275e+00j\n",
      " -2.03154729e+00-2.51008275e+00j -3.44399306e+00+1.86202800e-01j\n",
      " -3.44399306e+00-1.86202800e-01j -3.06326669e+00+1.45345290e+00j\n",
      " -3.06326669e+00-1.45345290e+00j -3.05813665e+00+1.24410329e+00j\n",
      " -3.05813665e+00-1.24410329e+00j -2.44519349e+00+2.08421445e+00j\n",
      " -2.44519349e+00-2.08421445e+00j -3.18557842e+00+0.00000000e+00j\n",
      "  3.14338448e+00+0.00000000e+00j  2.62950040e+00+1.64519532e+00j\n",
      "  2.62950040e+00-1.64519532e+00j  2.87319187e+00+8.03071768e-01j\n",
      "  2.87319187e+00-8.03071768e-01j  1.86578424e+00+2.39964995e+00j\n",
      "  1.86578424e+00-2.39964995e+00j  1.53983201e+00+2.62947270e+00j\n",
      "  1.53983201e+00-2.62947270e+00j  1.11189664e+00+2.74112170e+00j\n",
      "  1.11189664e+00-2.74112170e+00j  3.00066054e-01+2.80365813e+00j\n",
      "  3.00066054e-01-2.80365813e+00j -3.06045657e+00+6.21459369e-01j\n",
      " -3.06045657e+00-6.21459369e-01j -2.94979851e+00+4.68553470e-01j\n",
      " -2.94979851e+00-4.68553470e-01j -2.50190258e+00+9.99653161e-01j\n",
      " -2.50190258e+00-9.99653161e-01j -2.72127901e+00+0.00000000e+00j\n",
      " -7.74300466e-01+2.54288325e+00j -7.74300466e-01-2.54288325e+00j\n",
      " -2.05482089e-01+2.55026210e+00j -2.05482089e-01-2.55026210e+00j\n",
      " -2.13837946e+00+1.40294891e+00j -2.13837946e+00-1.40294891e+00j\n",
      " -9.01741341e-01+2.36061846e+00j -9.01741341e-01-2.36061846e+00j\n",
      "  2.16163741e+00+1.61393001e+00j  2.16163741e+00-1.61393001e+00j\n",
      " -1.53839535e+00+1.88971997e+00j -1.53839535e+00-1.88971997e+00j\n",
      "  1.93570850e+00+1.70496607e+00j  1.93570850e+00-1.70496607e+00j\n",
      "  2.54726018e+00+0.00000000e+00j  1.48018286e+00+1.97227608e+00j\n",
      "  1.48018286e+00-1.97227608e+00j -2.33616235e+00+6.14052885e-01j\n",
      " -2.33616235e+00-6.14052885e-01j  2.19760061e+00+1.07147308e+00j\n",
      "  2.19760061e+00-1.07147308e+00j -1.93034763e+00+1.07846293e+00j\n",
      " -1.93034763e+00-1.07846293e+00j  1.55935688e-01+2.32612569e+00j\n",
      "  1.55935688e-01-2.32612569e+00j -2.04316198e+00+0.00000000e+00j\n",
      " -7.84578944e-01+2.02465773e+00j -7.84578944e-01-2.02465773e+00j\n",
      " -1.15944323e+00+1.74023909e+00j -1.15944323e+00-1.74023909e+00j\n",
      "  1.11449332e-01+2.13410976e+00j  1.11449332e-01-2.13410976e+00j\n",
      " -2.63833819e-01+1.99924086e+00j -2.63833819e-01-1.99924086e+00j\n",
      "  2.13359816e+00+7.81133685e-01j  2.13359816e+00-7.81133685e-01j\n",
      "  1.51142560e+00+1.52541044e+00j  1.51142560e+00-1.52541044e+00j\n",
      "  6.99822209e-01+1.84271376e+00j  6.99822209e-01-1.84271376e+00j\n",
      "  1.72540716e+00+1.24982582e+00j  1.72540716e+00-1.24982582e+00j\n",
      "  2.13444372e+00+3.76830341e-01j  2.13444372e+00-3.76830341e-01j\n",
      "  2.19935614e+00+0.00000000e+00j  2.16241642e+00+0.00000000e+00j\n",
      "  1.83658618e+00+9.23032316e-01j  1.83658618e+00-9.23032316e-01j\n",
      " -1.26397361e+00+1.46088962e+00j -1.26397361e+00-1.46088962e+00j\n",
      " -1.92889391e+00+0.00000000e+00j  1.88976261e+00+0.00000000e+00j\n",
      " -3.96803696e-01+1.73281866e+00j -3.96803696e-01-1.73281866e+00j\n",
      " -6.76750599e-01+1.54671980e+00j -6.76750599e-01-1.54671980e+00j\n",
      " -1.03406652e+00+1.27017521e+00j -1.03406652e+00-1.27017521e+00j\n",
      " -1.56109312e+00+5.80866269e-01j -1.56109312e+00-5.80866269e-01j\n",
      " -1.37553388e+00+8.77582827e-01j -1.37553388e+00-8.77582827e-01j\n",
      " -1.60103305e+00+0.00000000e+00j -1.35205393e+00+7.39085601e-01j\n",
      " -1.35205393e+00-7.39085601e-01j -1.42862858e+00+4.49813355e-01j\n",
      " -1.42862858e+00-4.49813355e-01j -7.35079924e-02+1.49965835e+00j\n",
      " -7.35079924e-02-1.49965835e+00j  1.57875402e+00+2.60120593e-01j\n",
      "  1.57875402e+00-2.60120593e-01j  1.39018766e+00+7.25772849e-01j\n",
      "  1.39018766e+00-7.25772849e-01j  1.08120274e+00+1.09391670e+00j\n",
      "  1.08120274e+00-1.09391670e+00j  1.43825422e+00+0.00000000e+00j\n",
      "  1.23337803e+00+7.68310649e-01j  1.23337803e+00-7.68310649e-01j\n",
      "  5.06648972e-01+1.37868331e+00j  5.06648972e-01-1.37868331e+00j\n",
      "  4.14170633e-01+1.42413519e+00j  4.14170633e-01-1.42413519e+00j\n",
      " -1.10105942e+00+7.04337542e-01j -1.10105942e+00-7.04337542e-01j\n",
      " -4.25891884e-01+1.22446612e+00j -4.25891884e-01-1.22446612e+00j\n",
      "  2.92301003e-01+1.30332731e+00j  2.92301003e-01-1.30332731e+00j\n",
      "  7.59947994e-01+1.03854187e+00j  7.59947994e-01-1.03854187e+00j\n",
      "  1.12809894e+00+6.38272515e-01j  1.12809894e+00-6.38272515e-01j\n",
      "  9.15978472e-01+8.00435304e-01j  9.15978472e-01-8.00435304e-01j\n",
      " -1.16210487e+00+4.08120121e-01j -1.16210487e+00-4.08120121e-01j\n",
      " -8.23907959e-01+9.48688164e-01j -8.23907959e-01-9.48688164e-01j\n",
      "  7.87351238e-02+1.18086873e+00j  7.87351238e-02-1.18086873e+00j\n",
      " -1.24914911e-01+1.19944882e+00j -1.24914911e-01-1.19944882e+00j\n",
      " -4.25210492e-01+1.09483021e+00j -4.25210492e-01-1.09483021e+00j\n",
      "  1.12725045e+00+0.00000000e+00j  9.10587094e-01+6.53577065e-01j\n",
      "  9.10587094e-01-6.53577065e-01j  6.12211330e-01+8.88851542e-01j\n",
      "  6.12211330e-01-8.88851542e-01j -5.93115357e-01+9.10280066e-01j\n",
      " -5.93115357e-01-9.10280066e-01j -1.06316752e+00+1.13062324e-01j\n",
      " -1.06316752e+00-1.13062324e-01j -9.94792337e-01+2.76133268e-01j\n",
      " -9.94792337e-01-2.76133268e-01j -1.91497107e-01+1.00383461e+00j\n",
      " -1.91497107e-01-1.00383461e+00j -8.53665593e-01+5.40596552e-01j\n",
      " -8.53665593e-01-5.40596552e-01j -6.61266000e-01+7.19808094e-01j\n",
      " -6.61266000e-01-7.19808094e-01j  2.58113676e-01+1.00756738e+00j\n",
      "  2.58113676e-01-1.00756738e+00j  7.33693608e-01+7.52944575e-01j\n",
      "  7.33693608e-01-7.52944575e-01j  1.00406709e+00+2.40918940e-01j\n",
      "  1.00406709e+00-2.40918940e-01j  9.99972320e-01+0.00000000e+00j\n",
      " -5.43706809e-01+6.99771153e-01j -5.43706809e-01-6.99771153e-01j\n",
      "  4.75051855e-01+7.84968769e-01j  4.75051855e-01-7.84968769e-01j\n",
      " -1.70790074e-01+8.72278162e-01j -1.70790074e-01-8.72278162e-01j\n",
      " -8.72542867e-01+0.00000000e+00j -6.88695934e-01+4.94470647e-01j\n",
      " -6.88695934e-01-4.94470647e-01j -8.03546287e-01+2.83234408e-01j\n",
      " -8.03546287e-01-2.83234408e-01j  6.96984264e-01+5.63375127e-01j\n",
      "  6.96984264e-01-5.63375127e-01j  2.34143407e-01+7.99014916e-01j\n",
      "  2.34143407e-01-7.99014916e-01j  6.13703744e-01+5.89539647e-01j\n",
      "  6.13703744e-01-5.89539647e-01j  1.04458080e-01+7.73281477e-01j\n",
      "  1.04458080e-01-7.73281477e-01j  7.94473470e-01+0.00000000e+00j\n",
      "  7.57448928e-01+1.87562457e-01j  7.57448928e-01-1.87562457e-01j\n",
      "  6.83100716e-01+3.35082886e-01j  6.83100716e-01-3.35082886e-01j\n",
      " -3.15299163e-01+6.75605435e-01j -3.15299163e-01-6.75605435e-01j\n",
      " -6.18086123e-01+3.96653711e-01j -6.18086123e-01-3.96653711e-01j\n",
      " -6.69733364e-01+2.33488897e-01j -6.69733364e-01-2.33488897e-01j\n",
      "  4.08051897e-01+5.65768146e-01j  4.08051897e-01-5.65768146e-01j\n",
      " -6.75112893e-01+0.00000000e+00j  4.67089539e-02+6.76037362e-01j\n",
      "  4.67089539e-02-6.76037362e-01j -8.70546191e-02+6.53672849e-01j\n",
      " -8.70546191e-02-6.53672849e-01j  3.25902760e-01+5.14142711e-01j\n",
      "  3.25902760e-01-5.14142711e-01j -5.33961907e-01+2.30090570e-01j\n",
      " -5.33961907e-01-2.30090570e-01j  5.62031212e-01+2.48929137e-01j\n",
      "  5.62031212e-01-2.48929137e-01j  3.28416046e-01+4.05012087e-01j\n",
      "  3.28416046e-01-4.05012087e-01j -1.00828717e-01+5.26610185e-01j\n",
      " -1.00828717e-01-5.26610185e-01j -4.57387007e-01+3.25007881e-01j\n",
      " -4.57387007e-01-3.25007881e-01j -1.98449748e-01+4.55445196e-01j\n",
      " -1.98449748e-01-4.55445196e-01j -2.67570899e-01+4.16553351e-01j\n",
      " -2.67570899e-01-4.16553351e-01j -5.50694817e-01+0.00000000e+00j\n",
      " -5.13819249e-01+4.14196902e-02j -5.13819249e-01-4.14196902e-02j\n",
      " -4.08604062e-01+2.01647908e-01j -4.08604062e-01-2.01647908e-01j\n",
      " -4.21617925e-01+1.23697297e-01j -4.21617925e-01-1.23697297e-01j\n",
      " -7.73852576e-02+4.21961343e-01j -7.73852576e-02-4.21961343e-01j\n",
      "  8.04723640e-02+4.25963050e-01j  8.04723640e-02-4.25963050e-01j\n",
      "  1.35215536e-01+4.02659561e-01j  1.35215536e-01-4.02659561e-01j\n",
      "  4.23635441e-01+2.57383663e-01j  4.23635441e-01-2.57383663e-01j\n",
      "  4.94993299e-01+9.17176099e-02j  4.94993299e-01-9.17176099e-02j\n",
      "  4.98634308e-01+0.00000000e+00j  4.55891491e-01+5.67092078e-02j\n",
      "  4.55891491e-01-5.67092078e-02j  2.88531628e-01+2.77039108e-01j\n",
      "  2.88531628e-01-2.77039108e-01j -1.75817427e-01+3.00549082e-01j\n",
      " -1.75817427e-01-3.00549082e-01j -3.70576252e-01+0.00000000e+00j\n",
      "  3.62502471e-01+1.61390839e-01j  3.62502471e-01-1.61390839e-01j\n",
      " -2.72946625e-01+1.37547053e-01j -2.72946625e-01-1.37547053e-01j\n",
      "  2.78853972e-01+1.56192992e-01j  2.78853972e-01-1.56192992e-01j\n",
      "  1.04665436e-01+2.78972260e-01j  1.04665436e-01-2.78972260e-01j\n",
      " -2.67690473e-01+0.00000000e+00j -2.44127159e-01+0.00000000e+00j\n",
      "  2.72045290e-01+6.49482630e-02j  2.72045290e-01-6.49482630e-02j\n",
      " -1.36688283e-01+1.67961067e-01j -1.36688283e-01-1.67961067e-01j\n",
      "  1.70821692e-02+2.36512187e-01j  1.70821692e-02-2.36512187e-01j\n",
      "  1.51992237e-01+2.04494468e-01j  1.51992237e-01-2.04494468e-01j\n",
      " -1.77588730e-01+0.00000000e+00j  1.82733154e-01+1.01056303e-01j\n",
      "  1.82733154e-01-1.01056303e-01j  1.14979290e-01+1.44062310e-01j\n",
      "  1.14979290e-01-1.44062310e-01j -7.08905201e-02+1.17454913e-01j\n",
      " -7.08905201e-02-1.17454913e-01j  2.05506830e-02+1.55208059e-01j\n",
      "  2.05506830e-02-1.55208059e-01j -3.23801914e-02+1.03568577e-01j\n",
      " -3.23801914e-02-1.03568577e-01j  1.34913195e-01+1.09817104e-02j\n",
      "  1.34913195e-01-1.09817104e-02j  6.36333412e-02+1.07165615e-01j\n",
      "  6.36333412e-02-1.07165615e-01j  9.77474936e-02+0.00000000e+00j\n",
      " -3.09076074e-02+2.86015904e-03j -3.09076074e-02-2.86015904e-03j\n",
      " -6.95119891e-03+5.34508137e-02j -6.95119891e-03-5.34508137e-02j] [[-0.05911932+0.j          0.0301448 +0.j         -0.07112576-0.019187j\n",
      "  ...  0.0298628 +0.00091917j  0.00424037+0.00109318j\n",
      "   0.00424037-0.00109318j]\n",
      " [-0.0618479 +0.j         -0.02208497+0.j          0.03140831-0.00041082j\n",
      "  ...  0.03595176+0.01164913j  0.03442931+0.04423022j\n",
      "   0.03442931-0.04423022j]\n",
      " [-0.00800981+0.j         -0.14853122+0.j          0.02300167-0.00770152j\n",
      "  ... -0.01574201-0.00071507j  0.00988967-0.01587795j\n",
      "   0.00988967+0.01587795j]\n",
      " ...\n",
      " [-0.01435284+0.j         -0.04943198+0.j         -0.00949549+0.01669981j\n",
      "  ... -0.02509282+0.00212488j -0.0024105 +0.02030174j\n",
      "  -0.0024105 -0.02030174j]\n",
      " [-0.03092356+0.j         -0.02765272+0.j          0.03854962-0.01185819j\n",
      "  ... -0.04530278+0.00438777j -0.08826084-0.00647182j\n",
      "  -0.08826084+0.00647182j]\n",
      " [-0.0181384 +0.j         -0.07256259+0.j         -0.0414374 +0.00515192j\n",
      "  ... -0.00951742+0.00079937j  0.00533263-0.02199449j\n",
      "   0.00533263+0.02199449j]]\n",
      "[ 3.70422317e+03+0.00000000e+00j -4.89870375e+01+0.00000000e+00j\n",
      "  3.28409589e+01+2.03274201e+01j  3.28409589e+01-2.03274201e+01j\n",
      " -3.70904856e+01+0.00000000e+00j  3.35678461e+01+0.00000000e+00j\n",
      " -1.32220720e+01+2.19794284e+01j -1.32220720e+01-2.19794284e+01j\n",
      " -2.32860386e+01+0.00000000e+00j -5.62858301e+00+2.19506716e+01j\n",
      " -5.62858301e+00-2.19506716e+01j -2.01104297e+01+5.28936688e+00j\n",
      " -2.01104297e+01-5.28936688e+00j  2.12225576e+01+5.42336147e+00j\n",
      "  2.12225576e+01-5.42336147e+00j -1.80820550e+01+0.00000000e+00j\n",
      " -1.68161912e+01+6.05899328e+00j -1.68161912e+01-6.05899328e+00j\n",
      "  1.73792118e+01+8.06897163e+00j  1.73792118e+01-8.06897163e+00j\n",
      "  1.98221123e+01+0.00000000e+00j  8.74857674e-01+1.77237009e+01j\n",
      "  8.74857674e-01-1.77237009e+01j -3.26869087e+00+1.72256528e+01j\n",
      " -3.26869087e+00-1.72256528e+01j  1.63748733e+01+0.00000000e+00j\n",
      " -7.02133047e+00+1.39539265e+01j -7.02133047e+00-1.39539265e+01j\n",
      " -2.42901563e+00+1.56222763e+01j -2.42901563e+00-1.56222763e+01j\n",
      "  6.98957421e-01+1.53705285e+01j  6.98957421e-01-1.53705285e+01j\n",
      "  1.01296153e+01+9.24221042e+00j  1.01296153e+01-9.24221042e+00j\n",
      "  9.17204157e+00+1.02136307e+01j  9.17204157e+00-1.02136307e+01j\n",
      " -1.17219749e+00+1.35446303e+01j -1.17219749e+00-1.35446303e+01j\n",
      "  1.19642189e+01+6.48425250e+00j  1.19642189e+01-6.48425250e+00j\n",
      " -1.31910939e+01+1.55033629e+00j -1.31910939e+01-1.55033629e+00j\n",
      " -1.10492508e+01+4.10325935e+00j -1.10492508e+01-4.10325935e+00j\n",
      " -1.15692306e+01+0.00000000e+00j -1.13032151e+01+0.00000000e+00j\n",
      "  1.19280096e+01+0.00000000e+00j  1.78030295e+00+1.07489748e+01j\n",
      "  1.78030295e+00-1.07489748e+01j -1.84255563e+00+1.00965425e+01j\n",
      " -1.84255563e+00-1.00965425e+01j  7.43117968e+00+8.35413006e+00j\n",
      "  7.43117968e+00-8.35413006e+00j  9.68275835e+00+4.34905974e+00j\n",
      "  9.68275835e+00-4.34905974e+00j  1.00967516e+01+0.00000000e+00j\n",
      "  4.17191073e+00+8.81767555e+00j  4.17191073e+00-8.81767555e+00j\n",
      "  6.57995488e+00+7.21449624e+00j  6.57995488e+00-7.21449624e+00j\n",
      " -9.33484330e+00+2.57928210e+00j -9.33484330e+00-2.57928210e+00j\n",
      " -9.04391859e+00+9.90842479e-01j -9.04391859e+00-9.90842479e-01j\n",
      "  9.53267882e-01+8.85254910e+00j  9.53267882e-01-8.85254910e+00j\n",
      "  8.78822612e+00+0.00000000e+00j  7.40221118e+00+2.98073583e+00j\n",
      "  7.40221118e+00-2.98073583e+00j  7.78388658e+00+1.04185761e+00j\n",
      "  7.78388658e+00-1.04185761e+00j -6.15533777e+00+4.69537068e+00j\n",
      " -6.15533777e+00-4.69537068e+00j -7.91279065e+00+0.00000000e+00j\n",
      "  5.30908153e+00+4.54068859e+00j  5.30908153e+00-4.54068859e+00j\n",
      "  2.11107754e-02+7.27994379e+00j  2.11107754e-02-7.27994379e+00j\n",
      " -6.14093189e+00+2.23970979e+00j -6.14093189e+00-2.23970979e+00j\n",
      " -6.46708948e+00+0.00000000e+00j -1.12235745e+00+6.53924604e+00j\n",
      " -1.12235745e+00-6.53924604e+00j -2.61661773e+00+5.92654692e+00j\n",
      " -2.61661773e+00-5.92654692e+00j  6.22385714e+00+1.18492383e+00j\n",
      "  6.22385714e+00-1.18492383e+00j -4.21989607e+00+4.21920228e+00j\n",
      " -4.21989607e+00-4.21920228e+00j  2.64626492e+00+5.87508072e+00j\n",
      "  2.64626492e+00-5.87508072e+00j  2.15793088e+00+5.92699199e+00j\n",
      "  2.15793088e+00-5.92699199e+00j  8.33873891e-01+5.98807696e+00j\n",
      "  8.33873891e-01-5.98807696e+00j -5.89299492e+00+0.00000000e+00j\n",
      " -5.80438380e+00+0.00000000e+00j -5.05536424e+00+1.74662329e+00j\n",
      " -5.05536424e+00-1.74662329e+00j -3.16827010e+00+4.01580198e+00j\n",
      " -3.16827010e+00-4.01580198e+00j  5.02596250e+00+3.30722065e+00j\n",
      "  5.02596250e+00-3.30722065e+00j -4.43568952e+00+7.78404092e-01j\n",
      " -4.43568952e+00-7.78404092e-01j  5.91428472e+00+0.00000000e+00j\n",
      "  5.66885172e+00+0.00000000e+00j  1.06862436e+00+4.39143316e+00j\n",
      "  1.06862436e+00-4.39143316e+00j  2.01531019e+00+4.00282845e+00j\n",
      "  2.01531019e+00-4.00282845e+00j  5.10421229e+00+6.12828888e-01j\n",
      "  5.10421229e+00-6.12828888e-01j  4.06793178e+00+2.44580036e+00j\n",
      "  4.06793178e+00-2.44580036e+00j  4.67848615e+00+6.34920958e-01j\n",
      "  4.67848615e+00-6.34920958e-01j  4.81489355e+00+0.00000000e+00j\n",
      " -1.73258274e+00+3.96769826e+00j -1.73258274e+00-3.96769826e+00j\n",
      "  1.15857690e-01+4.33032021e+00j  1.15857690e-01-4.33032021e+00j\n",
      " -3.28381658e+00+2.58337544e+00j -3.28381658e+00-2.58337544e+00j\n",
      " -1.95697940e+00+3.45133526e+00j -1.95697940e+00-3.45133526e+00j\n",
      "  7.85875827e-01+3.71412644e+00j  7.85875827e-01-3.71412644e+00j\n",
      " -9.93756659e-02+3.66492078e+00j -9.93756659e-02-3.66492078e+00j\n",
      "  3.78836289e+00+0.00000000e+00j  2.66736993e+00+2.59398219e+00j\n",
      "  2.66736993e+00-2.59398219e+00j  3.17986929e+00+1.84900955e+00j\n",
      "  3.17986929e+00-1.84900955e+00j  1.91109609e+00+3.08059506e+00j\n",
      "  1.91109609e+00-3.08059506e+00j -3.89492417e+00+0.00000000e+00j\n",
      " -3.63250111e+00+8.84977408e-01j -3.63250111e+00-8.84977408e-01j\n",
      " -3.18525259e+00+1.30433896e+00j -3.18525259e+00-1.30433896e+00j\n",
      "  3.48337844e+00+0.00000000e+00j  2.01061981e+00+2.39593783e+00j\n",
      "  2.01061981e+00-2.39593783e+00j  3.03452806e+00+7.94460316e-01j\n",
      "  3.03452806e+00-7.94460316e-01j -2.09190319e+00+2.19139362e+00j\n",
      " -2.09190319e+00-2.19139362e+00j -2.73802921e+00+1.50074373e+00j\n",
      " -2.73802921e+00-1.50074373e+00j -3.10870989e+00+4.83531758e-01j\n",
      " -3.10870989e+00-4.83531758e-01j  3.90380418e-01+2.84754049e+00j\n",
      "  3.90380418e-01-2.84754049e+00j -2.77564573e+00+7.11890995e-01j\n",
      " -2.77564573e+00-7.11890995e-01j  2.86872661e+00+0.00000000e+00j\n",
      "  1.92098593e+00+1.96036500e+00j  1.92098593e+00-1.96036500e+00j\n",
      "  2.59530858e+00+7.36999414e-01j  2.59530858e+00-7.36999414e-01j\n",
      "  2.50751755e+00+0.00000000e+00j -3.14649413e-01+2.75340152e+00j\n",
      " -3.14649413e-01-2.75340152e+00j -8.76919486e-01+2.44852875e+00j\n",
      " -8.76919486e-01-2.44852875e+00j -2.06378634e+00+1.79843461e+00j\n",
      " -2.06378634e+00-1.79843461e+00j -1.61342050e+00+1.94389543e+00j\n",
      " -1.61342050e+00-1.94389543e+00j  4.73403009e-02+2.34948289e+00j\n",
      "  4.73403009e-02-2.34948289e+00j -2.19506700e+00+6.82909700e-01j\n",
      " -2.19506700e+00-6.82909700e-01j -2.37506082e+00+1.89926326e-01j\n",
      " -2.37506082e+00-1.89926326e-01j -2.32647622e+00+0.00000000e+00j\n",
      "  1.84678414e+00+1.20073987e+00j  1.84678414e+00-1.20073987e+00j\n",
      "  1.44266585e+00+1.60304806e+00j  1.44266585e+00-1.60304806e+00j\n",
      "  1.93802144e+00+7.68133206e-01j  1.93802144e+00-7.68133206e-01j\n",
      "  1.80598551e+00+8.10392590e-01j  1.80598551e+00-8.10392590e-01j\n",
      "  1.93021131e+00+1.15783452e-01j  1.93021131e+00-1.15783452e-01j\n",
      "  8.21795983e-02+2.07119853e+00j  8.21795983e-02-2.07119853e+00j\n",
      "  1.18742703e-02+2.00824528e+00j  1.18742703e-02-2.00824528e+00j\n",
      "  5.94950573e-01+1.83879681e+00j  5.94950573e-01-1.83879681e+00j\n",
      "  2.00836138e-01+1.92246553e+00j  2.00836138e-01-1.92246553e+00j\n",
      " -1.88374281e+00+7.67408245e-01j -1.88374281e+00-7.67408245e-01j\n",
      " -1.92499873e+00+0.00000000e+00j -1.33649744e+00+1.21906823e+00j\n",
      " -1.33649744e+00-1.21906823e+00j -1.54156619e+00+9.07390566e-01j\n",
      " -1.54156619e+00-9.07390566e-01j -1.07020317e+00+1.36052949e+00j\n",
      " -1.07020317e+00-1.36052949e+00j -1.71512299e+00+0.00000000e+00j\n",
      " -1.65431920e+00+9.97296555e-02j -1.65431920e+00-9.97296555e-02j\n",
      " -1.12632086e-01+1.68132579e+00j -1.12632086e-01-1.68132579e+00j\n",
      "  6.79436492e-01+1.62990284e+00j  6.79436492e-01-1.62990284e+00j\n",
      "  1.81550730e+00+3.49905429e-01j  1.81550730e+00-3.49905429e-01j\n",
      "  1.30504851e+00+1.14487530e+00j  1.30504851e+00-1.14487530e+00j\n",
      "  1.74212514e+00+0.00000000e+00j  1.13677059e+00+1.17150691e+00j\n",
      "  1.13677059e+00-1.17150691e+00j -1.36576494e+00+6.80884251e-01j\n",
      " -1.36576494e+00-6.80884251e-01j -1.16941134e+00+7.94596828e-01j\n",
      " -1.16941134e+00-7.94596828e-01j -7.70201674e-02+1.43724695e+00j\n",
      " -7.70201674e-02-1.43724695e+00j -5.59045633e-01+1.24729992e+00j\n",
      " -5.59045633e-01-1.24729992e+00j  6.50608432e-01+1.26217327e+00j\n",
      "  6.50608432e-01-1.26217327e+00j  1.33571205e+00+6.00761572e-01j\n",
      "  1.33571205e+00-6.00761572e-01j  1.40768259e+00+3.19700329e-01j\n",
      "  1.40768259e+00-3.19700329e-01j  1.06380889e+00+9.12865266e-01j\n",
      "  1.06380889e+00-9.12865266e-01j -9.34761852e-01+9.41773717e-01j\n",
      " -9.34761852e-01-9.41773717e-01j -6.42578585e-01+1.11496723e+00j\n",
      " -6.42578585e-01-1.11496723e+00j -1.19295001e+00+0.00000000e+00j\n",
      " -9.77797686e-01+5.87604189e-01j -9.77797686e-01-5.87604189e-01j\n",
      " -1.09986536e+00+0.00000000e+00j -3.48198271e-01+1.11896912e+00j\n",
      " -3.48198271e-01-1.11896912e+00j  1.09373660e+00+6.63084351e-01j\n",
      "  1.09373660e+00-6.63084351e-01j  1.27266558e+00+0.00000000e+00j\n",
      " -5.66047410e-01+8.80386690e-01j -5.66047410e-01-8.80386690e-01j\n",
      " -1.06787081e-01+1.13002926e+00j -1.06787081e-01-1.13002926e+00j\n",
      "  2.98866826e-01+1.11110163e+00j  2.98866826e-01-1.11110163e+00j\n",
      "  5.99262363e-01+9.88358170e-01j  5.99262363e-01-9.88358170e-01j\n",
      "  1.22117409e-01+1.06231652e+00j  1.22117409e-01-1.06231652e+00j\n",
      "  9.61993586e-01+5.62075145e-01j  9.61993586e-01-5.62075145e-01j\n",
      "  1.10385295e+00+0.00000000e+00j  5.52091610e-01+8.71423170e-01j\n",
      "  5.52091610e-01-8.71423170e-01j -9.30755203e-01+4.01071824e-01j\n",
      " -9.30755203e-01-4.01071824e-01j  7.88931909e-01+6.22208827e-01j\n",
      "  7.88931909e-01-6.22208827e-01j  5.97825895e-01+7.15103526e-01j\n",
      "  5.97825895e-01-7.15103526e-01j  9.08070178e-01+1.58108454e-01j\n",
      "  9.08070178e-01-1.58108454e-01j -9.17607744e-01+1.65913640e-01j\n",
      " -9.17607744e-01-1.65913640e-01j -4.95904116e-01+6.91514087e-01j\n",
      " -4.95904116e-01-6.91514087e-01j -5.81510791e-01+5.86330494e-01j\n",
      " -5.81510791e-01-5.86330494e-01j  7.50630257e-01+3.55286451e-01j\n",
      "  7.50630257e-01-3.55286451e-01j  8.15966123e-01+0.00000000e+00j\n",
      "  7.31781448e-02+7.83767560e-01j  7.31781448e-02-7.83767560e-01j\n",
      "  1.58507179e-01+7.58990139e-01j  1.58507179e-01-7.58990139e-01j\n",
      " -7.50141271e-01+6.67150753e-02j -7.50141271e-01-6.67150753e-02j\n",
      " -2.73800066e-01+7.42547187e-01j -2.73800066e-01-7.42547187e-01j\n",
      " -4.94046097e-01+5.47818690e-01j -4.94046097e-01-5.47818690e-01j\n",
      " -2.90309189e-01+6.45980632e-01j -2.90309189e-01-6.45980632e-01j\n",
      " -5.77730290e-01+3.61995083e-01j -5.77730290e-01-3.61995083e-01j\n",
      "  7.35885182e-01+0.00000000e+00j  1.73643543e-01+6.61107837e-01j\n",
      "  1.73643543e-01-6.61107837e-01j  4.29302778e-01+4.84304419e-01j\n",
      "  4.29302778e-01-4.84304419e-01j  2.43241780e-01+5.72286943e-01j\n",
      "  2.43241780e-01-5.72286943e-01j  6.18969462e-01+0.00000000e+00j\n",
      "  5.28150038e-01+3.25096642e-01j  5.28150038e-01-3.25096642e-01j\n",
      "  5.84838725e-01+9.07482191e-02j  5.84838725e-01-9.07482191e-02j\n",
      "  4.85446345e-01+2.77826483e-01j  4.85446345e-01-2.77826483e-01j\n",
      "  7.71048309e-02+5.28219544e-01j  7.71048309e-02-5.28219544e-01j\n",
      " -2.68119458e-01+4.94271254e-01j -2.68119458e-01-4.94271254e-01j\n",
      " -5.86689528e-01+4.22913163e-02j -5.86689528e-01-4.22913163e-02j\n",
      " -4.52239514e-01+2.83088445e-01j -4.52239514e-01-2.83088445e-01j\n",
      " -5.16510033e-01+1.35454350e-01j -5.16510033e-01-1.35454350e-01j\n",
      "  4.90368015e-01+1.43491329e-01j  4.90368015e-01-1.43491329e-01j\n",
      "  1.90618199e-01+4.83776504e-01j  1.90618199e-01-4.83776504e-01j\n",
      "  3.70740004e-01+2.85823604e-01j  3.70740004e-01-2.85823604e-01j\n",
      " -1.80870443e-01+4.57931293e-01j -1.80870443e-01-4.57931293e-01j\n",
      " -9.02454286e-02+4.66973087e-01j -9.02454286e-02-4.66973087e-01j\n",
      " -2.39814982e-01+3.29296617e-01j -2.39814982e-01-3.29296617e-01j\n",
      " -3.75773630e-01+1.61636242e-01j -3.75773630e-01-1.61636242e-01j\n",
      "  4.02723483e-01+0.00000000e+00j  8.66550951e-02+3.82002457e-01j\n",
      "  8.66550951e-02-3.82002457e-01j  1.37002758e-01+3.54990045e-01j\n",
      "  1.37002758e-01-3.54990045e-01j  3.27843874e-01+1.49441272e-01j\n",
      "  3.27843874e-01-1.49441272e-01j  2.22974955e-01+2.49963113e-01j\n",
      "  2.22974955e-01-2.49963113e-01j -2.04491221e-01+2.54999819e-01j\n",
      " -2.04491221e-01-2.54999819e-01j -2.64403134e-01+2.00549790e-01j\n",
      " -2.64403134e-01-2.00549790e-01j -3.12444755e-01+6.42939892e-02j\n",
      " -3.12444755e-01-6.42939892e-02j  5.53773113e-03+3.15908407e-01j\n",
      "  5.53773113e-03-3.15908407e-01j -2.88275782e-01+2.03683216e-02j\n",
      " -2.88275782e-01-2.03683216e-02j  3.30819547e-01+0.00000000e+00j\n",
      " -7.53670104e-02+2.53864148e-01j -7.53670104e-02-2.53864148e-01j\n",
      "  1.37565959e-01+2.45197696e-01j  1.37565959e-01-2.45197696e-01j\n",
      " -1.96665701e-01+1.38260903e-01j -1.96665701e-01-1.38260903e-01j\n",
      " -1.21901354e-01+1.81812488e-01j -1.21901354e-01-1.81812488e-01j\n",
      " -1.95063589e-01+7.98728673e-02j -1.95063589e-01-7.98728673e-02j\n",
      "  2.65212646e-01+0.00000000e+00j  6.82172444e-02+2.17352837e-01j\n",
      "  6.82172444e-02-2.17352837e-01j -1.90423719e-02+2.10162681e-01j\n",
      " -1.90423719e-02-2.10162681e-01j  1.39752875e-01+1.90612481e-01j\n",
      "  1.39752875e-01-1.90612481e-01j  2.10413128e-01+1.17672377e-01j\n",
      "  2.10413128e-01-1.17672377e-01j  2.05388410e-01+8.27617280e-02j\n",
      "  2.05388410e-01-8.27617280e-02j  1.93611151e-01+0.00000000e+00j\n",
      "  1.04150592e-02+1.72126439e-01j  1.04150592e-02-1.72126439e-01j\n",
      " -1.80233945e-01+7.02019193e-03j -1.80233945e-01-7.02019193e-03j\n",
      "  9.25114631e-02+1.27351161e-01j  9.25114631e-02-1.27351161e-01j\n",
      " -1.47547063e-01+0.00000000e+00j  9.64021640e-02+1.05137047e-01j\n",
      "  9.64021640e-02-1.05137047e-01j -2.75139538e-02+1.16404069e-01j\n",
      " -2.75139538e-02-1.16404069e-01j -7.78813740e-02+7.98383704e-02j\n",
      " -7.78813740e-02-7.98383704e-02j  1.19215448e-01+8.12852264e-03j\n",
      "  1.19215448e-01-8.12852264e-03j -5.30621191e-02+4.77696046e-02j\n",
      " -5.30621191e-02-4.77696046e-02j  3.63268089e-02+6.79599052e-02j\n",
      "  3.63268089e-02-6.79599052e-02j  2.64859540e-03+4.70910602e-02j\n",
      "  2.64859540e-03-4.70910602e-02j  4.19428398e-02+3.09882050e-02j\n",
      "  4.19428398e-02-3.09882050e-02j  6.08285781e-02+0.00000000e+00j\n",
      " -2.55735515e-02+0.00000000e+00j -3.47250476e-02+0.00000000e+00j\n",
      "  3.78120982e-13+0.00000000e+00j  3.08622897e-03+0.00000000e+00j] [[-1.44299386e-02+0.j         -3.12845539e-02+0.j\n",
      "  -1.15230368e-02-0.00149662j ...  2.44513625e-02+0.j\n",
      "  -1.22825276e-07+0.j         -1.34027541e-03+0.j        ]\n",
      " [-1.72273233e-02+0.j          1.82290354e-02+0.j\n",
      "  -6.88359475e-03-0.00177507j ... -2.53111630e-02+0.j\n",
      "   1.33197200e-07+0.j         -2.11327369e-04+0.j        ]\n",
      " [-1.66819543e-02+0.j          1.26772308e-02+0.j\n",
      "  -2.89875703e-02+0.00381374j ... -1.21663195e-02+0.j\n",
      "  -1.56874664e-06+0.j          1.92466603e-02+0.j        ]\n",
      " ...\n",
      " [-2.23568635e-02+0.j          1.56531758e-03+0.j\n",
      "  -1.03801922e-02+0.03020403j ...  2.54974565e-02+0.j\n",
      "  -2.18186002e-06+0.j          3.80970570e-02+0.j        ]\n",
      " [-2.89178147e-03+0.j          2.07714393e-04+0.j\n",
      "   4.85058677e-02+0.02702191j ...  4.38238270e-03+0.j\n",
      "   7.07106607e-01+0.j          3.45440702e-03+0.j        ]\n",
      " [-2.89178141e-03+0.j          2.07715432e-04+0.j\n",
      "   4.85058648e-02+0.02702191j ...  4.38266509e-03+0.j\n",
      "  -7.07106954e-01+0.j          3.45564735e-03+0.j        ]]\n",
      "[[1.47800333e+04+0.00000000e+00j 3.90460864e+03+7.10542736e-15j\n",
      "  2.11212167e+04+1.22779727e+04j ... 3.92110200e+03+2.51591305e+02j\n",
      "  7.26637713e+01+4.38767485e+01j 7.26637713e+01-4.38767485e+01j]\n",
      " [3.90460864e+03-7.10542736e-15j 1.39940102e+03+0.00000000e+00j\n",
      "  5.35783089e+03+3.04123547e+03j ... 9.31400774e+02+5.13614508e+01j\n",
      "  2.63448317e+01+1.70244857e+01j 2.63448317e+01-1.70244857e+01j]\n",
      " [2.11212167e+04-1.22779727e+04j 5.35783089e+03-3.04123547e+03j\n",
      "  3.66631174e+04+0.00000000e+00j ... 5.86264356e+03-2.57893096e+03j\n",
      "  1.20300197e+02+2.45908973e+01j 1.04545696e+02-6.54301028e+01j]\n",
      " ...\n",
      " [3.92110200e+03-2.51591305e+02j 9.31400774e+02-5.13614508e+01j\n",
      "  5.86264356e+03+2.57893096e+03j ... 9.04610572e+02+0.00000000e+00j\n",
      "  3.79668371e+01+2.52228795e+01j 3.83582744e+01-3.06829232e+01j]\n",
      " [7.26637713e+01-4.38767485e+01j 2.63448317e+01-1.70244857e+01j\n",
      "  1.20300197e+02-2.45908973e+01j ... 3.79668371e+01-2.52228795e+01j\n",
      "  1.31847956e+01+0.00000000e+00j 9.34149432e+00-1.66303017e+01j]\n",
      " [7.26637713e+01+4.38767485e+01j 2.63448317e+01+1.70244857e+01j\n",
      "  1.04545696e+02+6.54301028e+01j ... 3.83582744e+01+3.06829232e+01j\n",
      "  9.34149432e+00+1.66303017e+01j 1.31847956e+01+0.00000000e+00j]]\n",
      "[[ 7.43390370e+01+0.00000000e+00j  3.50476854e+02-3.55271368e-15j\n",
      "   2.65195281e+01+2.15793735e+00j ...  1.35041840e+02+4.44089210e-15j\n",
      "   2.31882278e-06+2.64697796e-23j  5.76916434e-01+0.00000000e+00j]\n",
      " [ 3.50476854e+02+3.55271368e-15j  9.72645619e+02+0.00000000e+00j\n",
      "   2.15424292e+02+8.14803105e+01j ...  6.35239459e+02+7.10542736e-15j\n",
      "   5.82680029e-08+8.27180613e-24j  3.23686522e+01+1.77635684e-15j]\n",
      " [ 2.65195281e+01-2.15793735e+00j  2.15424292e+02-8.14803105e+01j\n",
      "   2.23360383e+01+0.00000000e+00j ...  8.32079089e+01-4.39931428e+01j\n",
      "   4.56167337e-04-7.34919120e-04j -2.67964672e-01+1.10852152e+00j]\n",
      " ...\n",
      " [ 1.35041840e+02-4.44089210e-15j  6.35239459e+02-7.10542736e-15j\n",
      "   8.32079089e+01+4.39931428e+01j ...  3.73382524e+02+0.00000000e+00j\n",
      "   5.04208602e-06+1.98523347e-23j  1.89984503e+01+0.00000000e+00j]\n",
      " [ 2.31882278e-06-2.64697796e-23j  5.82680029e-08-8.27180613e-24j\n",
      "   4.56167337e-04+7.34919120e-04j ...  5.04208602e-06-1.98523347e-23j\n",
      "   1.43312172e-03+0.00000000e+00j  3.01912973e-06-2.64697796e-23j]\n",
      " [ 5.76916434e-01+0.00000000e+00j  3.23686522e+01-1.77635684e-15j\n",
      "  -2.67964672e-01-1.10852152e+00j ...  1.89984503e+01+0.00000000e+00j\n",
      "   3.01912973e-06+2.64697796e-23j  1.38001009e+01+0.00000000e+00j]]\n",
      "166\n",
      "45\n",
      "iter: 1\n",
      "[ 4.29433586e+04+0.00000000e+00j  2.40219020e+02+1.98623011e+01j\n",
      "  2.40219020e+02-1.98623011e+01j -1.76568297e+02+0.00000000e+00j\n",
      " -1.66150330e+02+0.00000000e+00j -1.25947576e+02+0.00000000e+00j\n",
      " -9.20295823e+01+6.50448432e+01j -9.20295823e+01-6.50448432e+01j\n",
      "  9.96725549e+01+3.30184376e+01j  9.96725549e+01-3.30184376e+01j\n",
      "  9.73574479e+01+1.74576436e+01j  9.73574479e+01-1.74576436e+01j\n",
      "  9.46624342e+01+0.00000000e+00j -9.30263655e+01+0.00000000e+00j\n",
      " -6.36256333e+01+6.62156026e+01j -6.36256333e+01-6.62156026e+01j\n",
      " -6.64516918e+01+5.54910656e+01j -6.64516918e+01-5.54910656e+01j\n",
      "  7.94067177e+01+1.89355536e+01j  7.94067177e+01-1.89355536e+01j\n",
      "  1.95553575e+01+7.58427571e+01j  1.95553575e+01-7.58427571e+01j\n",
      " -7.87983754e+01+1.11885957e+01j -7.87983754e+01-1.11885957e+01j\n",
      "  7.89139395e+01+0.00000000e+00j  2.53629282e-01+6.60905335e+01j\n",
      "  2.53629282e-01-6.60905335e+01j  7.00761630e+01+2.00427434e+01j\n",
      "  7.00761630e+01-2.00427434e+01j  6.14247119e+01+3.11043915e+01j\n",
      "  6.14247119e+01-3.11043915e+01j -5.07024264e+01+4.33596379e+01j\n",
      " -5.07024264e+01-4.33596379e+01j -5.80409672e+01+3.29096449e+01j\n",
      " -5.80409672e+01-3.29096449e+01j -6.71401057e+01+3.53864652e+00j\n",
      " -6.71401057e+01-3.53864652e+00j -6.07009503e+01+1.59676267e+01j\n",
      " -6.07009503e+01-1.59676267e+01j -5.01961931e+01+2.84668326e+01j\n",
      " -5.01961931e+01-2.84668326e+01j  3.74333286e+01+4.28939210e+01j\n",
      "  3.74333286e+01-4.28939210e+01j -4.84074215e+01+5.93870665e+00j\n",
      " -4.84074215e+01-5.93870665e+00j  5.40902861e+01+2.11302983e+01j\n",
      "  5.40902861e+01-2.11302983e+01j  3.03249701e+00+4.62586155e+01j\n",
      "  3.03249701e+00-4.62586155e+01j  1.75809275e+01+4.35239287e+01j\n",
      "  1.75809275e+01-4.35239287e+01j  5.25129194e+01+5.40041840e+00j\n",
      "  5.25129194e+01-5.40041840e+00j  2.62910025e+01+3.78326462e+01j\n",
      "  2.62910025e+01-3.78326462e+01j  4.69094829e+01+6.50922542e+00j\n",
      "  4.69094829e+01-6.50922542e+00j -3.46481922e+01+2.57823837e+01j\n",
      " -3.46481922e+01-2.57823837e+01j -4.38783565e+01+1.49444541e+00j\n",
      " -4.38783565e+01-1.49444541e+00j  1.70951038e+01+3.83376997e+01j\n",
      "  1.70951038e+01-3.83376997e+01j -3.63658968e+01+0.00000000e+00j\n",
      " -2.25409113e+01+2.67199128e+01j -2.25409113e+01-2.67199128e+01j\n",
      " -3.23068192e+01+1.08462287e+01j -3.23068192e+01-1.08462287e+01j\n",
      " -2.86671074e+01+1.81289972e+01j -2.86671074e+01-1.81289972e+01j\n",
      " -1.41276290e+01+3.10137329e+01j -1.41276290e+01-3.10137329e+01j\n",
      "  4.20792593e+01+0.00000000e+00j  2.00256257e+01+3.13839781e+01j\n",
      "  2.00256257e+01-3.13839781e+01j  2.64826815e+01+2.60585726e+01j\n",
      "  2.64826815e+01-2.60585726e+01j  3.47340858e+01+1.32037762e+01j\n",
      "  3.47340858e+01-1.32037762e+01j  6.28518777e+00+2.85026485e+01j\n",
      "  6.28518777e+00-2.85026485e+01j  2.32212547e+01+1.96177236e+01j\n",
      "  2.32212547e+01-1.96177236e+01j  3.17302443e+01+0.00000000e+00j\n",
      "  3.05625285e+01+3.08584621e+00j  3.05625285e+01-3.08584621e+00j\n",
      " -9.82599013e+00+2.63724561e+01j -9.82599013e+00-2.63724561e+01j\n",
      "  1.53003155e+01+2.23766990e+01j  1.53003155e+01-2.23766990e+01j\n",
      " -1.44454504e+01+2.01169726e+01j -1.44454504e+01-2.01169726e+01j\n",
      "  4.54407203e+00+2.40956029e+01j  4.54407203e+00-2.40956029e+01j\n",
      " -2.68954592e+01+0.00000000e+00j -2.32686451e+01+7.99854927e+00j\n",
      " -2.32686451e+01-7.99854927e+00j -1.88008228e+01+1.28271902e+01j\n",
      " -1.88008228e+01-1.28271902e+01j -2.28805440e+01+3.25254024e+00j\n",
      " -2.28805440e+01-3.25254024e+00j -2.29906869e+01+0.00000000e+00j\n",
      "  2.33259750e+01+1.10302089e+01j  2.33259750e+01-1.10302089e+01j\n",
      " -3.76748639e+00+2.17001597e+01j -3.76748639e+00-2.17001597e+01j\n",
      "  1.68672111e+01+1.60293926e+01j  1.68672111e+01-1.60293926e+01j\n",
      "  2.42691916e+01+0.00000000e+00j  2.50553679e+00+1.98557345e+01j\n",
      "  2.50553679e+00-1.98557345e+01j  1.33715848e+01+1.56827186e+01j\n",
      "  1.33715848e+01-1.56827186e+01j  2.05982834e+01+2.78521279e+00j\n",
      "  2.05982834e+01-2.78521279e+00j -1.93619741e+01+0.00000000e+00j\n",
      " -1.10927429e+01+1.58338252e+01j -1.10927429e+01-1.58338252e+01j\n",
      " -6.66102736e-01+1.90706075e+01j -6.66102736e-01-1.90706075e+01j\n",
      "  9.94359477e+00+1.78260796e+01j  9.94359477e+00-1.78260796e+01j\n",
      "  1.32216934e+01+1.45414021e+01j  1.32216934e+01-1.45414021e+01j\n",
      "  8.06936035e+00+1.63273589e+01j  8.06936035e+00-1.63273589e+01j\n",
      " -1.20676849e+01+1.02776506e+01j -1.20676849e+01-1.02776506e+01j\n",
      "  5.62488565e+00+1.45879822e+01j  5.62488565e+00-1.45879822e+01j\n",
      "  1.48284725e+01+6.47372374e+00j  1.48284725e+01-6.47372374e+00j\n",
      "  1.61690449e+01+3.26453564e+00j  1.61690449e+01-3.26453564e+00j\n",
      " -9.63900833e+00+1.13242719e+01j -9.63900833e+00-1.13242719e+01j\n",
      "  1.49315172e+01+0.00000000e+00j  1.04060066e+01+9.84453047e+00j\n",
      "  1.04060066e+01-9.84453047e+00j -6.72596633e+00+1.22245132e+01j\n",
      " -6.72596633e+00-1.22245132e+01j  1.11446900e+01+7.77192518e+00j\n",
      "  1.11446900e+01-7.77192518e+00j  1.20468381e+01+5.02690672e+00j\n",
      "  1.20468381e+01-5.02690672e+00j -1.38823417e+01+2.63839097e+00j\n",
      " -1.38823417e+01-2.63839097e+00j  1.17828223e+01+0.00000000e+00j\n",
      "  6.89342791e-01+1.21871581e+01j  6.89342791e-01-1.21871581e+01j\n",
      " -1.24190634e+01+0.00000000e+00j -7.79794815e+00+8.28104349e+00j\n",
      " -7.79794815e+00-8.28104349e+00j -4.36682440e-01+1.14693176e+01j\n",
      " -4.36682440e-01-1.14693176e+01j  3.43918577e+00+1.09899310e+01j\n",
      "  3.43918577e+00-1.09899310e+01j  4.78598885e+00+1.02165570e+01j\n",
      "  4.78598885e+00-1.02165570e+01j  3.95568784e+00+1.00865053e+01j\n",
      "  3.95568784e+00-1.00865053e+01j -2.08642610e+00+1.00229400e+01j\n",
      " -2.08642610e+00-1.00229400e+01j -1.06612347e+01+1.72665369e+00j\n",
      " -1.06612347e+01-1.72665369e+00j -1.05241966e+01+0.00000000e+00j\n",
      " -9.10284791e+00+4.41115293e+00j -9.10284791e+00-4.41115293e+00j\n",
      "  5.34696348e+00+8.42160144e+00j  5.34696348e+00-8.42160144e+00j\n",
      "  9.49001505e+00+2.17071009e+00j  9.49001505e+00-2.17071009e+00j\n",
      "  6.05940497e+00+7.57648456e+00j  6.05940497e+00-7.57648456e+00j\n",
      "  7.45346060e+00+5.95733489e+00j  7.45346060e+00-5.95733489e+00j\n",
      " -9.27081779e+00+3.25319980e+00j -9.27081779e+00-3.25319980e+00j\n",
      "  7.38830044e+00+3.81400059e+00j  7.38830044e+00-3.81400059e+00j\n",
      "  8.08848104e+00+0.00000000e+00j -5.14488212e+00+7.28199948e+00j\n",
      " -5.14488212e+00-7.28199948e+00j  8.62627185e-01+8.06925950e+00j\n",
      "  8.62627185e-01-8.06925950e+00j -5.46387755e+00+6.40347973e+00j\n",
      " -5.46387755e+00-6.40347973e+00j -8.42534574e+00+6.76733165e-01j\n",
      " -8.42534574e+00-6.76733165e-01j -6.41634841e+00+4.81477683e+00j\n",
      " -6.41634841e+00-4.81477683e+00j  6.89704346e+00+3.64629855e+00j\n",
      "  6.89704346e+00-3.64629855e+00j  5.66667715e+00+5.53505826e+00j\n",
      "  5.66667715e+00-5.53505826e+00j -7.92219537e+00+0.00000000e+00j\n",
      " -6.86683963e+00+2.46086281e+00j -6.86683963e+00-2.46086281e+00j\n",
      "  3.31009959e+00+6.56904045e+00j  3.31009959e+00-6.56904045e+00j\n",
      "  6.72738864e+00+0.00000000e+00j -6.51236737e+00+3.83786691e-01j\n",
      " -6.51236737e+00-3.83786691e-01j -2.46100480e+00+5.97416780e+00j\n",
      " -2.46100480e+00-5.97416780e+00j -3.85133229e-01+6.45400682e+00j\n",
      " -3.85133229e-01-6.45400682e+00j  4.31389532e+00+4.74980522e+00j\n",
      "  4.31389532e+00-4.74980522e+00j  1.71428499e+00+6.00030283e+00j\n",
      "  1.71428499e+00-6.00030283e+00j  3.64303090e+00+4.80412906e+00j\n",
      "  3.64303090e+00-4.80412906e+00j  4.62901590e+00+3.47145275e+00j\n",
      "  4.62901590e+00-3.47145275e+00j  5.63675816e+00+1.36397038e+00j\n",
      "  5.63675816e+00-1.36397038e+00j -5.05407412e+00+2.21152576e+00j\n",
      " -5.05407412e+00-2.21152576e+00j  8.44619175e-01+5.72594500e+00j\n",
      "  8.44619175e-01-5.72594500e+00j -5.40173830e+00+0.00000000e+00j\n",
      "  4.84096394e+00+2.03954462e+00j  4.84096394e+00-2.03954462e+00j\n",
      "  5.21425211e+00+0.00000000e+00j -2.17178746e+00+4.54319025e+00j\n",
      " -2.17178746e+00-4.54319025e+00j -2.65281341e+00+4.17903220e+00j\n",
      " -2.65281341e+00-4.17903220e+00j  2.01878994e+00+4.68473325e+00j\n",
      "  2.01878994e+00-4.68473325e+00j -3.84508406e-02+5.05264583e+00j\n",
      " -3.84508406e-02-5.05264583e+00j  1.74748998e-01+4.93733418e+00j\n",
      "  1.74748998e-01-4.93733418e+00j -3.39090759e+00+3.53776884e+00j\n",
      " -3.39090759e+00-3.53776884e+00j  1.39400276e+00+4.46400300e+00j\n",
      "  1.39400276e+00-4.46400300e+00j  4.48748532e+00+1.14327524e+00j\n",
      "  4.48748532e+00-1.14327524e+00j -4.92146147e+00+4.74220338e-01j\n",
      " -4.92146147e+00-4.74220338e-01j  2.95498798e+00+2.84323328e+00j\n",
      "  2.95498798e+00-2.84323328e+00j  3.89308434e+00+0.00000000e+00j\n",
      "  1.57590896e+00+3.65339529e+00j  1.57590896e+00-3.65339529e+00j\n",
      " -4.11488658e+00+1.67328828e+00j -4.11488658e+00-1.67328828e+00j\n",
      " -2.63089419e+00+3.06280950e+00j -2.63089419e+00-3.06280950e+00j\n",
      " -1.57672618e+00+3.33861905e+00j -1.57672618e+00-3.33861905e+00j\n",
      " -3.14236985e+00+2.24472824e+00j -3.14236985e+00-2.24472824e+00j\n",
      " -3.72749878e+00+1.08214653e+00j -3.72749878e+00-1.08214653e+00j\n",
      " -3.85348012e+00+0.00000000e+00j -3.52605418e+00+5.76572547e-01j\n",
      " -3.52605418e+00-5.76572547e-01j  3.02634217e+00+2.11671276e+00j\n",
      "  3.02634217e+00-2.11671276e+00j  3.42976248e+00+6.61061845e-01j\n",
      "  3.42976248e+00-6.61061845e-01j  3.20188497e+00+0.00000000e+00j\n",
      "  3.97940200e-02+3.17113935e+00j  3.97940200e-02-3.17113935e+00j\n",
      " -2.00309002e+00+2.51273287e+00j -2.00309002e+00-2.51273287e+00j\n",
      " -2.78134357e+00+1.77552524e+00j -2.78134357e+00-1.77552524e+00j\n",
      " -3.42968805e+00+0.00000000e+00j  2.77397120e+00+1.10022330e+00j\n",
      "  2.77397120e+00-1.10022330e+00j  7.28169598e-01+2.56827254e+00j\n",
      "  7.28169598e-01-2.56827254e+00j  1.41496891e+00+2.24831906e+00j\n",
      "  1.41496891e+00-2.24831906e+00j  1.54109788e+00+2.08144741e+00j\n",
      "  1.54109788e+00-2.08144741e+00j -8.47196999e-01+2.52945220e+00j\n",
      " -8.47196999e-01-2.52945220e+00j -2.92102674e+00+1.88283368e-01j\n",
      " -2.92102674e+00-1.88283368e-01j -2.34309102e+00+1.29207718e+00j\n",
      " -2.34309102e+00-1.29207718e+00j -1.59629452e+00+1.77244132e+00j\n",
      " -1.59629452e+00-1.77244132e+00j -4.37076749e-01+2.43429863e+00j\n",
      " -4.37076749e-01-2.43429863e+00j  2.04982425e+00+1.42130951e+00j\n",
      "  2.04982425e+00-1.42130951e+00j  2.52044614e+00+1.53799005e-01j\n",
      "  2.52044614e+00-1.53799005e-01j  2.37078291e+00+6.68441451e-01j\n",
      "  2.37078291e+00-6.68441451e-01j -8.06714060e-01+2.09094508e+00j\n",
      " -8.06714060e-01-2.09094508e+00j  7.26711870e-01+2.17614704e+00j\n",
      "  7.26711870e-01-2.17614704e+00j  8.88218115e-01+2.22197376e+00j\n",
      "  8.88218115e-01-2.22197376e+00j -2.24575481e+00+2.35101711e-01j\n",
      " -2.24575481e+00-2.35101711e-01j -2.21074633e+00+0.00000000e+00j\n",
      "  2.89340315e-01+2.04015064e+00j  2.89340315e-01-2.04015064e+00j\n",
      "  1.57370740e+00+1.29680468e+00j  1.57370740e+00-1.29680468e+00j\n",
      "  1.72274391e+00+8.85313445e-01j  1.72274391e+00-8.85313445e-01j\n",
      "  1.77565025e+00+2.14229162e-01j  1.77565025e+00-2.14229162e-01j\n",
      "  8.44700926e-01+1.57487214e+00j  8.44700926e-01-1.57487214e+00j\n",
      " -1.75661392e+00+5.88942301e-01j -1.75661392e+00-5.88942301e-01j\n",
      " -1.04309385e+00+1.47134654e+00j -1.04309385e+00-1.47134654e+00j\n",
      " -8.62827432e-01+1.55132646e+00j -8.62827432e-01-1.55132646e+00j\n",
      " -1.71973399e+00+0.00000000e+00j -4.92873120e-01+1.49989752e+00j\n",
      " -4.92873120e-01-1.49989752e+00j  1.49103832e+00+6.41806196e-01j\n",
      "  1.49103832e+00-6.41806196e-01j -1.52130697e+00+3.82198128e-01j\n",
      " -1.52130697e+00-3.82198128e-01j -1.44162273e+00+0.00000000e+00j\n",
      " -1.21190522e+00+6.58625413e-01j -1.21190522e+00-6.58625413e-01j\n",
      "  9.03150022e-01+1.06156470e+00j  9.03150022e-01-1.06156470e+00j\n",
      "  4.62566948e-02+1.32658257e+00j  4.62566948e-02-1.32658257e+00j\n",
      " -3.69761195e-01+1.19267522e+00j -3.69761195e-01-1.19267522e+00j\n",
      "  3.63445459e-01+1.22465347e+00j  3.63445459e-01-1.22465347e+00j\n",
      "  6.26500395e-01+1.10399657e+00j  6.26500395e-01-1.10399657e+00j\n",
      "  1.25240432e+00+0.00000000e+00j  1.15989559e+00+0.00000000e+00j\n",
      "  9.74831080e-01+5.91455400e-01j  9.74831080e-01-5.91455400e-01j\n",
      " -1.55913461e-01+1.03001677e+00j -1.55913461e-01-1.03001677e+00j\n",
      " -8.22682809e-01+7.45960928e-01j -8.22682809e-01-7.45960928e-01j\n",
      " -6.14657166e-01+7.99462043e-01j -6.14657166e-01-7.99462043e-01j\n",
      " -1.11709031e+00+0.00000000e+00j  3.81696297e-01+8.95038667e-01j\n",
      "  3.81696297e-01-8.95038667e-01j  1.01038355e+00+0.00000000e+00j\n",
      " -7.93578433e-01+4.71662421e-01j -7.93578433e-01-4.71662421e-01j\n",
      "  6.94826749e-01+5.57964545e-01j  6.94826749e-01-5.57964545e-01j\n",
      " -9.18449286e-01+0.00000000e+00j -8.27845303e-01+0.00000000e+00j\n",
      "  6.75880026e-01+3.52245802e-01j  6.75880026e-01-3.52245802e-01j\n",
      " -1.36540587e-01+7.69614658e-01j -1.36540587e-01-7.69614658e-01j\n",
      " -4.20326961e-01+5.31677379e-01j -4.20326961e-01-5.31677379e-01j\n",
      "  7.09551449e-01+0.00000000e+00j -5.06869888e-01+3.84710961e-01j\n",
      " -5.06869888e-01-3.84710961e-01j -6.63885453e-01+0.00000000e+00j\n",
      " -5.26482591e-01+1.68594890e-01j -5.26482591e-01-1.68594890e-01j\n",
      " -1.41893525e-01+5.11684748e-01j -1.41893525e-01-5.11684748e-01j\n",
      " -5.63725047e-02+5.02746436e-01j -5.63725047e-02-5.02746436e-01j\n",
      " -4.50735247e-01+0.00000000e+00j  1.60287613e-01+4.00953863e-01j\n",
      "  1.60287613e-01-4.00953863e-01j  4.58600048e-01+1.07971416e-01j\n",
      "  4.58600048e-01-1.07971416e-01j  3.29538925e-01+2.97023765e-01j\n",
      "  3.29538925e-01-2.97023765e-01j  3.48593182e-01+2.22711595e-01j\n",
      "  3.48593182e-01-2.22711595e-01j  4.28845304e-01+0.00000000e+00j\n",
      "  1.15490005e-01+3.47696302e-01j  1.15490005e-01-3.47696302e-01j\n",
      " -2.17696187e-01+2.38367103e-01j -2.17696187e-01-2.38367103e-01j\n",
      " -2.32320327e-01+1.28646828e-01j -2.32320327e-01-1.28646828e-01j\n",
      "  1.04387461e-01+1.40619843e-01j  1.04387461e-01-1.40619843e-01j\n",
      " -1.85663223e-01+0.00000000e+00j -9.44553597e-02+6.86610007e-02j\n",
      " -9.44553597e-02-6.86610007e-02j  1.75559868e-01+0.00000000e+00j\n",
      "  1.17484103e-01+0.00000000e+00j -3.85297312e-02+0.00000000e+00j] [[ 0.05378735+0.j          0.05101891+0.01484182j  0.05101891-0.01484182j\n",
      "  ...  0.00230038+0.j         -0.02525312+0.j\n",
      "  -0.01932885+0.j        ]\n",
      " [ 0.02745312+0.j          0.01376686+0.00482357j  0.01376686-0.00482357j\n",
      "  ... -0.03021704+0.j          0.06543646+0.j\n",
      "   0.01278846+0.j        ]\n",
      " [ 0.06672206+0.j          0.01146539+0.01192062j  0.01146539-0.01192062j\n",
      "  ... -0.01756789+0.j          0.01227796+0.j\n",
      "   0.02538399+0.j        ]\n",
      " ...\n",
      " [ 0.02718507+0.j         -0.03220211-0.01543463j -0.03220211+0.01543463j\n",
      "  ... -0.05218137+0.j          0.01547234+0.j\n",
      "  -0.01762047+0.j        ]\n",
      " [ 0.00416132+0.j         -0.00859846-0.02630521j -0.00859846+0.02630521j\n",
      "  ... -0.0035903 +0.j          0.00495421+0.j\n",
      "  -0.01310406+0.j        ]\n",
      " [ 0.00418048+0.j         -0.06747118-0.01376697j -0.06747118+0.01376697j\n",
      "  ...  0.01322309+0.j         -0.01936242+0.j\n",
      "   0.01108049+0.j        ]]\n",
      "[ 3.53735862e+04+0.00000000e+00j  2.65846642e+02+0.00000000e+00j\n",
      "  1.73320055e+02+0.00000000e+00j -1.47724266e+02+0.00000000e+00j\n",
      "  1.28395009e+02+1.88215907e+01j  1.28395009e+02-1.88215907e+01j\n",
      "  6.76513591e+00+1.05961358e+02j  6.76513591e+00-1.05961358e+02j\n",
      "  1.11067521e+02+0.00000000e+00j  1.03095675e+02+3.26359079e+01j\n",
      "  1.03095675e+02-3.26359079e+01j -1.15357845e+02+7.05648954e-01j\n",
      " -1.15357845e+02-7.05648954e-01j -8.16361982e+01+7.34536726e+01j\n",
      " -8.16361982e+01-7.34536726e+01j -8.45902837e+01+5.32852663e+01j\n",
      " -8.45902837e+01-5.32852663e+01j  8.29987168e+00+8.65417513e+01j\n",
      "  8.29987168e+00-8.65417513e+01j -5.91863036e+01+6.96767945e+01j\n",
      " -5.91863036e+01-6.96767945e+01j -6.82827329e+01+5.69276606e+01j\n",
      " -6.82827329e+01-5.69276606e+01j -8.60168490e+01+0.00000000e+00j\n",
      "  8.49577174e+01+3.24428516e+01j  8.49577174e+01-3.24428516e+01j\n",
      "  8.42986557e+01+0.00000000e+00j -5.89979488e+01+4.66527197e+01j\n",
      " -5.89979488e+01-4.66527197e+01j  4.22327256e+01+5.73406157e+01j\n",
      "  4.22327256e+01-5.73406157e+01j  5.80498162e+01+4.27864105e+01j\n",
      "  5.80498162e+01-4.27864105e+01j -7.35492270e+01+3.33952115e+00j\n",
      " -7.35492270e+01-3.33952115e+00j  7.20357533e+01+1.47243693e+01j\n",
      "  7.20357533e+01-1.47243693e+01j  7.27630776e+01+0.00000000e+00j\n",
      "  2.69250183e+01+5.15159009e+01j  2.69250183e+01-5.15159009e+01j\n",
      " -5.40207199e+01+2.82689701e+01j -5.40207199e+01-2.82689701e+01j\n",
      " -5.48612719e+01+1.66913733e+01j -5.48612719e+01-1.66913733e+01j\n",
      " -5.38367906e+01+0.00000000e+00j -5.03302284e+01+1.00803322e+01j\n",
      " -5.03302284e+01-1.00803322e+01j -3.71398160e+01+3.00559620e+01j\n",
      " -3.71398160e+01-3.00559620e+01j  4.58805433e+01+1.92467756e+01j\n",
      "  4.58805433e+01-1.92467756e+01j  4.66135427e+01+1.16774428e+01j\n",
      "  4.66135427e+01-1.16774428e+01j  4.82124692e+01+5.72110348e+00j\n",
      "  4.82124692e+01-5.72110348e+00j -4.42078130e+01+3.16872346e+00j\n",
      " -4.42078130e+01-3.16872346e+00j -4.16948567e+01+1.36388232e+01j\n",
      " -4.16948567e+01-1.36388232e+01j -2.25771536e+01+3.31691263e+01j\n",
      " -2.25771536e+01-3.31691263e+01j  2.60155565e+01+3.27335865e+01j\n",
      "  2.60155565e+01-3.27335865e+01j  9.48844652e+00+3.66809494e+01j\n",
      "  9.48844652e+00-3.66809494e+01j -2.31258547e+01+2.70762237e+01j\n",
      " -2.31258547e+01-2.70762237e+01j -3.00503418e+01+1.90372254e+01j\n",
      " -3.00503418e+01-1.90372254e+01j  3.07850245e+01+2.32454890e+01j\n",
      "  3.07850245e+01-2.32454890e+01j  3.72837222e+01+4.52542506e+00j\n",
      "  3.72837222e+01-4.52542506e+00j  3.05441301e+01+1.91139815e+01j\n",
      "  3.05441301e+01-1.91139815e+01j  3.12556047e+00+3.32549578e+01j\n",
      "  3.12556047e+00-3.32549578e+01j  1.26982194e+01+3.03878358e+01j\n",
      "  1.26982194e+01-3.03878358e+01j  1.98328540e+01+2.54443181e+01j\n",
      "  1.98328540e+01-2.54443181e+01j  1.31830497e+01+2.62438037e+01j\n",
      "  1.31830497e+01-2.62438037e+01j -3.22409533e+01+0.00000000e+00j\n",
      " -3.08114295e+01+2.52327023e+00j -3.08114295e+01-2.52327023e+00j\n",
      "  3.14252845e+01+0.00000000e+00j  2.83396293e+01+0.00000000e+00j\n",
      " -2.81282766e+01+0.00000000e+00j -1.45692967e+01+2.09262649e+01j\n",
      " -1.45692967e+01-2.09262649e+01j  5.56166572e+00+2.50203476e+01j\n",
      "  5.56166572e+00-2.50203476e+01j -2.05016649e+01+1.35252749e+01j\n",
      " -2.05016649e+01-1.35252749e+01j -2.13528291e+01+1.20171349e+01j\n",
      " -2.13528291e+01-1.20171349e+01j  2.48884021e+01+1.08898261e+01j\n",
      "  2.48884021e+01-1.08898261e+01j -4.27747139e+00+2.18744789e+01j\n",
      " -4.27747139e+00-2.18744789e+01j -2.29629584e+01+0.00000000e+00j\n",
      "  1.42163701e+01+1.96910401e+01j  1.42163701e+01-1.96910401e+01j\n",
      "  1.84392288e+01+1.59236343e+01j  1.84392288e+01-1.59236343e+01j\n",
      " -2.04673406e+01+1.41999836e+00j -2.04673406e+01-1.41999836e+00j\n",
      "  1.87057300e+01+1.31009303e+01j  1.87057300e+01-1.31009303e+01j\n",
      " -1.30999172e+01+1.29781583e+01j -1.30999172e+01-1.29781583e+01j\n",
      "  9.77923547e+00+1.74804825e+01j  9.77923547e+00-1.74804825e+01j\n",
      "  1.76681954e+01+1.11406609e+01j  1.76681954e+01-1.11406609e+01j\n",
      "  1.93758529e+01+0.00000000e+00j  1.81917446e+01+5.81673088e+00j\n",
      "  1.81917446e+01-5.81673088e+00j -1.77443773e+01+3.56223746e+00j\n",
      " -1.77443773e+01-3.56223746e+00j -7.13584728e+00+1.58791110e+01j\n",
      " -7.13584728e+00-1.58791110e+01j  3.10441827e+00+1.75526772e+01j\n",
      "  3.10441827e+00-1.75526772e+01j -1.70058452e+01+0.00000000e+00j\n",
      "  7.85863232e+00+1.48345055e+01j  7.85863232e+00-1.48345055e+01j\n",
      "  1.46188266e+01+9.11250223e+00j  1.46188266e+01-9.11250223e+00j\n",
      " -1.05417739e+01+1.02031136e+01j -1.05417739e+01-1.02031136e+01j\n",
      " -4.12154677e+00+1.39184584e+01j -4.12154677e+00-1.39184584e+01j\n",
      " -1.04113695e+00+1.46564155e+01j -1.04113695e+00-1.46564155e+01j\n",
      " -1.39334321e+01+2.02879579e+00j -1.39334321e+01-2.02879579e+00j\n",
      "  5.35300511e+00+1.37356544e+01j  5.35300511e+00-1.37356544e+01j\n",
      "  1.61831291e+01+3.36067001e+00j  1.61831291e+01-3.36067001e+00j\n",
      "  1.06152983e+01+1.00907583e+01j  1.06152983e+01-1.00907583e+01j\n",
      "  1.52040730e+01+0.00000000e+00j  1.46850541e+01+0.00000000e+00j\n",
      "  4.69117676e+00+1.23116121e+01j  4.69117676e+00-1.23116121e+01j\n",
      "  9.38684571e+00+8.93965016e+00j  9.38684571e+00-8.93965016e+00j\n",
      "  1.09176409e+01+7.03541847e+00j  1.09176409e+01-7.03541847e+00j\n",
      " -4.99028330e+00+1.16391031e+01j -4.99028330e+00-1.16391031e+01j\n",
      "  1.41654397e+00+1.19206119e+01j  1.41654397e+00-1.19206119e+01j\n",
      "  1.15792502e+01+3.95026701e+00j  1.15792502e+01-3.95026701e+00j\n",
      "  1.17358607e+01+0.00000000e+00j -6.30605239e+00+9.63552546e+00j\n",
      " -6.30605239e+00-9.63552546e+00j -1.37179166e+01+0.00000000e+00j\n",
      " -9.59616069e+00+5.89991035e+00j -9.59616069e+00-5.89991035e+00j\n",
      " -1.16747693e+01+2.83470667e+00j -1.16747693e+01-2.83470667e+00j\n",
      " -1.21236658e+01+0.00000000e+00j -1.08264422e+01+1.18123125e+00j\n",
      " -1.08264422e+01-1.18123125e+00j -3.59783466e+00+9.24631841e+00j\n",
      " -3.59783466e+00-9.24631841e+00j  2.67766681e+00+9.55665920e+00j\n",
      "  2.67766681e+00-9.55665920e+00j -8.73513328e+00+4.30800644e+00j\n",
      " -8.73513328e+00-4.30800644e+00j -7.48266565e+00+5.29565561e+00j\n",
      " -7.48266565e+00-5.29565561e+00j  3.92177756e-02+8.95218044e+00j\n",
      "  3.92177756e-02-8.95218044e+00j  6.88933202e+00+6.90180093e+00j\n",
      "  6.88933202e+00-6.90180093e+00j  7.33824406e+00+6.15590779e+00j\n",
      "  7.33824406e+00-6.15590779e+00j  9.28133275e+00+8.14525668e-01j\n",
      "  9.28133275e+00-8.14525668e-01j  7.81031536e+00+4.02719813e+00j\n",
      "  7.81031536e+00-4.02719813e+00j -8.52443773e+00+8.46623794e-01j\n",
      " -8.52443773e+00-8.46623794e-01j -7.71111692e+00+2.87128340e+00j\n",
      " -7.71111692e+00-2.87128340e+00j  2.29463448e+00+7.86335899e+00j\n",
      "  2.29463448e+00-7.86335899e+00j  4.14895176e+00+6.79730276e+00j\n",
      "  4.14895176e+00-6.79730276e+00j  5.38008019e+00+5.84970161e+00j\n",
      "  5.38008019e+00-5.84970161e+00j -1.01218284e+00+7.89123623e+00j\n",
      " -1.01218284e+00-7.89123623e+00j -4.43123257e+00+6.46115996e+00j\n",
      " -4.43123257e+00-6.46115996e+00j  8.13641741e+00+0.00000000e+00j\n",
      " -6.85413751e+00+2.90296553e+00j -6.85413751e+00-2.90296553e+00j\n",
      " -7.35582269e+00+6.52379849e-01j -7.35582269e+00-6.52379849e-01j\n",
      "  5.76574732e+00+3.86861905e+00j  5.76574732e+00-3.86861905e+00j\n",
      "  6.88366026e+00+0.00000000e+00j -3.46911911e-01+6.46495190e+00j\n",
      " -3.46911911e-01-6.46495190e+00j -4.68705769e+00+4.08889910e+00j\n",
      " -4.68705769e+00-4.08889910e+00j -6.16336798e+00+0.00000000e+00j\n",
      " -4.68136932e+00+3.15446076e+00j -4.68136932e+00-3.15446076e+00j\n",
      " -5.38461910e+00+0.00000000e+00j  7.19449846e-01+5.96613603e+00j\n",
      "  7.19449846e-01-5.96613603e+00j -4.56164290e+00+1.85065751e+00j\n",
      " -4.56164290e+00-1.85065751e+00j -2.15447432e+00+4.82990457e+00j\n",
      " -2.15447432e+00-4.82990457e+00j  1.29567729e+00+5.62745382e+00j\n",
      "  1.29567729e+00-5.62745382e+00j  6.01470993e+00+5.18477938e-01j\n",
      "  6.01470993e+00-5.18477938e-01j  5.37910987e+00+1.99575930e+00j\n",
      "  5.37910987e+00-1.99575930e+00j  4.20029033e+00+3.91545840e+00j\n",
      "  4.20029033e+00-3.91545840e+00j  4.29152282e+00+3.48977813e+00j\n",
      "  4.29152282e+00-3.48977813e+00j  1.81000436e-01+5.09727504e+00j\n",
      "  1.81000436e-01-5.09727504e+00j -9.77962779e-01+4.62531581e+00j\n",
      " -9.77962779e-01-4.62531581e+00j  1.75653598e+00+4.65187281e+00j\n",
      "  1.75653598e+00-4.65187281e+00j  3.41140325e+00+3.69362221e+00j\n",
      "  3.41140325e+00-3.69362221e+00j -4.50135515e+00+0.00000000e+00j\n",
      " -2.73584633e+00+3.76059209e+00j -2.73584633e+00-3.76059209e+00j\n",
      " -3.68366510e+00+2.86685648e+00j -3.68366510e+00-2.86685648e+00j\n",
      " -1.62187474e+00+4.06982298e+00j -1.62187474e+00-4.06982298e+00j\n",
      " -3.13391861e+00+2.91340445e+00j -3.13391861e+00-2.91340445e+00j\n",
      "  4.21725106e+00+2.46583952e+00j  4.21725106e+00-2.46583952e+00j\n",
      "  4.71735627e+00+9.23872206e-01j  4.71735627e+00-9.23872206e-01j\n",
      "  4.22651611e+00+2.09944758e+00j  4.22651611e+00-2.09944758e+00j\n",
      "  2.31756373e+00+3.65424147e+00j  2.31756373e+00-3.65424147e+00j\n",
      "  4.45327184e+00+0.00000000e+00j -3.90446132e-01+3.88274919e+00j\n",
      " -3.90446132e-01-3.88274919e+00j  4.11920598e+00+0.00000000e+00j\n",
      " -3.78190825e+00+5.31303875e-01j -3.78190825e+00-5.31303875e-01j\n",
      " -3.84819687e+00+0.00000000e+00j -2.66438205e+00+2.23067069e+00j\n",
      " -2.66438205e+00-2.23067069e+00j -1.81524420e+00+2.77831905e+00j\n",
      " -1.81524420e+00-2.77831905e+00j -3.12427553e+00+9.25520352e-01j\n",
      " -3.12427553e+00-9.25520352e-01j  4.47743986e-01+3.52792802e+00j\n",
      "  4.47743986e-01-3.52792802e+00j  2.50042976e+00+2.76129292e+00j\n",
      "  2.50042976e+00-2.76129292e+00j -3.12242881e+00+0.00000000e+00j\n",
      "  1.77442327e+00+2.99174339e+00j  1.77442327e+00-2.99174339e+00j\n",
      "  3.28313789e-01+3.16554190e+00j  3.28313789e-01-3.16554190e+00j\n",
      "  2.61570403e+00+2.02459423e+00j  2.61570403e+00-2.02459423e+00j\n",
      "  3.45549775e+00+0.00000000e+00j  3.37709103e+00+0.00000000e+00j\n",
      "  1.37763596e-02+3.02974068e+00j  1.37763596e-02-3.02974068e+00j\n",
      "  2.78620732e+00+1.36051811e+00j  2.78620732e+00-1.36051811e+00j\n",
      "  2.21080578e+00+2.18043959e+00j  2.21080578e+00-2.18043959e+00j\n",
      " -1.98625714e+00+2.01780190e+00j -1.98625714e+00-2.01780190e+00j\n",
      " -2.34411868e+00+1.25218793e+00j -2.34411868e+00-1.25218793e+00j\n",
      " -4.92467596e-01+2.75373735e+00j -4.92467596e-01-2.75373735e+00j\n",
      "  2.66481870e+00+1.26023335e+00j  2.66481870e+00-1.26023335e+00j\n",
      " -2.32285872e+00+0.00000000e+00j -2.25765615e+00+4.77309789e-01j\n",
      " -2.25765615e+00-4.77309789e-01j -6.39954369e-01+2.26891992e+00j\n",
      " -6.39954369e-01-2.26891992e+00j  1.43566107e+00+2.06023089e+00j\n",
      "  1.43566107e+00-2.06023089e+00j  2.62217470e+00+0.00000000e+00j\n",
      "  2.24443516e+00+1.02061345e+00j  2.24443516e+00-1.02061345e+00j\n",
      " -1.66873414e+00+1.03942038e+00j -1.66873414e+00-1.03942038e+00j\n",
      " -7.80043942e-01+1.81997443e+00j -7.80043942e-01-1.81997443e+00j\n",
      "  8.08661025e-01+2.02894403e+00j  8.08661025e-01-2.02894403e+00j\n",
      "  2.40938570e+00+0.00000000e+00j  1.16690623e+00+1.69334572e+00j\n",
      "  1.16690623e+00-1.69334572e+00j  2.01590904e+00+8.69128043e-01j\n",
      "  2.01590904e+00-8.69128043e-01j  1.57049636e+00+1.10233360e+00j\n",
      "  1.57049636e+00-1.10233360e+00j  2.18705543e-01+1.66981403e+00j\n",
      "  2.18705543e-01-1.66981403e+00j  6.28350784e-01+1.47545380e+00j\n",
      "  6.28350784e-01-1.47545380e+00j -7.28139665e-01+1.39511384e+00j\n",
      " -7.28139665e-01-1.39511384e+00j -1.38840934e+00+1.05045864e+00j\n",
      " -1.38840934e+00-1.05045864e+00j -1.79536283e+00+0.00000000e+00j\n",
      " -1.61553232e+00+2.95185164e-01j -1.61553232e+00-2.95185164e-01j\n",
      " -1.54408523e+00+4.29841972e-01j -1.54408523e+00-4.29841972e-01j\n",
      " -1.46488071e-01+1.48135347e+00j -1.46488071e-01-1.48135347e+00j\n",
      " -6.48020231e-01+1.15056189e+00j -6.48020231e-01-1.15056189e+00j\n",
      "  1.65702474e+00+0.00000000e+00j  8.25833807e-01+1.18623020e+00j\n",
      "  8.25833807e-01-1.18623020e+00j -1.22550547e+00+1.64131753e-01j\n",
      " -1.22550547e+00-1.64131753e-01j  1.42058874e+00+0.00000000e+00j\n",
      "  1.34328236e+00+4.10240533e-01j  1.34328236e+00-4.10240533e-01j\n",
      "  9.27122549e-01+9.10183132e-01j  9.27122549e-01-9.10183132e-01j\n",
      " -5.31457943e-01+1.02947650e+00j -5.31457943e-01-1.02947650e+00j\n",
      "  7.47476463e-01+9.14356264e-01j  7.47476463e-01-9.14356264e-01j\n",
      "  2.26996130e-01+1.04705182e+00j  2.26996130e-01-1.04705182e+00j\n",
      "  1.14429753e+00+3.30125024e-01j  1.14429753e+00-3.30125024e-01j\n",
      "  1.04142824e+00+4.19741700e-01j  1.04142824e+00-4.19741700e-01j\n",
      " -7.38901533e-01+5.60014878e-01j -7.38901533e-01-5.60014878e-01j\n",
      "  4.22403313e-01+8.09145523e-01j  4.22403313e-01-8.09145523e-01j\n",
      " -9.29168462e-01+0.00000000e+00j  5.03094428e-02+7.58285996e-01j\n",
      "  5.03094428e-02-7.58285996e-01j -7.43108825e-01+3.57076760e-01j\n",
      " -7.43108825e-01-3.57076760e-01j -8.23484830e-01+0.00000000e+00j\n",
      " -4.92928027e-01+5.39325251e-01j -4.92928027e-01-5.39325251e-01j\n",
      " -5.79170910e-01+3.07633123e-01j -5.79170910e-01-3.07633123e-01j\n",
      " -2.40839867e-01+5.38708292e-01j -2.40839867e-01-5.38708292e-01j\n",
      "  1.00374994e+00+0.00000000e+00j  3.17454565e-01+5.69654632e-01j\n",
      "  3.17454565e-01-5.69654632e-01j  7.88139432e-01+0.00000000e+00j\n",
      "  5.93277639e-01+4.08628562e-01j  5.93277639e-01-4.08628562e-01j\n",
      "  5.73256592e-01+3.09148862e-01j  5.73256592e-01-3.09148862e-01j\n",
      "  5.84965401e-01+0.00000000e+00j  1.25462803e-01+3.97024456e-01j\n",
      "  1.25462803e-01-3.97024456e-01j -2.56750412e-01+1.73102591e-01j\n",
      " -2.56750412e-01-1.73102591e-01j  2.83222737e-01+1.76205572e-01j\n",
      "  2.83222737e-01-1.76205572e-01j  1.43632970e-01+2.44610694e-01j\n",
      "  1.43632970e-01-2.44610694e-01j -3.53882781e-01+0.00000000e+00j\n",
      " -2.53125187e-01+0.00000000e+00j -2.09659555e-01+0.00000000e+00j\n",
      "  2.20482144e-02+0.00000000e+00j  3.61941101e-01+0.00000000e+00j\n",
      "  3.37109550e-01+0.00000000e+00j -8.38639196e-03+9.29162651e-02j\n",
      " -8.38639196e-03-9.29162651e-02j -4.37045428e-02+0.00000000e+00j\n",
      "  1.46398757e-01+0.00000000e+00j  2.35055562e-01+0.00000000e+00j] [[ 1.44372056e-02+0.j -5.93401996e-02+0.j -4.07175949e-02+0.j ...\n",
      "   3.44606744e-02+0.j  2.69429519e-02+0.j  4.94221872e-03+0.j]\n",
      " [ 3.13871675e-02+0.j -3.48149692e-02+0.j  1.19560095e-02+0.j ...\n",
      "  -1.36296913e-02+0.j -3.01833687e-02+0.j  1.36456561e-02+0.j]\n",
      " [ 1.15631559e-02+0.j -4.15814668e-03+0.j -4.74129313e-03+0.j ...\n",
      "   1.50473224e-03+0.j  2.96586945e-03+0.j -1.75283545e-02+0.j]\n",
      " ...\n",
      " [ 2.45049332e-02+0.j  5.56593579e-02+0.j  2.29167255e-02+0.j ...\n",
      "  -1.70195745e-01+0.j  8.68296242e-02+0.j  8.20336162e-02+0.j]\n",
      " [ 4.65823736e-06+0.j -6.26458046e-05+0.j -7.01789405e-05+0.j ...\n",
      "  -2.19607345e-01+0.j  3.54285653e-01+0.j  8.90195655e-02+0.j]\n",
      " [ 1.63999153e-03+0.j -3.49197614e-02+0.j -1.76936739e-02+0.j ...\n",
      "  -5.73425206e-03+0.j  4.38592042e-03+0.j  5.75986084e-03+0.j]]\n",
      "[[2.55039191e+06+0.00000000e+00j 2.10454252e+06+1.34765200e+06j\n",
      "  2.10454252e+06-1.34765200e+06j ... 4.89614710e+03-1.13686838e-13j\n",
      "  5.20737083e+05+9.09494702e-13j 3.22752434e+05+4.54747351e-13j]\n",
      " [2.10454252e+06-1.34765200e+06j 2.44841850e+06+0.00000000e+00j\n",
      "  1.04282067e+06-2.21499319e+06j ... 2.54309825e+03-1.70625285e+03j\n",
      "  4.48070824e+05-2.86702363e+05j 2.70060187e+05-1.73246095e+05j]\n",
      " [2.10454252e+06+1.34765200e+06j 1.04282067e+06+2.21499319e+06j\n",
      "  2.44841850e+06+0.00000000e+00j ... 2.54309825e+03+1.70625285e+03j\n",
      "  4.48070824e+05+2.86702363e+05j 2.70060187e+05+1.73246095e+05j]\n",
      " ...\n",
      " [4.89614710e+03+1.13686838e-13j 2.54309825e+03+1.70625285e+03j\n",
      "  2.54309825e+03-1.70625285e+03j ... 8.24987825e+01+0.00000000e+00j\n",
      "  1.24812018e+03-2.27373675e-13j 2.12058862e+02-1.77635684e-15j]\n",
      " [5.20737083e+05-9.09494702e-13j 4.48070824e+05+2.86702363e+05j\n",
      "  4.48070824e+05-2.86702363e+05j ... 1.24812018e+03+2.27373675e-13j\n",
      "  1.48753847e+05+0.00000000e+00j 7.78604492e+04-9.09494702e-13j]\n",
      " [3.22752434e+05-4.54747351e-13j 2.70060187e+05+1.73246095e+05j\n",
      "  2.70060187e+05-1.73246095e+05j ... 2.12058862e+02+1.77635684e-15j\n",
      "  7.78604492e+04+9.09494702e-13j 4.88275633e+04+0.00000000e+00j]]\n",
      "[[1.25061038e+04+0.00000000e+00j 2.22204964e+05+2.27373675e-13j\n",
      "  1.04933814e+05+0.00000000e+00j ... 7.94952560e+04-2.55795385e-13j\n",
      "  3.94887676e+04-1.42108547e-13j 8.72680047e+02-4.97379915e-14j]\n",
      " [2.22204964e+05-2.27373675e-13j 3.69647025e+06+0.00000000e+00j\n",
      "  1.74831685e+06+3.63797881e-12j ... 1.24360046e+06-9.09494702e-13j\n",
      "  7.55311664e+05+4.54747351e-13j 2.32844557e+04-2.27373675e-13j]\n",
      " [1.04933814e+05+0.00000000e+00j 1.74831685e+06-3.63797881e-12j\n",
      "  8.33090963e+05+0.00000000e+00j ... 5.80733143e+05+6.25277607e-13j\n",
      "  3.54900768e+05+3.41060513e-12j 1.11160904e+04-4.26325641e-14j]\n",
      " ...\n",
      " [7.94952560e+04+2.55795385e-13j 1.24360046e+06+9.09494702e-13j\n",
      "  5.80733143e+05-6.25277607e-13j ... 2.99270505e+05+0.00000000e+00j\n",
      "  2.47688776e+05+4.54747351e-13j 6.68327557e+03-5.68434189e-14j]\n",
      " [3.94887676e+04+1.42108547e-13j 7.55311664e+05-4.54747351e-13j\n",
      "  3.54900768e+05-3.41060513e-12j ... 2.47688776e+05-4.54747351e-13j\n",
      "  1.58853372e+05+0.00000000e+00j 5.15211327e+03-2.27373675e-13j]\n",
      " [8.72680047e+02+4.97379915e-14j 2.32844557e+04+2.27373675e-13j\n",
      "  1.11160904e+04+4.26325641e-14j ... 6.68327557e+03+5.68434189e-14j\n",
      "  5.15211327e+03+2.27373675e-13j 1.35786216e+01+0.00000000e+00j]]\n",
      "221\n",
      "145\n",
      "iter: 2\n",
      "[ 6.52314845e+05+0.00000000e+00j  1.91509353e+03+0.00000000e+00j\n",
      "  1.50022333e+03+0.00000000e+00j  1.36472112e+03+0.00000000e+00j\n",
      " -1.31936737e+03+0.00000000e+00j -1.18547458e+03+0.00000000e+00j\n",
      "  9.64779978e+02+0.00000000e+00j -9.18832182e+02+0.00000000e+00j\n",
      "  8.67963193e+02+3.07192620e+00j  8.67963193e+02-3.07192620e+00j\n",
      "  8.12377111e+02+0.00000000e+00j  7.80066065e+02+0.00000000e+00j\n",
      "  5.97944109e+02+3.21722336e+01j  5.97944109e+02-3.21722336e+01j\n",
      "  4.47719077e+02+3.49655988e+02j  4.47719077e+02-3.49655988e+02j\n",
      " -3.10139909e+02+5.35911171e+02j -3.10139909e+02-5.35911171e+02j\n",
      "  4.88762277e+02+0.00000000e+00j -6.17049819e+02+1.49534765e+02j\n",
      " -6.17049819e+02-1.49534765e+02j -2.27013196e+02+4.10672176e+02j\n",
      " -2.27013196e+02-4.10672176e+02j -6.08457181e+02+0.00000000e+00j\n",
      "  2.98636713e+02+2.41918489e+02j  2.98636713e+02-2.41918489e+02j\n",
      " -5.45777686e+02+0.00000000e+00j -4.78625081e+02+1.11000243e+02j\n",
      " -4.78625081e+02-1.11000243e+02j -4.58060556e+02+8.05861858e+01j\n",
      " -4.58060556e+02-8.05861858e+01j -4.47610122e+02+0.00000000e+00j\n",
      " -4.02356937e+02+0.00000000e+00j  4.66831546e+01+3.57403073e+02j\n",
      "  4.66831546e+01-3.57403073e+02j  3.70039983e+02+5.02604289e+01j\n",
      "  3.70039983e+02-5.02604289e+01j  3.15084807e+02+1.64941614e+02j\n",
      "  3.15084807e+02-1.64941614e+02j -3.22542263e+02+1.21485733e+02j\n",
      " -3.22542263e+02-1.21485733e+02j  3.13730118e+02+1.03050927e+02j\n",
      "  3.13730118e+02-1.03050927e+02j  3.18286147e+02+0.00000000e+00j\n",
      " -3.09348489e+02+8.17422996e+01j -3.09348489e+02-8.17422996e+01j\n",
      " -3.19587749e+02+1.78148353e+01j -3.19587749e+02-1.78148353e+01j\n",
      " -3.01506352e+02+0.00000000e+00j -2.70924659e+02+2.51548432e+01j\n",
      " -2.70924659e+02-2.51548432e+01j -2.36745049e+02+3.75646677e+01j\n",
      " -2.36745049e+02-3.75646677e+01j  2.28576464e+02+2.02812277e+02j\n",
      "  2.28576464e+02-2.02812277e+02j  1.63565350e+02+2.28000181e+02j\n",
      "  1.63565350e+02-2.28000181e+02j  2.07313549e+02+1.85452812e+02j\n",
      "  2.07313549e+02-1.85452812e+02j  2.46391602e+02+0.00000000e+00j\n",
      "  1.83254291e+02+1.59946946e+02j  1.83254291e+02-1.59946946e+02j\n",
      "  1.27154376e+02+1.84489322e+02j  1.27154376e+02-1.84489322e+02j\n",
      " -9.24869501e+01+1.89744743e+02j -9.24869501e+01-1.89744743e+02j\n",
      " -2.18008261e+02+5.71135369e+01j -2.18008261e+02-5.71135369e+01j\n",
      " -2.17837363e+02+1.54026782e+01j -2.17837363e+02-1.54026782e+01j\n",
      " -1.75046663e+02+9.14498801e+01j -1.75046663e+02-9.14498801e+01j\n",
      " -1.07558728e+00+2.01610330e+02j -1.07558728e+00-2.01610330e+02j\n",
      "  2.08697802e+02+0.00000000e+00j -5.78437630e+01+1.55286363e+02j\n",
      " -5.78437630e+01-1.55286363e+02j  1.70466477e+02+3.56219075e+01j\n",
      "  1.70466477e+02-3.56219075e+01j  1.21104069e+02+1.40956104e+02j\n",
      "  1.21104069e+02-1.40956104e+02j  5.27588551e+01+1.56300401e+02j\n",
      "  5.27588551e+01-1.56300401e+02j  1.29092419e+02+1.07833898e+02j\n",
      "  1.29092419e+02-1.07833898e+02j  1.04306149e+02+1.25583429e+02j\n",
      "  1.04306149e+02-1.25583429e+02j  1.39035083e+02+1.38533321e+01j\n",
      "  1.39035083e+02-1.38533321e+01j  6.90937492e+01+1.16239471e+02j\n",
      "  6.90937492e+01-1.16239471e+02j  8.15150343e+01+1.06237118e+02j\n",
      "  8.15150343e+01-1.06237118e+02j  3.65510521e+01+1.20847414e+02j\n",
      "  3.65510521e+01-1.20847414e+02j  1.21518588e+02+0.00000000e+00j\n",
      "  1.08515376e+02+4.69541355e+01j  1.08515376e+02-4.69541355e+01j\n",
      "  5.41994041e+01+1.04918816e+02j  5.41994041e+01-1.04918816e+02j\n",
      " -1.19834958e+02+6.17001806e+01j -1.19834958e+02-6.17001806e+01j\n",
      " -1.41015229e+02+9.31337752e+00j -1.41015229e+02-9.31337752e+00j\n",
      " -1.41927561e+02+0.00000000e+00j -9.99984451e+01+5.34042884e+01j\n",
      " -9.99984451e+01-5.34042884e+01j -1.10834410e+02+2.79036977e+01j\n",
      " -1.10834410e+02-2.79036977e+01j -8.86017917e+01+5.67915924e+01j\n",
      " -8.86017917e+01-5.67915924e+01j -1.11956536e+02+1.84663204e+00j\n",
      " -1.11956536e+02-1.84663204e+00j -8.70059353e+01+3.93404472e+01j\n",
      " -8.70059353e+01-3.93404472e+01j -9.91490057e+01+2.28368593e+01j\n",
      " -9.91490057e+01-2.28368593e+01j -9.71271710e+01+0.00000000e+00j\n",
      "  8.67032837e+01+7.10812172e+01j  8.67032837e+01-7.10812172e+01j\n",
      "  9.28227572e+01+5.62726864e+01j  9.28227572e+01-5.62726864e+01j\n",
      "  8.75607481e+01+4.31434272e+01j  8.75607481e+01-4.31434272e+01j\n",
      "  6.13241833e+01+7.11494483e+01j  6.13241833e+01-7.11494483e+01j\n",
      "  5.96658969e+01+6.47179466e+01j  5.96658969e+01-6.47179466e+01j\n",
      "  8.10561379e+01+0.00000000e+00j  2.72439882e+01+7.16066487e+01j\n",
      "  2.72439882e+01-7.16066487e+01j -4.77231071e+01+5.49312957e+01j\n",
      " -4.77231071e+01-5.49312957e+01j -7.89600755e+01+0.00000000e+00j\n",
      " -6.20828668e+01+3.41807256e+01j -6.20828668e+01-3.41807256e+01j\n",
      " -6.65774139e+01+2.60800778e+01j -6.65774139e+01-2.60800778e+01j\n",
      "  7.75589868e+01+0.00000000e+00j  5.59178453e+01+4.68676904e+01j\n",
      "  5.59178453e+01-4.68676904e+01j  6.31515864e+01+2.08192249e+01j\n",
      "  6.31515864e+01-2.08192249e+01j  6.26290875e+01+0.00000000e+00j\n",
      "  4.21677809e+01+4.42245665e+01j  4.21677809e+01-4.42245665e+01j\n",
      "  2.68972554e+01+5.05264561e+01j  2.68972554e+01-5.05264561e+01j\n",
      " -6.59807376e+01+6.54819766e+00j -6.59807376e+01-6.54819766e+00j\n",
      " -6.28970785e+01+0.00000000e+00j -5.68302105e+01+8.33687972e+00j\n",
      " -5.68302105e+01-8.33687972e+00j -3.38690472e+01+3.56949846e+01j\n",
      " -3.38690472e+01-3.56949846e+01j -3.47919563e+01+3.02228835e+01j\n",
      " -3.47919563e+01-3.02228835e+01j -4.14791027e+01+1.72491907e+01j\n",
      " -4.14791027e+01-1.72491907e+01j  2.35295894e+01+4.77466707e+01j\n",
      "  2.35295894e+01-4.77466707e+01j  4.10856706e+01+3.16618033e+01j\n",
      "  4.10856706e+01-3.16618033e+01j  2.59098656e+01+4.40315971e+01j\n",
      "  2.59098656e+01-4.40315971e+01j  5.05390486e+01+5.98383849e+00j\n",
      "  5.05390486e+01-5.98383849e+00j  4.59533941e+01+0.00000000e+00j\n",
      "  2.64620836e+01+3.75932725e+01j  2.64620836e+01-3.75932725e+01j\n",
      " -5.47218969e+00+4.18667449e+01j -5.47218969e+00-4.18667449e+01j\n",
      " -2.71562795e-01+4.07453006e+01j -2.71562795e-01-4.07453006e+01j\n",
      "  4.00203737e+01+1.72030231e+01j  4.00203737e+01-1.72030231e+01j\n",
      "  2.78270852e+01+2.69674888e+01j  2.78270852e+01-2.69674888e+01j\n",
      "  3.77655649e+01+0.00000000e+00j  3.14101121e+01+1.95117492e+01j\n",
      "  3.14101121e+01-1.95117492e+01j -1.77266473e+01+3.47703404e+01j\n",
      " -1.77266473e+01-3.47703404e+01j -2.45498143e+01+2.87437479e+01j\n",
      " -2.45498143e+01-2.87437479e+01j -4.17547668e+01+4.72601108e+00j\n",
      " -4.17547668e+01-4.72601108e+00j -3.04114718e+01+1.94721009e+01j\n",
      " -3.04114718e+01-1.94721009e+01j -3.88876621e+01+0.00000000e+00j\n",
      " -8.65181931e+00+3.12721560e+01j -8.65181931e+00-3.12721560e+01j\n",
      "  1.26749069e+01+2.94181208e+01j  1.26749069e+01-2.94181208e+01j\n",
      "  3.02197132e+01+6.52644916e+00j  3.02197132e+01-6.52644916e+00j\n",
      "  1.08744262e+00+2.89845862e+01j  1.08744262e+00-2.89845862e+01j\n",
      " -3.22354078e+01+0.00000000e+00j -2.67162014e+01+1.38362294e+01j\n",
      " -2.67162014e+01-1.38362294e+01j -2.56337962e+01+7.57002033e+00j\n",
      " -2.56337962e+01-7.57002033e+00j -9.55371950e+00+2.42088940e+01j\n",
      " -9.55371950e+00-2.42088940e+01j  4.07880822e+00+2.67688372e+01j\n",
      "  4.07880822e+00-2.67688372e+01j  1.59188214e+01+2.19525427e+01j\n",
      "  1.59188214e+01-2.19525427e+01j  2.87220296e+01+0.00000000e+00j\n",
      "  2.63676454e+01+1.23748110e+01j  2.63676454e+01-1.23748110e+01j\n",
      "  2.47987989e+01+1.28534750e+01j  2.47987989e+01-1.28534750e+01j\n",
      "  2.12100519e+01+1.55887954e+01j  2.12100519e+01-1.55887954e+01j\n",
      "  2.47888868e+01+0.00000000e+00j  2.35645359e+01+0.00000000e+00j\n",
      "  1.54202431e+00+2.10093169e+01j  1.54202431e+00-2.10093169e+01j\n",
      "  5.68272791e+00+1.92956734e+01j  5.68272791e+00-1.92956734e+01j\n",
      " -1.95488113e+01+1.27576269e+01j -1.95488113e+01-1.27576269e+01j\n",
      "  1.81067685e+01+7.15668766e+00j  1.81067685e+01-7.15668766e+00j\n",
      " -2.19476963e+01+7.42763281e+00j -2.19476963e+01-7.42763281e+00j\n",
      " -2.36758586e+01+0.00000000e+00j -2.35587022e+01+0.00000000e+00j\n",
      " -1.43114711e+01+9.47838073e+00j -1.43114711e+01-9.47838073e+00j\n",
      " -1.84737451e+01+2.44326745e+00j -1.84737451e+01-2.44326745e+00j\n",
      " -1.62321392e+01+5.98979938e+00j -1.62321392e+01-5.98979938e+00j\n",
      " -1.06999905e+01+1.38967877e+01j -1.06999905e+01-1.38967877e+01j\n",
      " -6.22062256e+00+1.65523583e+01j -6.22062256e+00-1.65523583e+01j\n",
      "  1.47862863e+01+1.10992373e+01j  1.47862863e+01-1.10992373e+01j\n",
      "  1.81551740e+01+4.12716634e+00j  1.81551740e+01-4.12716634e+00j\n",
      "  1.89380024e+01+0.00000000e+00j  2.74992540e+00+1.57046229e+01j\n",
      "  2.74992540e+00-1.57046229e+01j  8.56432932e+00+1.45436355e+01j\n",
      "  8.56432932e+00-1.45436355e+01j  1.02709117e+01+1.28825620e+01j\n",
      "  1.02709117e+01-1.28825620e+01j  1.70650362e+01+0.00000000e+00j\n",
      " -1.37114063e+01+0.00000000e+00j -9.94847756e+00+9.47193673e+00j\n",
      " -9.94847756e+00-9.47193673e+00j  1.45828994e+00+1.39514139e+01j\n",
      "  1.45828994e+00-1.39514139e+01j  1.32931095e+01+5.54917990e+00j\n",
      "  1.32931095e+01-5.54917990e+00j  1.37584542e+01+0.00000000e+00j\n",
      "  9.15352670e+00+9.43761852e+00j  9.15352670e+00-9.43761852e+00j\n",
      "  8.07645764e+00+1.02893953e+01j  8.07645764e+00-1.02893953e+01j\n",
      " -7.98047473e+00+8.94510240e+00j -7.98047473e+00-8.94510240e+00j\n",
      " -1.02951277e+00+1.18239489e+01j -1.02951277e+00-1.18239489e+01j\n",
      " -7.25982210e+00+8.30178440e+00j -7.25982210e+00-8.30178440e+00j\n",
      " -1.08429043e+01+1.23807726e+00j -1.08429043e+01-1.23807726e+00j\n",
      " -1.03154779e+01+2.21773677e+00j -1.03154779e+01-2.21773677e+00j\n",
      " -9.38046408e+00+3.59006347e+00j -9.38046408e+00-3.59006347e+00j\n",
      "  1.65790824e+00+1.12035650e+01j  1.65790824e+00-1.12035650e+01j\n",
      " -2.26175910e+00+9.38788496e+00j -2.26175910e+00-9.38788496e+00j\n",
      "  4.34970463e+00+9.96233271e+00j  4.34970463e+00-9.96233271e+00j\n",
      "  1.10801145e+01+1.88661554e+00j  1.10801145e+01-1.88661554e+00j\n",
      "  4.57772034e+00+8.44098961e+00j  4.57772034e+00-8.44098961e+00j\n",
      "  8.56332797e+00+5.82234923e+00j  8.56332797e+00-5.82234923e+00j\n",
      "  9.58991281e+00+0.00000000e+00j  6.53449377e+00+5.85394726e+00j\n",
      "  6.53449377e+00-5.85394726e+00j  7.90144512e+00+4.14159537e+00j\n",
      "  7.90144512e+00-4.14159537e+00j -3.20682857e+00+7.87576855e+00j\n",
      " -3.20682857e+00-7.87576855e+00j  2.32551145e+00+7.47092754e+00j\n",
      "  2.32551145e+00-7.47092754e+00j -6.91568953e+00+4.10289529e+00j\n",
      " -6.91568953e+00-4.10289529e+00j -8.30394004e+00+0.00000000e+00j\n",
      " -7.40385412e+00+1.77570070e+00j -7.40385412e+00-1.77570070e+00j\n",
      " -5.29665638e+00+4.84922830e+00j -5.29665638e+00-4.84922830e+00j\n",
      " -5.84809949e+00+2.21131925e+00j -5.84809949e+00-2.21131925e+00j\n",
      " -3.40951886e+00+4.88961357e+00j -3.40951886e+00-4.88961357e+00j\n",
      "  5.51237096e+00+4.59018299e+00j  5.51237096e+00-4.59018299e+00j\n",
      "  6.93389575e+00+2.71597524e+00j  6.93389575e+00-2.71597524e+00j\n",
      "  7.82325404e+00+0.00000000e+00j  7.11396597e+00+1.36071012e+00j\n",
      "  7.11396597e+00-1.36071012e+00j -5.81002025e-01+5.93690291e+00j\n",
      " -5.81002025e-01-5.93690291e+00j  3.51198550e+00+5.12070550e+00j\n",
      "  3.51198550e+00-5.12070550e+00j  2.47701954e+00+5.48214349e+00j\n",
      "  2.47701954e+00-5.48214349e+00j  6.32193307e+00+0.00000000e+00j\n",
      "  4.58841039e+00+2.92171154e+00j  4.58841039e+00-2.92171154e+00j\n",
      "  4.93105865e+00+1.45167056e+00j  4.93105865e+00-1.45167056e+00j\n",
      " -6.71777347e-01+5.07908835e+00j -6.71777347e-01-5.07908835e+00j\n",
      "  1.06868976e+00+4.56875990e+00j  1.06868976e+00-4.56875990e+00j\n",
      " -5.27587124e+00+0.00000000e+00j -2.42131296e+00+3.98311780e+00j\n",
      " -2.42131296e+00-3.98311780e+00j -4.65933505e+00+0.00000000e+00j\n",
      " -1.93989566e-01+4.31584919e+00j -1.93989566e-01-4.31584919e+00j\n",
      " -3.65486738e+00+2.29419189e+00j -3.65486738e+00-2.29419189e+00j\n",
      " -3.26659535e+00+2.35385745e+00j -3.26659535e+00-2.35385745e+00j\n",
      "  1.25192635e+00+3.75152794e+00j  1.25192635e+00-3.75152794e+00j\n",
      "  2.69702624e+00+2.83473878e+00j  2.69702624e+00-2.83473878e+00j\n",
      "  4.33702950e+00+0.00000000e+00j  4.11019557e+00+0.00000000e+00j\n",
      "  3.83091032e+00+7.28447268e-01j  3.83091032e+00-7.28447268e-01j\n",
      " -5.29881321e-01+3.38374356e+00j -5.29881321e-01-3.38374356e+00j\n",
      "  2.81611679e+00+2.07251722e+00j  2.81611679e+00-2.07251722e+00j\n",
      "  1.84607590e+00+2.63473403e+00j  1.84607590e+00-2.63473403e+00j\n",
      "  2.39388257e+00+2.10935464e+00j  2.39388257e+00-2.10935464e+00j\n",
      " -1.42097302e+00+2.44614411e+00j -1.42097302e+00-2.44614411e+00j\n",
      " -2.93076982e+00+6.08401066e-01j -2.93076982e+00-6.08401066e-01j\n",
      " -2.36455661e+00+1.44693154e+00j -2.36455661e+00-1.44693154e+00j\n",
      " -3.00976007e+00+0.00000000e+00j -3.14687374e+00+0.00000000e+00j\n",
      " -8.98202439e-01+2.24970709e+00j -8.98202439e-01-2.24970709e+00j\n",
      "  2.73851505e+00+0.00000000e+00j  2.59622147e+00+3.73120991e-01j\n",
      "  2.59622147e+00-3.73120991e-01j  2.59085445e+00+0.00000000e+00j\n",
      "  1.82087892e+00+1.23792930e+00j  1.82087892e+00-1.23792930e+00j\n",
      " -3.06005933e-01+2.17397510e+00j -3.06005933e-01-2.17397510e+00j\n",
      "  2.74504124e-01+2.02240322e+00j  2.74504124e-01-2.02240322e+00j\n",
      "  1.74601911e+00+0.00000000e+00j -1.29027614e+00+1.17519961e+00j\n",
      " -1.29027614e+00-1.17519961e+00j -2.96009131e-01+1.68168834e+00j\n",
      " -2.96009131e-01-1.68168834e+00j  7.16749867e-01+1.33965998e+00j\n",
      "  7.16749867e-01-1.33965998e+00j -8.79809587e-01+1.28717865e+00j\n",
      " -8.79809587e-01-1.28717865e+00j  1.27299950e+00+0.00000000e+00j\n",
      " -1.44547676e+00+0.00000000e+00j -1.02985933e+00+5.53802800e-01j\n",
      " -1.02985933e+00-5.53802800e-01j  1.72321357e-01+9.56908034e-01j\n",
      "  1.72321357e-01-9.56908034e-01j  3.20371509e-01+7.23456432e-01j\n",
      "  3.20371509e-01-7.23456432e-01j  4.08617878e-01+4.98026787e-01j\n",
      "  4.08617878e-01-4.98026787e-01j -1.02995945e+00+0.00000000e+00j\n",
      " -9.05213511e-01+0.00000000e+00j  2.22640742e-01+0.00000000e+00j\n",
      " -7.56454736e-02+0.00000000e+00j -2.64265025e-01+0.00000000e+00j\n",
      "  6.86894371e-01+0.00000000e+00j  5.71670422e-01+0.00000000e+00j] [[ 4.93823445e-02+0.j -7.50291244e-02+0.j -6.66933847e-05+0.j ...\n",
      "   2.28725387e-02+0.j -2.18032387e-03+0.j -5.56403123e-03+0.j]\n",
      " [ 4.87555197e-02+0.j -2.25573872e-02+0.j  7.13282163e-04+0.j ...\n",
      "   6.14477488e-02+0.j  3.26767344e-02+0.j -2.66391252e-02+0.j]\n",
      " [ 4.87367270e-02+0.j -2.20118243e-02+0.j -9.47537619e-03+0.j ...\n",
      "  -9.39983949e-02+0.j  1.29591104e-03+0.j  2.08667718e-02+0.j]\n",
      " ...\n",
      " [ 2.17590841e-03+0.j  3.08851224e-02+0.j  7.99663028e-04+0.j ...\n",
      "  -2.50073225e-02+0.j -2.43397045e-02+0.j -1.21759596e-02+0.j]\n",
      " [ 2.31739356e-02+0.j  8.02915134e-02+0.j -3.29217927e-03+0.j ...\n",
      "   3.97702118e-02+0.j -4.73249112e-03+0.j -1.76171874e-02+0.j]\n",
      " [ 1.76697175e-02+0.j  4.26956700e-02+0.j  1.42873878e-02+0.j ...\n",
      "   2.13855307e-02+0.j  3.50423921e-02+0.j -4.18091189e-02+0.j]]\n",
      "[ 5.63024434e+05+0.00000000e+00j  2.57019250e+03+0.00000000e+00j\n",
      " -1.52349997e+03+0.00000000e+00j  1.72789876e+03+0.00000000e+00j\n",
      "  1.35257856e+03+0.00000000e+00j  1.12481771e+03+0.00000000e+00j\n",
      " -1.07205028e+03+0.00000000e+00j -3.53245373e+02+7.86602015e+02j\n",
      " -3.53245373e+02-7.86602015e+02j  9.67826908e+02+0.00000000e+00j\n",
      "  8.16622055e+02+0.00000000e+00j -8.18104834e+02+0.00000000e+00j\n",
      " -2.54304780e+02+5.07077750e+02j -2.54304780e+02-5.07077750e+02j\n",
      " -6.71354459e+02+1.77258176e+02j -6.71354459e+02-1.77258176e+02j\n",
      " -6.85671511e+02+1.92443454e+01j -6.85671511e+02-1.92443454e+01j\n",
      "  6.28918551e+02+3.96438184e+01j  6.28918551e+02-3.96438184e+01j\n",
      "  6.04163556e+02+0.00000000e+00j  4.72733324e+02+2.13730642e+02j\n",
      "  4.72733324e+02-2.13730642e+02j -4.65703849e+02+1.15457777e+02j\n",
      " -4.65703849e+02-1.15457777e+02j -5.00311371e+02+0.00000000e+00j\n",
      " -4.66771048e+02+0.00000000e+00j -4.59952490e+02+0.00000000e+00j\n",
      " -4.33286388e+02+5.49339119e+01j -4.33286388e+02-5.49339119e+01j\n",
      "  4.78733957e+02+0.00000000e+00j  3.69588215e+02+1.81860508e+02j\n",
      "  3.69588215e+02-1.81860508e+02j  3.89145572e+02+0.00000000e+00j\n",
      " -3.65430169e+02+0.00000000e+00j -3.39521033e+02+1.01787493e+02j\n",
      " -3.39521033e+02-1.01787493e+02j -1.01546489e+02+2.46990556e+02j\n",
      " -1.01546489e+02-2.46990556e+02j -2.95704615e+02+1.61074643e+01j\n",
      " -2.95704615e+02-1.61074643e+01j -2.74033108e+02+5.69638466e+01j\n",
      " -2.74033108e+02-5.69638466e+01j -2.55454982e+02+8.40969108e+01j\n",
      " -2.55454982e+02-8.40969108e+01j  3.38585920e+02+1.28485537e+02j\n",
      "  3.38585920e+02-1.28485537e+02j  2.63376565e+02+1.95831246e+02j\n",
      "  2.63376565e+02-1.95831246e+02j  3.36772697e+02+0.00000000e+00j\n",
      "  1.73172608e+02+2.41298911e+02j  1.73172608e+02-2.41298911e+02j\n",
      "  4.55466783e+01+2.44192924e+02j  4.55466783e+01-2.44192924e+02j\n",
      "  2.76227800e+02+0.00000000e+00j  1.63360572e+02+1.95555773e+02j\n",
      "  1.63360572e+02-1.95555773e+02j  2.24737737e+02+1.14763208e+02j\n",
      "  2.24737737e+02-1.14763208e+02j  1.93205124e+02+1.53239847e+02j\n",
      "  1.93205124e+02-1.53239847e+02j  2.06359056e+02+1.39891585e+02j\n",
      "  2.06359056e+02-1.39891585e+02j -2.15563797e+02+6.34122340e+01j\n",
      " -2.15563797e+02-6.34122340e+01j  2.16052178e+02+6.63172135e+01j\n",
      "  2.16052178e+02-6.63172135e+01j  4.39905511e+01+1.95959592e+02j\n",
      "  4.39905511e+01-1.95959592e+02j -1.92156553e+02+6.01182737e+01j\n",
      " -1.92156553e+02-6.01182737e+01j -2.16153081e+02+0.00000000e+00j\n",
      " -1.96617566e+02+0.00000000e+00j -7.15619631e+01+1.48486183e+02j\n",
      " -7.15619631e+01-1.48486183e+02j -1.65118204e+02+2.02844453e+00j\n",
      " -1.65118204e+02-2.02844453e+00j  1.40604868e+02+1.39718510e+02j\n",
      "  1.40604868e+02-1.39718510e+02j  1.34050775e+02+1.27766333e+02j\n",
      "  1.34050775e+02-1.27766333e+02j  2.00653417e+02+0.00000000e+00j\n",
      "  1.03735093e+02+1.23243046e+02j  1.03735093e+02-1.23243046e+02j\n",
      "  1.66210919e+02+5.72071360e+01j  1.66210919e+02-5.72071360e+01j\n",
      "  1.71301095e+02+0.00000000e+00j  6.16411885e+01+1.36987933e+02j\n",
      "  6.16411885e+01-1.36987933e+02j  1.17238141e+02+8.80869263e+01j\n",
      "  1.17238141e+02-8.80869263e+01j  1.26112273e+02+0.00000000e+00j\n",
      "  1.15137062e+02+5.83808076e+01j  1.15137062e+02-5.83808076e+01j\n",
      "  8.15088977e+01+1.00652930e+02j  8.15088977e+01-1.00652930e+02j\n",
      "  1.45146104e+01+1.25667239e+02j  1.45146104e+01-1.25667239e+02j\n",
      "  2.76841606e+01+1.18919697e+02j  2.76841606e+01-1.18919697e+02j\n",
      " -1.43325703e+02+5.61199030e+01j -1.43325703e+02-5.61199030e+01j\n",
      " -1.54691336e+02+0.00000000e+00j -1.27230683e+02+3.00063221e+01j\n",
      " -1.27230683e+02-3.00063221e+01j -1.37336470e+02+6.07232695e+00j\n",
      " -1.37336470e+02-6.07232695e+00j -1.13768259e+02+0.00000000e+00j\n",
      " -6.71947100e+01+5.92478112e+01j -6.71947100e+01-5.92478112e+01j\n",
      " -9.19961668e+01+3.00748521e+01j -9.19961668e+01-3.00748521e+01j\n",
      " -9.41019308e+01+8.54700544e+00j -9.41019308e+01-8.54700544e+00j\n",
      " -8.29001347e+01+2.31667686e+01j -8.29001347e+01-2.31667686e+01j\n",
      "  6.92953011e+01+7.99819794e+01j  6.92953011e+01-7.99819794e+01j\n",
      "  5.30114838e+01+8.70097964e+01j  5.30114838e+01-8.70097964e+01j\n",
      "  1.00854046e+02+1.75645208e+01j  1.00854046e+02-1.75645208e+01j\n",
      "  4.02200976e+01+8.20547089e+01j  4.02200976e+01-8.20547089e+01j\n",
      "  4.05071706e+01+7.51363387e+01j  4.05071706e+01-7.51363387e+01j\n",
      "  8.81821973e+01+0.00000000e+00j  7.21302609e+01+4.70608915e+01j\n",
      "  7.21302609e+01-4.70608915e+01j -5.22337071e+01+5.72897700e+01j\n",
      " -5.22337071e+01-5.72897700e+01j -6.17787387e+01+4.25097889e+01j\n",
      " -6.17787387e+01-4.25097889e+01j -7.12803978e+01+2.84057963e+01j\n",
      " -7.12803978e+01-2.84057963e+01j  4.16787827e+01+6.33999872e+01j\n",
      "  4.16787827e+01-6.33999872e+01j  7.76414806e+01+0.00000000e+00j\n",
      "  2.88059641e+01+6.25691368e+01j  2.88059641e+01-6.25691368e+01j\n",
      "  6.55524659e+01+0.00000000e+00j  6.04747564e+01+2.23725931e+01j\n",
      "  6.04747564e+01-2.23725931e+01j  4.19073390e+01+4.82445145e+01j\n",
      "  4.19073390e+01-4.82445145e+01j  3.66588493e+01+5.09870272e+01j\n",
      "  3.66588493e+01-5.09870272e+01j -7.22149491e+01+0.00000000e+00j\n",
      " -6.19708635e+01+3.85019719e+00j -6.19708635e+01-3.85019719e+00j\n",
      " -4.84139566e+01+3.03751280e+01j -4.84139566e+01-3.03751280e+01j\n",
      " -4.82083313e+01+1.03449765e+01j -4.82083313e+01-1.03449765e+01j\n",
      "  1.67622356e+01+5.74418608e+01j  1.67622356e+01-5.74418608e+01j\n",
      "  6.12380955e+01+1.12596579e+01j  6.12380955e+01-1.12596579e+01j\n",
      "  3.00791500e+01+4.10259609e+01j  3.00791500e+01-4.10259609e+01j\n",
      "  4.50519721e+01+2.76684204e+01j  4.50519721e+01-2.76684204e+01j\n",
      "  4.70084687e+01+2.29501024e+01j  4.70084687e+01-2.29501024e+01j\n",
      " -2.91468875e+01+3.50939810e+01j -2.91468875e+01-3.50939810e+01j\n",
      " -4.12450576e+01+1.50414651e+01j -4.12450576e+01-1.50414651e+01j\n",
      " -4.71948319e+01+4.87375671e+00j -4.71948319e+01-4.87375671e+00j\n",
      " -4.44866059e+01+0.00000000e+00j -1.44985609e+01+3.90661094e+01j\n",
      " -1.44985609e+01-3.90661094e+01j  2.68531417e+01+3.59063786e+01j\n",
      "  2.68531417e+01-3.59063786e+01j  3.25787366e+01+2.45592883e+01j\n",
      "  3.25787366e+01-2.45592883e+01j  7.35282317e+00+3.89904096e+01j\n",
      "  7.35282317e+00-3.89904096e+01j  1.18441357e+01+3.78684376e+01j\n",
      "  1.18441357e+01-3.78684376e+01j -2.84935476e+01+2.34139649e+01j\n",
      " -2.84935476e+01-2.34139649e+01j  3.78866115e+01+0.00000000e+00j\n",
      "  3.77288841e+01+6.82915409e+00j  3.77288841e+01-6.82915409e+00j\n",
      "  2.16453333e+01+3.03329676e+01j  2.16453333e+01-3.03329676e+01j\n",
      "  2.56136257e+01+2.45371305e+01j  2.56136257e+01-2.45371305e+01j\n",
      "  1.97596723e+01+2.69399380e+01j  1.97596723e+01-2.69399380e+01j\n",
      " -1.43298368e+01+2.98715953e+01j -1.43298368e+01-2.98715953e+01j\n",
      " -2.17271646e+01+2.61540677e+01j -2.17271646e+01-2.61540677e+01j\n",
      " -2.84439070e+01+1.50956043e+01j -2.84439070e+01-1.50956043e+01j\n",
      " -3.30820603e+01+3.80519857e+00j -3.30820603e+01-3.80519857e+00j\n",
      " -3.16633169e+01+6.35819960e+00j -3.16633169e+01-6.35819960e+00j\n",
      " -4.29138934e+00+2.75653214e+01j -4.29138934e+00-2.75653214e+01j\n",
      "  2.10576109e+01+2.47048679e+01j  2.10576109e+01-2.47048679e+01j\n",
      "  3.17567016e+01+0.00000000e+00j  2.59097326e+01+1.12156170e+01j\n",
      "  2.59097326e+01-1.12156170e+01j  2.87978457e+01+0.00000000e+00j\n",
      "  2.45312224e+01+0.00000000e+00j  8.86508807e+00+2.29800897e+01j\n",
      "  8.86508807e+00-2.29800897e+01j  8.71249784e+00+1.86481706e+01j\n",
      "  8.71249784e+00-1.86481706e+01j  1.06347928e+00+2.11712507e+01j\n",
      "  1.06347928e+00-2.11712507e+01j  4.28973919e+00+1.94642456e+01j\n",
      "  4.28973919e+00-1.94642456e+01j -8.81595593e+00+1.92395173e+01j\n",
      " -8.81595593e+00-1.92395173e+01j -1.84672016e+01+1.52538864e+01j\n",
      " -1.84672016e+01-1.52538864e+01j -2.09897367e+01+1.01098828e+01j\n",
      " -2.09897367e+01-1.01098828e+01j -2.39719277e+01+4.74725761e+00j\n",
      " -2.39719277e+01-4.74725761e+00j -2.31168766e+01+0.00000000e+00j\n",
      " -1.99141313e+01+6.23768636e+00j -1.99141313e+01-6.23768636e+00j\n",
      "  2.05168635e+01+0.00000000e+00j  1.77035721e+01+1.02947445e+01j\n",
      "  1.77035721e+01-1.02947445e+01j  1.57420560e+01+1.02400352e+01j\n",
      "  1.57420560e+01-1.02400352e+01j -5.00179492e+00+1.89924931e+01j\n",
      " -5.00179492e+00-1.89924931e+01j  8.54157321e+00+1.57608437e+01j\n",
      "  8.54157321e+00-1.57608437e+01j  9.88874841e+00+1.31883410e+01j\n",
      "  9.88874841e+00-1.31883410e+01j  1.78743664e+00+1.71019000e+01j\n",
      "  1.78743664e+00-1.71019000e+01j -1.82128418e+01+8.33102459e+00j\n",
      " -1.82128418e+01-8.33102459e+00j -5.01010165e+00+1.51134468e+01j\n",
      " -5.01010165e+00-1.51134468e+01j -1.44669953e+01+7.30182538e+00j\n",
      " -1.44669953e+01-7.30182538e+00j -1.78542417e+01+0.00000000e+00j\n",
      " -1.61092922e+01+1.59799194e+00j -1.61092922e+01-1.59799194e+00j\n",
      "  1.53762846e+01+4.32689956e+00j  1.53762846e+01-4.32689956e+00j\n",
      "  1.11056888e+01+1.07658175e+01j  1.11056888e+01-1.07658175e+01j\n",
      "  1.41418371e+01+1.65428684e+00j  1.41418371e+01-1.65428684e+00j\n",
      "  3.57323569e+00+1.33762205e+01j  3.57323569e+00-1.33762205e+01j\n",
      " -1.34058279e+01+4.36626268e+00j -1.34058279e+01-4.36626268e+00j\n",
      " -9.32306046e-02+1.30477101e+01j -9.32306046e-02-1.30477101e+01j\n",
      " -4.62165125e+00+1.10582941e+01j -4.62165125e+00-1.10582941e+01j\n",
      " -8.59689296e+00+7.60905078e+00j -8.59689296e+00-7.60905078e+00j\n",
      " -1.24777170e+01+0.00000000e+00j -1.13184742e+01+0.00000000e+00j\n",
      "  8.15935479e+00+7.80391460e+00j  8.15935479e+00-7.80391460e+00j\n",
      "  1.07288592e+01+5.72051297e+00j  1.07288592e+01-5.72051297e+00j\n",
      "  1.26734511e+01+0.00000000e+00j  1.02291659e+01+4.43260255e+00j\n",
      "  1.02291659e+01-4.43260255e+00j  1.12470660e+01+0.00000000e+00j\n",
      " -1.74056363e+00+1.04704395e+01j -1.74056363e+00-1.04704395e+01j\n",
      " -8.28506146e+00+6.14828557e+00j -8.28506146e+00-6.14828557e+00j\n",
      " -8.89415391e+00+4.03777880e+00j -8.89415391e+00-4.03777880e+00j\n",
      "  6.36183940e+00+8.53373515e+00j  6.36183940e+00-8.53373515e+00j\n",
      "  7.56886889e+00+7.36724704e+00j  7.56886889e+00-7.36724704e+00j\n",
      "  9.70813661e+00+0.00000000e+00j  7.51798923e+00+5.46575112e+00j\n",
      "  7.51798923e+00-5.46575112e+00j  5.73161479e+00+6.66574750e+00j\n",
      "  5.73161479e+00-6.66574750e+00j  8.18537155e+00+2.37947534e+00j\n",
      "  8.18537155e+00-2.37947534e+00j  8.80475754e+00+0.00000000e+00j\n",
      "  2.33648698e+00+7.98684707e+00j  2.33648698e+00-7.98684707e+00j\n",
      " -1.11991740e+00+8.22756581e+00j -1.11991740e+00-8.22756581e+00j\n",
      "  7.87664964e-01+7.91912425e+00j  7.87664964e-01-7.91912425e+00j\n",
      " -4.73508155e+00+6.53845796e+00j -4.73508155e+00-6.53845796e+00j\n",
      " -6.71665104e+00+4.64422087e+00j -6.71665104e+00-4.64422087e+00j\n",
      " -7.96447486e+00+1.01040023e+00j -7.96447486e+00-1.01040023e+00j\n",
      " -7.90407103e+00+0.00000000e+00j -6.26916343e+00+0.00000000e+00j\n",
      "  6.94584568e+00+2.92957259e+00j  6.94584568e+00-2.92957259e+00j\n",
      "  5.35139987e+00+4.56883635e+00j  5.35139987e+00-4.56883635e+00j\n",
      "  2.90950694e+00+6.00527839e+00j  2.90950694e+00-6.00527839e+00j\n",
      " -6.89294364e-01+6.01422906e+00j -6.89294364e-01-6.01422906e+00j\n",
      "  6.74364676e+00+0.00000000e+00j  5.78493486e+00+0.00000000e+00j\n",
      " -2.83584653e+00+4.76356159e+00j -2.83584653e+00-4.76356159e+00j\n",
      "  3.00921317e-01+5.41001338e+00j  3.00921317e-01-5.41001338e+00j\n",
      "  4.33629351e+00+2.61286867e+00j  4.33629351e+00-2.61286867e+00j\n",
      " -4.79221016e+00+2.78283586e+00j -4.79221016e+00-2.78283586e+00j\n",
      "  1.43087558e+00+4.25554574e+00j  1.43087558e+00-4.25554574e+00j\n",
      " -1.35197352e+00+3.95629237e+00j -1.35197352e+00-3.95629237e+00j\n",
      " -3.88357608e+00+2.34694307e+00j -3.88357608e+00-2.34694307e+00j\n",
      " -3.01357164e+00+2.88701320e+00j -3.01357164e+00-2.88701320e+00j\n",
      " -3.86908043e+00+1.46767179e+00j -3.86908043e+00-1.46767179e+00j\n",
      " -3.38375899e+00+0.00000000e+00j -2.90004462e+00+7.30943308e-01j\n",
      " -2.90004462e+00-7.30943308e-01j -2.00204977e+00+2.26603007e+00j\n",
      " -2.00204977e+00-2.26603007e+00j -3.25031465e-01+3.18980566e+00j\n",
      " -3.25031465e-01-3.18980566e+00j  3.49673548e-01+3.26516510e+00j\n",
      "  3.49673548e-01-3.26516510e+00j -2.42361722e+00+1.29508057e+00j\n",
      " -2.42361722e+00-1.29508057e+00j  2.59576567e+00+2.77085729e+00j\n",
      "  2.59576567e+00-2.77085729e+00j  3.01860414e+00+2.42530369e+00j\n",
      "  3.01860414e+00-2.42530369e+00j  3.74715504e+00+0.00000000e+00j\n",
      "  3.54932656e+00+0.00000000e+00j  2.36096023e+00+2.22579986e+00j\n",
      "  2.36096023e+00-2.22579986e+00j  2.72337754e+00+1.91578294e+00j\n",
      "  2.72337754e+00-1.91578294e+00j  3.20574892e+00+0.00000000e+00j\n",
      " -5.46965775e-01+2.30540529e+00j -5.46965775e-01-2.30540529e+00j\n",
      "  2.04570574e+00+2.04569775e+00j  2.04570574e+00-2.04569775e+00j\n",
      "  2.57051445e+00+1.16562572e+00j  2.57051445e+00-1.16562572e+00j\n",
      "  2.62732817e+00+0.00000000e+00j  1.11578173e+00+2.22328803e+00j\n",
      "  1.11578173e+00-2.22328803e+00j -2.26441968e+00+0.00000000e+00j\n",
      "  6.77557797e-01+1.86356089e+00j  6.77557797e-01-1.86356089e+00j\n",
      " -1.37101130e+00+1.31925427e+00j -1.37101130e+00-1.31925427e+00j\n",
      "  2.05181139e+00+0.00000000e+00j  1.38624033e+00+1.39904806e+00j\n",
      "  1.38624033e+00-1.39904806e+00j -1.97059558e+00+1.47287947e-01j\n",
      " -1.97059558e+00-1.47287947e-01j -1.97861481e+00+0.00000000e+00j\n",
      " -1.20536142e+00+9.58554445e-01j -1.20536142e+00-9.58554445e-01j\n",
      " -2.42744996e-01+1.30760275e+00j -2.42744996e-01-1.30760275e+00j\n",
      "  4.16438718e-01+1.41141344e+00j  4.16438718e-01-1.41141344e+00j\n",
      "  1.51906192e+00+0.00000000e+00j -1.09503900e+00+0.00000000e+00j\n",
      " -9.52890958e-01+0.00000000e+00j -5.04246908e-01+5.93895089e-01j\n",
      " -5.04246908e-01-5.93895089e-01j  1.09003048e+00+4.95039376e-01j\n",
      "  1.09003048e+00-4.95039376e-01j  9.01849452e-01+6.47097369e-01j\n",
      "  9.01849452e-01-6.47097369e-01j  6.28468570e-01+0.00000000e+00j\n",
      "  3.41618010e-01+0.00000000e+00j -4.66457369e-01+0.00000000e+00j\n",
      " -3.21554985e-01+0.00000000e+00j  2.08438760e-01+0.00000000e+00j\n",
      " -1.37548792e-01+0.00000000e+00j -8.49603473e-03+0.00000000e+00j] [[ 0.01431101+0.j  0.04540996+0.j  0.02269259+0.j ... -0.00941574+0.j\n",
      "   0.0017397 +0.j  0.00111539+0.j]\n",
      " [ 0.0585632 +0.j  0.02549325+0.j  0.04972668+0.j ... -0.01355079+0.j\n",
      "  -0.00571223+0.j  0.04209064+0.j]\n",
      " [ 0.04024775+0.j -0.03020154+0.j  0.04823246+0.j ...  0.01253377+0.j\n",
      "   0.01340554+0.j -0.02011284+0.j]\n",
      " ...\n",
      " [ 0.03403312+0.j -0.02092317+0.j  0.04257196+0.j ... -0.00232647+0.j\n",
      "  -0.00361203+0.j -0.01014301+0.j]\n",
      " [ 0.02660712+0.j -0.03698454+0.j -0.02184478+0.j ...  0.03407526+0.j\n",
      "   0.03622316+0.j -0.125593  +0.j]\n",
      " [ 0.00480969+0.j  0.01713875+0.j -0.02311626+0.j ... -0.04644357+0.j\n",
      "  -0.00790699+0.j -0.03103933+0.j]]\n",
      "[[4.32608890e+08+0.00000000e+00j 9.87363048e+08-4.65661287e-10j\n",
      "  4.43634081e+03-6.82121026e-13j ... 9.45651880e+07+0.00000000e+00j\n",
      "  7.08929040e+05-3.63797881e-12j 5.63756343e+06+0.00000000e+00j]\n",
      " [9.87363048e+08+4.65661287e-10j 2.29264320e+09+0.00000000e+00j\n",
      "  9.46289688e+03+9.09494702e-13j ... 2.16406889e+08-2.91038305e-11j\n",
      "  2.09350186e+06-7.27595761e-12j 1.36161411e+07+1.45519152e-11j]\n",
      " [4.43634081e+03+6.82121026e-13j 9.46289688e+03-9.09494702e-13j\n",
      "  1.04149541e+05+0.00000000e+00j ... 1.55561815e+03-1.13686838e-13j\n",
      "  3.37381362e+02+1.70530257e-13j 3.31403933e+02+1.70530257e-13j]\n",
      " ...\n",
      " [9.45651880e+07+0.00000000e+00j 2.16406889e+08+2.91038305e-11j\n",
      "  1.55561815e+03+1.13686838e-13j ... 1.98677370e+07+0.00000000e+00j\n",
      "  1.63359906e+05-1.02318154e-12j 1.36271214e+06-1.81898940e-12j]\n",
      " [7.08929040e+05+3.63797881e-12j 2.09350186e+06+7.27595761e-12j\n",
      "  3.37381362e+02-1.70530257e-13j ... 1.63359906e+05+1.02318154e-12j\n",
      "  1.83334796e+04+0.00000000e+00j 1.59138267e+03-1.13686838e-13j]\n",
      " [5.63756343e+06+0.00000000e+00j 1.36161411e+07-1.45519152e-11j\n",
      "  3.31403933e+02-1.70530257e-13j ... 1.36271214e+06+1.81898940e-12j\n",
      "  1.59138267e+03+1.13686838e-13j 8.37894705e+04+0.00000000e+00j]]\n",
      "[[3.91593249e+06+0.00000000e+00j 3.16624031e+07-2.91038305e-11j\n",
      "  8.05709171e+06+1.45519152e-11j ... 1.36541227e+06-2.61479727e-12j\n",
      "  4.22737433e+04-1.81898940e-12j 3.64648915e+04+2.27373675e-13j]\n",
      " [3.16624031e+07+2.91038305e-11j 3.15188968e+08+0.00000000e+00j\n",
      "  7.88835676e+07+0.00000000e+00j ... 1.37515768e+07+0.00000000e+00j\n",
      "  4.32432893e+05+0.00000000e+00j 2.94158132e+05+0.00000000e+00j]\n",
      " [8.05709171e+06-1.45519152e-11j 7.88835676e+07+0.00000000e+00j\n",
      "  1.96064811e+07+0.00000000e+00j ... 3.53198420e+06+3.63797881e-12j\n",
      "  9.90266173e+04-7.95807864e-13j 9.56834803e+04+0.00000000e+00j]\n",
      " ...\n",
      " [1.36541227e+06+2.61479727e-12j 1.37515768e+07+0.00000000e+00j\n",
      "  3.53198420e+06-3.63797881e-12j ... 7.52559742e+05+0.00000000e+00j\n",
      "  1.63962337e+04+0.00000000e+00j 3.49437913e+04+9.09494702e-13j]\n",
      " [4.22737433e+04+1.81898940e-12j 4.32432893e+05+0.00000000e+00j\n",
      "  9.90266173e+04+7.95807864e-13j ... 1.63962337e+04+0.00000000e+00j\n",
      "  2.30611139e+04+0.00000000e+00j 2.71043701e+03-2.27373675e-13j]\n",
      " [3.64648915e+04-2.27373675e-13j 2.94158132e+05+0.00000000e+00j\n",
      "  9.56834803e+04+0.00000000e+00j ... 3.49437913e+04-9.09494702e-13j\n",
      "  2.71043701e+03+2.27373675e-13j 3.87360212e+04+0.00000000e+00j]]\n",
      "46\n",
      "113\n",
      "iter: 3\n",
      "[ 7.89919372e+06+0.00000000e+00j  1.68115436e+04+0.00000000e+00j\n",
      "  1.43678660e+04+0.00000000e+00j  1.21243202e+04+0.00000000e+00j\n",
      "  8.11379523e+03+0.00000000e+00j  7.98018584e+03+0.00000000e+00j\n",
      "  5.34032847e+03+5.34865916e+01j  5.34032847e+03-5.34865916e+01j\n",
      " -4.32183332e+03+2.33524728e+03j -4.32183332e+03-2.33524728e+03j\n",
      " -5.23194325e+03+0.00000000e+00j -4.93773804e+03+0.00000000e+00j\n",
      "  4.30263307e+03+0.00000000e+00j  3.99107666e+03+0.00000000e+00j\n",
      " -4.06678729e+03+0.00000000e+00j  3.22677728e+03+0.00000000e+00j\n",
      " -3.18520063e+03+1.54159743e+03j -3.18520063e+03-1.54159743e+03j\n",
      "  1.64966003e+03+2.05217870e+03j  1.64966003e+03-2.05217870e+03j\n",
      " -3.26633193e+03+0.00000000e+00j -2.55797341e+03+8.56537359e+02j\n",
      " -2.55797341e+03-8.56537359e+02j -3.02149381e+03+0.00000000e+00j\n",
      " -2.95729708e+03+0.00000000e+00j -2.81775032e+03+0.00000000e+00j\n",
      " -2.58479029e+03+0.00000000e+00j -2.25525761e+03+6.50518997e+01j\n",
      " -2.25525761e+03-6.50518997e+01j  1.72913723e+03+1.11835758e+03j\n",
      "  1.72913723e+03-1.11835758e+03j  9.27761296e+02+1.73528854e+03j\n",
      "  9.27761296e+02-1.73528854e+03j  1.32157544e+03+1.44530030e+03j\n",
      "  1.32157544e+03-1.44530030e+03j -7.30943546e+02+1.56856284e+03j\n",
      " -7.30943546e+02-1.56856284e+03j -1.93506996e+03+0.00000000e+00j\n",
      "  7.63744194e+02+1.52835792e+03j  7.63744194e+02-1.52835792e+03j\n",
      " -1.67190930e+03+0.00000000e+00j -1.64448990e+03+0.00000000e+00j\n",
      " -1.53286919e+03+2.20681771e+02j -1.53286919e+03-2.20681771e+02j\n",
      "  1.84303265e+03+0.00000000e+00j -1.44210973e+03+0.00000000e+00j\n",
      " -9.41710389e+02+9.32001027e+02j -9.41710389e+02-9.32001027e+02j\n",
      " -1.21330209e+03+2.69276440e+02j -1.21330209e+03-2.69276440e+02j\n",
      "  1.01912112e+03+1.18639261e+03j  1.01912112e+03-1.18639261e+03j\n",
      "  1.14985652e+03+1.06542329e+03j  1.14985652e+03-1.06542329e+03j\n",
      " -5.89020607e+02+1.01161226e+03j -5.89020607e+02-1.01161226e+03j\n",
      "  1.45676821e+03+5.19399743e+02j  1.45676821e+03-5.19399743e+02j\n",
      "  1.55332030e+03+0.00000000e+00j  1.27760174e+03+7.26773172e+02j\n",
      "  1.27760174e+03-7.26773172e+02j  1.38995148e+03+0.00000000e+00j\n",
      "  1.12614318e+03+7.53419955e+02j  1.12614318e+03-7.53419955e+02j\n",
      "  6.38016557e+02+1.02231485e+03j  6.38016557e+02-1.02231485e+03j\n",
      "  9.12324576e+02+8.74187351e+02j  9.12324576e+02-8.74187351e+02j\n",
      "  1.13566330e+03+4.12124124e+02j  1.13566330e+03-4.12124124e+02j\n",
      "  1.05430798e+03+5.36468635e+02j  1.05430798e+03-5.36468635e+02j\n",
      " -1.03616236e+03+5.60810004e+01j -1.03616236e+03-5.60810004e+01j\n",
      "  1.13332643e+03+0.00000000e+00j -7.12106227e+02+4.67261411e+02j\n",
      " -7.12106227e+02-4.67261411e+02j -8.89894152e+02+1.64786082e+02j\n",
      " -8.89894152e+02-1.64786082e+02j  9.27595162e+02+3.98887393e+02j\n",
      "  9.27595162e+02-3.98887393e+02j  6.42874329e+02+6.53173167e+02j\n",
      "  6.42874329e+02-6.53173167e+02j -8.65932685e+02+0.00000000e+00j\n",
      "  9.89895273e+02+0.00000000e+00j  7.52326214e+02+4.51951112e+02j\n",
      "  7.52326214e+02-4.51951112e+02j  8.68559728e+02+1.19141346e+02j\n",
      "  8.68559728e+02-1.19141346e+02j  8.42070423e+02+0.00000000e+00j\n",
      " -8.08374664e+02+0.00000000e+00j -7.15868981e+02+9.30774955e+00j\n",
      " -7.15868981e+02-9.30774955e+00j  4.16774696e+02+5.67561704e+02j\n",
      "  4.16774696e+02-5.67561704e+02j  5.18901060e+02+4.47309237e+02j\n",
      "  5.18901060e+02-4.47309237e+02j -3.94624603e+02+4.43100649e+02j\n",
      " -3.94624603e+02-4.43100649e+02j  5.41889292e+02+3.72232222e+02j\n",
      "  5.41889292e+02-3.72232222e+02j  6.13519132e+02+2.24147333e+02j\n",
      "  6.13519132e+02-2.24147333e+02j  5.14163453e+02+3.49302484e+02j\n",
      "  5.14163453e+02-3.49302484e+02j -4.05418634e+02+3.79511289e+02j\n",
      " -4.05418634e+02-3.79511289e+02j -6.49662430e+02+7.34497157e+01j\n",
      " -6.49662430e+02-7.34497157e+01j -5.82897915e+02+1.55340582e+02j\n",
      " -5.82897915e+02-1.55340582e+02j  6.54149671e+02+0.00000000e+00j\n",
      "  3.87404430e+02+3.79592885e+02j  3.87404430e+02-3.79592885e+02j\n",
      " -5.83754671e+02+0.00000000e+00j -5.62862132e+02+5.92301605e+01j\n",
      " -5.62862132e+02-5.92301605e+01j -5.13642643e+02+0.00000000e+00j\n",
      " -4.78158929e+02+1.09633493e+02j -4.78158929e+02-1.09633493e+02j\n",
      " -4.26765048e+02+1.80847523e+02j -4.26765048e+02-1.80847523e+02j\n",
      "  6.15158518e+02+0.00000000e+00j  5.78355120e+02+0.00000000e+00j\n",
      "  2.23307167e+02+3.76541158e+02j  2.23307167e+02-3.76541158e+02j\n",
      "  5.07246984e+02+8.84085146e+01j  5.07246984e+02-8.84085146e+01j\n",
      "  4.47750869e+02+1.27547029e+02j  4.47750869e+02-1.27547029e+02j\n",
      " -4.56221104e+02+0.00000000e+00j  4.07738214e+02+1.68785159e+02j\n",
      "  4.07738214e+02-1.68785159e+02j  4.27193811e+02+0.00000000e+00j\n",
      "  3.03315287e+02+2.52758381e+02j  3.03315287e+02-2.52758381e+02j\n",
      "  3.40194997e+02+1.64518554e+02j  3.40194997e+02-1.64518554e+02j\n",
      " -1.61625310e+02+3.52704000e+02j -1.61625310e+02-3.52704000e+02j\n",
      "  2.26292576e+02+2.66290028e+02j  2.26292576e+02-2.66290028e+02j\n",
      " -4.61674422e+01+3.42887280e+02j -4.61674422e+01-3.42887280e+02j\n",
      " -1.51787879e+02+3.18976792e+02j -1.51787879e+02-3.18976792e+02j\n",
      " -2.35912579e+02+2.76071451e+02j -2.35912579e+02-2.76071451e+02j\n",
      " -2.94934370e+02+2.36052611e+02j -2.94934370e+02-2.36052611e+02j\n",
      "  1.03818968e+02+3.07297214e+02j  1.03818968e+02-3.07297214e+02j\n",
      " -3.47465850e+02+1.62589495e+02j -3.47465850e+02-1.62589495e+02j\n",
      " -3.70260840e+02+1.10677992e+02j -3.70260840e+02-1.10677992e+02j\n",
      " -4.02209579e+02+2.01845404e+01j -4.02209579e+02-2.01845404e+01j\n",
      " -3.80261541e+02+0.00000000e+00j -1.03956806e+02+2.69383234e+02j\n",
      " -1.03956806e+02-2.69383234e+02j -3.43795244e+02+0.00000000e+00j\n",
      "  8.33795266e+00+2.76787453e+02j  8.33795266e+00-2.76787453e+02j\n",
      "  3.59794346e+02+0.00000000e+00j  3.43197605e+02+5.62394245e+01j\n",
      "  3.43197605e+02-5.62394245e+01j  2.65943410e+02+1.67613785e+02j\n",
      "  2.65943410e+02-1.67613785e+02j  3.26198139e+02+6.83823807e+01j\n",
      "  3.26198139e+02-6.83823807e+01j -3.11080881e+02+0.00000000e+00j\n",
      " -2.50011437e+02+9.33594973e+01j -2.50011437e+02-9.33594973e+01j\n",
      " -2.71176565e+02+3.95737366e+01j -2.71176565e+02-3.95737366e+01j\n",
      "  2.36190296e+02+1.40878786e+02j  2.36190296e+02-1.40878786e+02j\n",
      "  2.56475472e+02+7.13150093e+01j  2.56475472e+02-7.13150093e+01j\n",
      "  5.25217446e+01+2.31980215e+02j  5.25217446e+01-2.31980215e+02j\n",
      "  1.56061222e+02+1.95718995e+02j  1.56061222e+02-1.95718995e+02j\n",
      "  2.38038767e+02+9.71446829e+01j  2.38038767e+02-9.71446829e+01j\n",
      " -2.17473720e+02+7.50507856e+01j -2.17473720e+02-7.50507856e+01j\n",
      " -2.41306084e+02+0.00000000e+00j -2.15295572e+02+2.01867182e+01j\n",
      " -2.15295572e+02-2.01867182e+01j  1.71639480e+02+1.30122819e+02j\n",
      "  1.71639480e+02-1.30122819e+02j  1.89904747e+02+1.03389495e+02j\n",
      "  1.89904747e+02-1.03389495e+02j  2.17766904e+02+2.95644167e+01j\n",
      "  2.17766904e+02-2.95644167e+01j  2.17562713e+02+1.17351612e+01j\n",
      "  2.17562713e+02-1.17351612e+01j  2.03201448e+02+0.00000000e+00j\n",
      " -1.05313974e+02+1.63328715e+02j -1.05313974e+02-1.63328715e+02j\n",
      " -4.20363537e+01+1.48650041e+02j -4.20363537e+01-1.48650041e+02j\n",
      " -1.78027672e+02+2.70374999e+01j -1.78027672e+02-2.70374999e+01j\n",
      " -1.76847488e+02+1.21243798e+01j -1.76847488e+02-1.21243798e+01j\n",
      " -1.63363184e+02+0.00000000e+00j -1.41890546e+02+6.31998180e+01j\n",
      " -1.41890546e+02-6.31998180e+01j -1.58072424e+02+0.00000000e+00j\n",
      " -3.45245494e+01+1.07566001e+02j -3.45245494e+01-1.07566001e+02j\n",
      "  7.76515469e+01+1.30394284e+02j  7.76515469e+01-1.30394284e+02j\n",
      "  3.86617559e+01+1.35064035e+02j  3.86617559e+01-1.35064035e+02j\n",
      "  1.27268017e+01+1.09483244e+02j  1.27268017e+01-1.09483244e+02j\n",
      "  1.38169556e+02+6.75240621e+01j  1.38169556e+02-6.75240621e+01j\n",
      "  1.49506289e+02+5.67867629e+01j  1.49506289e+02-5.67867629e+01j\n",
      "  1.62470467e+02+0.00000000e+00j  1.27014076e+02+3.49701159e+01j\n",
      "  1.27014076e+02-3.49701159e+01j  1.48020591e+02+1.94031407e+01j\n",
      "  1.48020591e+02-1.94031407e+01j  1.35399373e+02+0.00000000e+00j\n",
      "  7.73405727e+01+1.09527845e+02j  7.73405727e+01-1.09527845e+02j\n",
      " -8.80196206e+01+9.75770648e+01j -8.80196206e+01-9.75770648e+01j\n",
      " -1.14606531e+02+6.02775862e+01j -1.14606531e+02-6.02775862e+01j\n",
      " -1.01712488e+02+4.10504553e+01j -1.01712488e+02-4.10504553e+01j\n",
      " -1.20048560e+02+1.14216487e+01j -1.20048560e+02-1.14216487e+01j\n",
      " -1.13329547e+02+2.73968758e+00j -1.13329547e+02-2.73968758e+00j\n",
      " -5.38167532e+01+7.65941089e+01j -5.38167532e+01-7.65941089e+01j\n",
      " -9.53578639e+01+0.00000000e+00j  6.08851455e+01+7.34083431e+01j\n",
      "  6.08851455e+01-7.34083431e+01j  8.47447122e+01+5.45592341e+01j\n",
      "  8.47447122e+01-5.45592341e+01j  9.94146621e+01+0.00000000e+00j\n",
      "  8.24355050e+01+4.70123873e+01j  8.24355050e+01-4.70123873e+01j\n",
      " -8.26533392e+01+1.26095102e+01j -8.26533392e+01-1.26095102e+01j\n",
      " -7.58854121e+01+2.01415957e+01j -7.58854121e+01-2.01415957e+01j\n",
      " -3.17211879e+01+6.06725065e+01j -3.17211879e+01-6.06725065e+01j\n",
      " -6.86142120e+01+3.36289430e+00j -6.86142120e+01-3.36289430e+00j\n",
      " -7.02819478e+01+0.00000000e+00j -3.50110463e+00+6.46099747e+01j\n",
      " -3.50110463e+00-6.46099747e+01j  8.37886814e+01+2.48066606e+01j\n",
      "  8.37886814e+01-2.48066606e+01j  9.26676519e+01+0.00000000e+00j\n",
      "  9.07080898e+01+0.00000000e+00j  7.04503483e+01+1.54040926e+01j\n",
      "  7.04503483e+01-1.54040926e+01j  6.94509717e+01+0.00000000e+00j\n",
      "  6.24987293e+01+2.13835471e+01j  6.24987293e+01-2.13835471e+01j\n",
      " -5.02099992e+01+2.87896290e+01j -5.02099992e+01-2.87896290e+01j\n",
      " -5.83948537e+01+5.54017221e+00j -5.83948537e+01-5.54017221e+00j\n",
      " -5.26237285e+01+1.73625500e+01j -5.26237285e+01-1.73625500e+01j\n",
      " -4.77678111e+01+0.00000000e+00j  1.51627827e+01+5.10139620e+01j\n",
      "  1.51627827e+01-5.10139620e+01j  4.54564563e+01+4.19616962e+01j\n",
      "  4.54564563e+01-4.19616962e+01j  2.48010323e+01+4.27838882e+01j\n",
      "  2.48010323e+01-4.27838882e+01j  6.28276827e+01+0.00000000e+00j\n",
      "  5.97365479e+01+0.00000000e+00j  5.65431848e+01+7.25934250e+00j\n",
      "  5.65431848e+01-7.25934250e+00j  4.68137371e+01+2.39921514e+01j\n",
      "  4.68137371e+01-2.39921514e+01j  2.51137313e+00+4.28106597e+01j\n",
      "  2.51137313e+00-4.28106597e+01j  4.63602150e+01+8.83278123e+00j\n",
      "  4.63602150e+01-8.83278123e+00j -1.45604980e+01+3.10765488e+01j\n",
      " -1.45604980e+01-3.10765488e+01j -4.23236270e+01+0.00000000e+00j\n",
      " -2.64974641e+01+2.25192466e+01j -2.64974641e+01-2.25192466e+01j\n",
      " -3.49821941e+01+7.43292073e+00j -3.49821941e+01-7.43292073e+00j\n",
      " -3.15173269e+01+1.40159580e+01j -3.15173269e+01-1.40159580e+01j\n",
      " -3.37798181e+01+0.00000000e+00j  7.46640612e+00+3.17624687e+01j\n",
      "  7.46640612e+00-3.17624687e+01j  2.51974739e+01+2.65933357e+01j\n",
      "  2.51974739e+01-2.65933357e+01j  2.80616605e+01+1.92297142e+01j\n",
      "  2.80616605e+01-1.92297142e+01j  3.73937348e+01+5.94817507e+00j\n",
      "  3.73937348e+01-5.94817507e+00j  3.97164211e+01+0.00000000e+00j\n",
      "  3.89249467e+01+0.00000000e+00j  3.29766335e+01+4.41945231e+00j\n",
      "  3.29766335e+01-4.41945231e+00j  1.61201952e+01+2.55457385e+01j\n",
      "  1.61201952e+01-2.55457385e+01j -8.24598384e+00+2.08687210e+01j\n",
      " -8.24598384e+00-2.08687210e+01j -2.27164777e+01+1.28617134e+01j\n",
      " -2.27164777e+01-1.28617134e+01j  2.40186525e+01+8.16832353e+00j\n",
      "  2.40186525e+01-8.16832353e+00j  2.29270617e+01+0.00000000e+00j\n",
      "  6.96129248e+00+2.06176946e+01j  6.96129248e+00-2.06176946e+01j\n",
      "  1.49861257e+01+1.58388890e+01j  1.49861257e+01-1.58388890e+01j\n",
      " -1.92861107e+01+1.23417820e+01j -1.92861107e+01-1.23417820e+01j\n",
      " -1.21808336e+01+1.62647905e+01j -1.21808336e+01-1.62647905e+01j\n",
      " -2.34340943e+01+1.53007039e-01j -2.34340943e+01-1.53007039e-01j\n",
      " -2.22196852e+01+0.00000000e+00j -1.64978996e+01+1.03353234e+01j\n",
      " -1.64978996e+01-1.03353234e+01j -1.93845235e+01+0.00000000e+00j\n",
      " -3.71402790e+00+1.68756765e+01j -3.71402790e+00-1.68756765e+01j\n",
      "  2.31290122e+01+4.27888491e+00j  2.31290122e+01-4.27888491e+00j\n",
      "  1.73479328e+01+1.26203509e+01j  1.73479328e+01-1.26203509e+01j\n",
      "  1.36358961e+00+1.49113053e+01j  1.36358961e+00-1.49113053e+01j\n",
      " -1.21955914e+01+9.50856512e+00j -1.21955914e+01-9.50856512e+00j\n",
      "  5.62253689e+00+1.23626287e+01j  5.62253689e+00-1.23626287e+01j\n",
      "  1.24278664e+01+6.97928832e+00j  1.24278664e+01-6.97928832e+00j\n",
      "  1.82766155e+01+0.00000000e+00j  1.46722357e+01+4.25522372e+00j\n",
      "  1.46722357e+01-4.25522372e+00j  1.62032910e+01+0.00000000e+00j\n",
      " -5.16411866e+00+1.02707077e+01j -5.16411866e+00-1.02707077e+01j\n",
      " -6.05336333e+00+9.16586127e+00j -6.05336333e+00-9.16586127e+00j\n",
      " -1.20265107e+01+2.08817075e+00j -1.20265107e+01-2.08817075e+00j\n",
      " -1.14655785e+01+0.00000000e+00j  7.44181409e+00+8.49921772e+00j\n",
      "  7.44181409e+00-8.49921772e+00j  1.25859964e+01+0.00000000e+00j\n",
      " -8.08090987e+00+4.06003730e+00j -8.08090987e+00-4.06003730e+00j\n",
      " -1.10244995e+01+0.00000000e+00j -7.32005236e+00+0.00000000e+00j\n",
      " -3.30871831e+00+6.34670916e+00j -3.30871831e+00-6.34670916e+00j\n",
      "  2.84725574e+00+5.74444350e+00j  2.84725574e+00-5.74444350e+00j\n",
      "  5.17495164e+00+4.92040856e+00j  5.17495164e+00-4.92040856e+00j\n",
      "  1.03160903e+01+0.00000000e+00j  9.14430072e+00+0.00000000e+00j\n",
      " -5.30822043e+00+0.00000000e+00j  6.38024392e+00+1.88732241e+00j\n",
      "  6.38024392e+00-1.88732241e+00j  5.59543217e+00+2.51384818e+00j\n",
      "  5.59543217e+00-2.51384818e+00j -7.44504010e-01+4.41168786e+00j\n",
      " -7.44504010e-01-4.41168786e+00j -1.97029807e+00+3.21318882e+00j\n",
      " -1.97029807e+00-3.21318882e+00j -7.69353778e-01+2.74007495e+00j\n",
      " -7.69353778e-01-2.74007495e+00j -1.90584425e+00+0.00000000e+00j\n",
      " -2.77014783e+00+0.00000000e+00j  5.37779987e+00+0.00000000e+00j\n",
      "  4.18599225e+00+0.00000000e+00j  1.64357624e+00+2.40032291e+00j\n",
      "  1.64357624e+00-2.40032291e+00j  2.76831139e+00+0.00000000e+00j\n",
      "  2.99397610e-01+0.00000000e+00j  1.47608461e+00+0.00000000e+00j\n",
      "  1.07738926e+00+0.00000000e+00j  6.94233474e-01+0.00000000e+00j] [[-0.05121863+0.j -0.0846857 +0.j -0.00127241+0.j ... -0.01905472+0.j\n",
      "  -0.01809993+0.j  0.00605306+0.j]\n",
      " [-0.07787369+0.j -0.00893292+0.j  0.0014213 +0.j ...  0.01957128+0.j\n",
      "   0.02002706+0.j -0.01157196+0.j]\n",
      " [-0.00019554+0.j  0.00899069+0.j -0.00094404+0.j ... -0.00053787+0.j\n",
      "   0.00139721+0.j -0.00767308+0.j]\n",
      " ...\n",
      " [-0.02374987+0.j -0.08832016+0.j  0.00351874+0.j ...  0.03036298+0.j\n",
      "  -0.00720977+0.j  0.03129179+0.j]\n",
      " [-0.00225789+0.j  0.04166806+0.j  0.00086438+0.j ... -0.00974773+0.j\n",
      "   0.00341545+0.j -0.00639311+0.j]\n",
      " [-0.0057738 +0.j -0.03749457+0.j  0.00310318+0.j ... -0.01966637+0.j\n",
      "  -0.0214661 +0.j  0.0930732 +0.j]]\n",
      "[ 8.18593500e+06+0.00000000e+00j  2.01392120e+04+0.00000000e+00j\n",
      "  1.14717044e+04+0.00000000e+00j  9.73811101e+03+0.00000000e+00j\n",
      "  6.92208838e+03+0.00000000e+00j  6.73070619e+03+0.00000000e+00j\n",
      "  6.29811013e+03+0.00000000e+00j -5.53973900e+03+0.00000000e+00j\n",
      "  5.12005013e+03+0.00000000e+00j -4.62183696e+03+2.13539392e+03j\n",
      " -4.62183696e+03-2.13539392e+03j -4.69017708e+03+0.00000000e+00j\n",
      " -3.89715346e+03+1.74334568e+03j -3.89715346e+03-1.74334568e+03j\n",
      "  3.68349489e+03+0.00000000e+00j  3.63334215e+03+0.00000000e+00j\n",
      " -3.91651097e+03+0.00000000e+00j -3.50874285e+03+0.00000000e+00j\n",
      " -2.68104045e+03+1.42509893e+03j -2.68104045e+03-1.42509893e+03j\n",
      "  2.77176125e+03+0.00000000e+00j  1.34440996e+03+2.33121262e+03j\n",
      "  1.34440996e+03-2.33121262e+03j  1.50108198e+03+1.88301509e+03j\n",
      "  1.50108198e+03-1.88301509e+03j  9.37178061e+02+2.18410258e+03j\n",
      "  9.37178061e+02-2.18410258e+03j  2.21016041e+03+0.00000000e+00j\n",
      " -2.79451380e+03+6.66364685e+01j -2.79451380e+03-6.66364685e+01j\n",
      " -2.62983410e+03+0.00000000e+00j -2.48538881e+03+0.00000000e+00j\n",
      " -2.29314696e+03+1.87512104e+02j -2.29314696e+03-1.87512104e+02j\n",
      " -8.53263438e+02+1.72677142e+03j -8.53263438e+02-1.72677142e+03j\n",
      "  2.11900653e+03+0.00000000e+00j  1.33727278e+03+1.39680184e+03j\n",
      "  1.33727278e+03-1.39680184e+03j  1.67913167e+03+8.13264563e+02j\n",
      "  1.67913167e+03-8.13264563e+02j  1.15822109e+03+1.29276929e+03j\n",
      "  1.15822109e+03-1.29276929e+03j -1.85488425e+03+1.09229243e+02j\n",
      " -1.85488425e+03-1.09229243e+02j  1.22432893e+03+9.00014346e+02j\n",
      "  1.22432893e+03-9.00014346e+02j  1.51110569e+03+3.61442150e+02j\n",
      "  1.51110569e+03-3.61442150e+02j  8.66092312e+02+1.10244503e+03j\n",
      "  8.66092312e+02-1.10244503e+03j -7.35153410e+02+1.17820268e+03j\n",
      " -7.35153410e+02-1.17820268e+03j -1.05101959e+03+9.51020743e+02j\n",
      " -1.05101959e+03-9.51020743e+02j  1.47005859e+03+0.00000000e+00j\n",
      "  1.39558171e+03+0.00000000e+00j  9.91191963e+02+8.52876226e+02j\n",
      "  9.91191963e+02-8.52876226e+02j -1.53866784e+03+3.34094500e+01j\n",
      " -1.53866784e+03-3.34094500e+01j -1.38190833e+03+1.93392248e+02j\n",
      " -1.38190833e+03-1.93392248e+02j  1.20384234e+03+0.00000000e+00j\n",
      " -1.16012052e+03+2.19857197e+02j -1.16012052e+03-2.19857197e+02j\n",
      "  7.31602686e+02+7.43968648e+02j  7.31602686e+02-7.43968648e+02j\n",
      "  5.09730789e+02+7.89284113e+02j  5.09730789e+02-7.89284113e+02j\n",
      "  1.06172811e+03+2.15833650e+02j  1.06172811e+03-2.15833650e+02j\n",
      "  8.35006389e+02+5.65888163e+02j  8.35006389e+02-5.65888163e+02j\n",
      " -1.11546402e+03+0.00000000e+00j -1.07988113e+03+0.00000000e+00j\n",
      " -1.06156609e+03+0.00000000e+00j  6.93672466e+02+5.41933024e+02j\n",
      "  6.93672466e+02-5.41933024e+02j  9.53636649e+02+0.00000000e+00j\n",
      "  8.29191069e+02+3.32130196e+02j  8.29191069e+02-3.32130196e+02j\n",
      "  7.49887338e+02+3.19297204e+02j  7.49887338e+02-3.19297204e+02j\n",
      "  8.26488193e+02+0.00000000e+00j  4.30670430e+02+6.10720798e+02j\n",
      "  4.30670430e+02-6.10720798e+02j -9.31798530e+02+0.00000000e+00j\n",
      " -2.15775921e+02+6.07776532e+02j -2.15775921e+02-6.07776532e+02j\n",
      " -7.83653623e+02+1.99285427e+02j -7.83653623e+02-1.99285427e+02j\n",
      " -6.16272738e+02+3.88510365e+02j -6.16272738e+02-3.88510365e+02j\n",
      " -6.67787529e+02+3.04717307e+02j -6.67787529e+02-3.04717307e+02j\n",
      " -7.71583024e+02+0.00000000e+00j -7.31878306e+02+0.00000000e+00j\n",
      "  6.81375061e+02+2.34492495e+02j  6.81375061e+02-2.34492495e+02j\n",
      "  7.19962606e+02+0.00000000e+00j  6.97625740e+02+5.99376556e+01j\n",
      "  6.97625740e+02-5.99376556e+01j  6.18087630e+02+2.34012236e+02j\n",
      "  6.18087630e+02-2.34012236e+02j -2.69646400e+02+4.76081318e+02j\n",
      " -2.69646400e+02-4.76081318e+02j -6.39883777e+02+2.01941837e+02j\n",
      " -6.39883777e+02-2.01941837e+02j  4.98803984e+02+3.24978930e+02j\n",
      "  4.98803984e+02-3.24978930e+02j  2.73189916e+02+4.50783131e+02j\n",
      "  2.73189916e+02-4.50783131e+02j -4.25327778e+02+3.31583617e+02j\n",
      " -4.25327778e+02-3.31583617e+02j -6.58689697e+02+2.70928867e+01j\n",
      " -6.58689697e+02-2.70928867e+01j -6.21020945e+02+9.77020812e+01j\n",
      " -6.21020945e+02-9.77020812e+01j  3.87011263e+02+3.57600632e+02j\n",
      "  3.87011263e+02-3.57600632e+02j  5.76814817e+02+0.00000000e+00j\n",
      "  5.20956162e+02+1.34566314e+02j  5.20956162e+02-1.34566314e+02j\n",
      " -4.50860336e+02+1.97446406e+02j -4.50860336e+02-1.97446406e+02j\n",
      " -5.66873318e+02+0.00000000e+00j -5.12972609e+02+2.22031931e+01j\n",
      " -5.12972609e+02-2.22031931e+01j -2.69886806e+02+3.79650671e+02j\n",
      " -2.69886806e+02-3.79650671e+02j  4.43867706e+02+2.31162247e+02j\n",
      "  4.43867706e+02-2.31162247e+02j  3.22742681e+02+3.27922447e+02j\n",
      "  3.22742681e+02-3.27922447e+02j -4.45299124e+02+0.00000000e+00j\n",
      " -4.18867666e+02+7.71359933e+01j -4.18867666e+02-7.71359933e+01j\n",
      "  3.37679656e+02+2.41641791e+02j  3.37679656e+02-2.41641791e+02j\n",
      "  4.12730474e+02+1.70781115e+02j  4.12730474e+02-1.70781115e+02j\n",
      "  4.60538576e+02+2.65541397e+01j  4.60538576e+02-2.65541397e+01j\n",
      "  4.50871983e+02+0.00000000e+00j  1.64832546e+02+3.36584897e+02j\n",
      "  1.64832546e+02-3.36584897e+02j  3.84518773e+02+0.00000000e+00j\n",
      "  3.08382652e+02+1.96159654e+02j  3.08382652e+02-1.96159654e+02j\n",
      " -1.79357900e+02+3.24011603e+02j -1.79357900e+02-3.24011603e+02j\n",
      " -3.23124130e+02+1.81288329e+02j -3.23124130e+02-1.81288329e+02j\n",
      " -3.87990751e+02+0.00000000e+00j -3.40120167e+02+8.25185510e+01j\n",
      " -3.40120167e+02-8.25185510e+01j -3.16845634e+02+1.00923325e+02j\n",
      " -3.16845634e+02-1.00923325e+02j -3.24454235e+02+3.95344736e+01j\n",
      " -3.24454235e+02-3.95344736e+01j -1.07105588e+02+2.81942756e+02j\n",
      " -1.07105588e+02-2.81942756e+02j  1.09023917e+02+2.98029766e+02j\n",
      "  1.09023917e+02-2.98029766e+02j  2.29536723e+02+2.23912019e+02j\n",
      "  2.29536723e+02-2.23912019e+02j  3.05523758e+02+1.44634695e+02j\n",
      "  3.05523758e+02-1.44634695e+02j  3.20591672e+02+0.00000000e+00j\n",
      " -3.01865536e+02+0.00000000e+00j -2.84102331e+02+0.00000000e+00j\n",
      " -2.46056345e+02+9.21290737e+01j -2.46056345e+02-9.21290737e+01j\n",
      "  1.60602414e+02+1.97172234e+02j  1.60602414e+02-1.97172234e+02j\n",
      "  2.83003966e+02+0.00000000e+00j  2.62582621e+02+3.49986398e+01j\n",
      "  2.62582621e+02-3.49986398e+01j -1.33620152e+02+1.86687251e+02j\n",
      " -1.33620152e+02-1.86687251e+02j  2.04859487e+02+1.39415900e+02j\n",
      "  2.04859487e+02-1.39415900e+02j  2.57176596e+02+0.00000000e+00j\n",
      "  2.11758963e+02+1.13871937e+02j  2.11758963e+02-1.13871937e+02j\n",
      "  2.31095197e+02+5.91275725e+01j  2.31095197e+02-5.91275725e+01j\n",
      "  9.29501386e+01+1.98632999e+02j  9.29501386e+01-1.98632999e+02j\n",
      "  1.83421672e+01+2.14717430e+02j  1.83421672e+01-2.14717430e+02j\n",
      "  2.91154209e+01+2.04621165e+02j  2.91154209e+01-2.04621165e+02j\n",
      " -2.34464218e+02+0.00000000e+00j -1.91983636e+02+6.83858074e+01j\n",
      " -1.91983636e+02-6.83858074e+01j -1.51731389e+02+9.34848003e+01j\n",
      " -1.51731389e+02-9.34848003e+01j -1.96479546e+02+2.94091722e+01j\n",
      " -1.96479546e+02-2.94091722e+01j -2.03228124e+02+0.00000000e+00j\n",
      " -1.84483532e+02+6.38864220e+00j -1.84483532e+02-6.38864220e+00j\n",
      "  7.46070628e+01+1.57533141e+02j  7.46070628e+01-1.57533141e+02j\n",
      "  1.75972807e+02+8.57671303e+01j  1.75972807e+02-8.57671303e+01j\n",
      "  2.10613343e+02+0.00000000e+00j  1.93033325e+02+4.58059424e+01j\n",
      "  1.93033325e+02-4.58059424e+01j  1.27662844e+02+1.06265511e+02j\n",
      "  1.27662844e+02-1.06265511e+02j  1.78566555e+02+0.00000000e+00j\n",
      "  1.57527989e+02+2.93232724e+01j  1.57527989e+02-2.93232724e+01j\n",
      "  1.32063160e+02+7.18666049e+01j  1.32063160e+02-7.18666049e+01j\n",
      " -1.17610024e+01+1.49929272e+02j -1.17610024e+01-1.49929272e+02j\n",
      " -8.06287796e+01+1.12790375e+02j -8.06287796e+01-1.12790375e+02j\n",
      " -1.51121822e+02+4.52450387e+01j -1.51121822e+02-4.52450387e+01j\n",
      " -1.55032213e+02+0.00000000e+00j -1.19891603e+02+6.94874648e+01j\n",
      " -1.19891603e+02-6.94874648e+01j -1.02747672e+02+8.09171965e+01j\n",
      " -1.02747672e+02-8.09171965e+01j  4.09891200e+01+1.16997567e+02j\n",
      "  4.09891200e+01-1.16997567e+02j  1.04852993e+02+8.44880262e+01j\n",
      "  1.04852993e+02-8.44880262e+01j  1.30651774e+02+5.25972428e+01j\n",
      "  1.30651774e+02-5.25972428e+01j  1.51276383e+02+0.00000000e+00j\n",
      "  1.36610864e+02+0.00000000e+00j  1.21801576e+02+1.49327020e+01j\n",
      "  1.21801576e+02-1.49327020e+01j -1.33184688e+02+9.12958443e+00j\n",
      " -1.33184688e+02-9.12958443e+00j -1.13509164e+02+2.42464741e+01j\n",
      " -1.13509164e+02-2.42464741e+01j -1.04561951e+02+0.00000000e+00j\n",
      "  8.86589100e+01+5.37808081e+01j  8.86589100e+01-5.37808081e+01j\n",
      "  1.04638298e+02+0.00000000e+00j  7.60047600e+01+5.33311538e+01j\n",
      "  7.60047600e+01-5.33311538e+01j  4.25506340e+01+7.58223074e+01j\n",
      "  4.25506340e+01-7.58223074e+01j  9.33107121e+01+0.00000000e+00j\n",
      " -2.16649852e+01+7.32479330e+01j -2.16649852e+01-7.32479330e+01j\n",
      " -9.94237136e+01+1.65567642e+01j -9.94237136e+01-1.65567642e+01j\n",
      " -8.66379204e+01+3.89117096e+01j -8.66379204e+01-3.89117096e+01j\n",
      " -7.14509985e+01+4.67155409e+01j -7.14509985e+01-4.67155409e+01j\n",
      " -8.33944955e+01+0.00000000e+00j -7.60823873e+01+2.14283758e+01j\n",
      " -7.60823873e+01-2.14283758e+01j -5.48357088e+01+3.90734341e+01j\n",
      " -5.48357088e+01-3.90734341e+01j -2.31324015e+01+5.50707217e+01j\n",
      " -2.31324015e+01-5.50707217e+01j -4.33200687e+01+4.03778851e+01j\n",
      " -4.33200687e+01-4.03778851e+01j -6.10709282e+01+0.00000000e+00j\n",
      "  5.06754284e+01+4.81777505e+01j  5.06754284e+01-4.81777505e+01j\n",
      "  7.12787649e+01+2.54180467e+01j  7.12787649e+01-2.54180467e+01j\n",
      "  7.38991910e+01+1.71244671e+01j  7.38991910e+01-1.71244671e+01j\n",
      "  7.43825793e+01+0.00000000e+00j -4.91621127e+01+1.67301770e+01j\n",
      " -4.91621127e+01-1.67301770e+01j  7.63824436e+00+5.35041378e+01j\n",
      "  7.63824436e+00-5.35041378e+01j  6.19818417e+01+0.00000000e+00j\n",
      "  5.86618209e+01+1.43934037e+01j  5.86618209e+01-1.43934037e+01j\n",
      "  4.75153635e+01+2.96308791e+01j  4.75153635e+01-2.96308791e+01j\n",
      "  2.45194524e+01+4.32545333e+01j  2.45194524e+01-4.32545333e+01j\n",
      " -3.58816449e+01+2.89230180e+01j -3.58816449e+01-2.89230180e+01j\n",
      "  2.79692630e+01+3.46126394e+01j  2.79692630e+01-3.46126394e+01j\n",
      " -4.97002292e+01+0.00000000e+00j -1.00699598e+00+3.58183317e+01j\n",
      " -1.00699598e+00-3.58183317e+01j -3.67952169e+01+1.35798472e+01j\n",
      " -3.67952169e+01-1.35798472e+01j -4.14213537e+01+0.00000000e+00j\n",
      " -3.95508668e+01+5.95772625e+00j -3.95508668e+01-5.95772625e+00j\n",
      " -3.74410515e+01+6.99211976e+00j -3.74410515e+01-6.99211976e+00j\n",
      "  4.74759694e+01+1.50240656e+01j  4.74759694e+01-1.50240656e+01j\n",
      "  3.87875248e+01+1.98384184e+01j  3.87875248e+01-1.98384184e+01j\n",
      "  4.90416384e+01+0.00000000e+00j  4.10207583e+01+4.36599520e+00j\n",
      "  4.10207583e+01-4.36599520e+00j  4.46861805e+01+0.00000000e+00j\n",
      "  1.14830739e+01+2.73436815e+01j  1.14830739e+01-2.73436815e+01j\n",
      " -1.68396961e+01+2.19446180e+01j -1.68396961e+01-2.19446180e+01j\n",
      " -2.76118653e+01+1.08182392e+01j -2.76118653e+01-1.08182392e+01j\n",
      " -1.05549547e+01+2.24698065e+01j -1.05549547e+01-2.24698065e+01j\n",
      " -2.26008089e+01+1.37967623e+01j -2.26008089e+01-1.37967623e+01j\n",
      " -2.57790844e+01+0.00000000e+00j -1.91009710e+01+1.26697545e+01j\n",
      " -1.91009710e+01-1.26697545e+01j  3.14364456e+01+1.20270998e+01j\n",
      "  3.14364456e+01-1.20270998e+01j  3.35167538e+01+0.00000000e+00j\n",
      "  1.79977327e+01+1.85323533e+01j  1.79977327e+01-1.85323533e+01j\n",
      "  7.27924513e+00+1.93755422e+01j  7.27924513e+00-1.93755422e+01j\n",
      "  2.57979832e+01+8.93731020e+00j  2.57979832e+01-8.93731020e+00j\n",
      "  2.73911338e+01+0.00000000e+00j  1.67533355e+01+1.42968957e+01j\n",
      "  1.67533355e+01-1.42968957e+01j  1.97460978e+01+1.16620487e+01j\n",
      "  1.97460978e+01-1.16620487e+01j -2.12031497e+01+0.00000000e+00j\n",
      "  2.35823760e+01+0.00000000e+00j  2.16432170e+01+6.25620058e+00j\n",
      "  2.16432170e+01-6.25620058e+00j  1.18765213e+01+1.49214254e+01j\n",
      "  1.18765213e+01-1.49214254e+01j  1.83346041e+01+3.07528803e+00j\n",
      "  1.83346041e+01-3.07528803e+00j -1.21467540e+00+1.39953734e+01j\n",
      " -1.21467540e+00-1.39953734e+01j -1.23211537e+01+9.95741620e+00j\n",
      " -1.23211537e+01-9.95741620e+00j -7.52854408e+00+1.14865030e+01j\n",
      " -7.52854408e+00-1.14865030e+01j -1.68736348e+01+0.00000000e+00j\n",
      " -1.67371798e+01+0.00000000e+00j -1.30357140e+01+5.30605660e+00j\n",
      " -1.30357140e+01-5.30605660e+00j  5.80644685e+00+9.41143189e+00j\n",
      "  5.80644685e+00-9.41143189e+00j -5.20720948e+00+9.67709009e+00j\n",
      " -5.20720948e+00-9.67709009e+00j -1.27563839e+01+0.00000000e+00j\n",
      " -1.11364769e+01+0.00000000e+00j -7.00396524e+00+6.07283260e+00j\n",
      " -7.00396524e+00-6.07283260e+00j  9.92255467e+00+6.78843147e+00j\n",
      "  9.92255467e+00-6.78843147e+00j  1.37244369e+01+0.00000000e+00j\n",
      "  1.50936970e+01+0.00000000e+00j  1.61201703e+01+0.00000000e+00j\n",
      "  3.19062935e+00+7.87179719e+00j  3.19062935e+00-7.87179719e+00j\n",
      " -9.15501607e+00+0.00000000e+00j -1.08212710e+00+7.51608046e+00j\n",
      " -1.08212710e+00-7.51608046e+00j -7.40854982e-01+6.13622172e+00j\n",
      " -7.40854982e-01-6.13622172e+00j  9.73562042e+00+1.47717594e+00j\n",
      "  9.73562042e+00-1.47717594e+00j  4.51817884e+00+6.31981692e+00j\n",
      "  4.51817884e+00-6.31981692e+00j  6.20373288e+00+3.92283482e+00j\n",
      "  6.20373288e+00-3.92283482e+00j  4.95907514e+00+5.18892863e+00j\n",
      "  4.95907514e+00-5.18892863e+00j -5.48127131e+00+0.00000000e+00j\n",
      " -4.87296855e+00+0.00000000e+00j  9.36111702e+00+0.00000000e+00j\n",
      "  6.74494575e+00+0.00000000e+00j  3.33219086e+00+3.53012569e+00j\n",
      "  3.33219086e+00-3.53012569e+00j -1.19221712e+00+3.62104793e+00j\n",
      " -1.19221712e+00-3.62104793e+00j -3.45520781e+00+0.00000000e+00j\n",
      " -1.62140807e+00+0.00000000e+00j -1.56771519e-01+1.94785326e+00j\n",
      " -1.56771519e-01-1.94785326e+00j  4.65107828e+00+0.00000000e+00j\n",
      "  3.92024125e+00+0.00000000e+00j -6.39966950e-01+0.00000000e+00j\n",
      "  1.11605983e+00+1.16770695e+00j  1.11605983e+00-1.16770695e+00j\n",
      "  1.16830600e+00+0.00000000e+00j  2.45287876e+00+0.00000000e+00j] [[ 1.45462022e-02+0.j         -7.12562053e-02+0.j\n",
      "  -4.91474196e-02+0.j         ...  9.00085251e-04+0.00735312j\n",
      "   4.37310650e-03+0.j         -3.12401143e-05+0.j        ]\n",
      " [ 4.62559813e-02+0.j         -3.69985896e-02+0.j\n",
      "  -1.41336577e-01+0.j         ... -1.31670413e-02+0.01922943j\n",
      "   1.61144664e-02+0.j          3.63469884e-02+0.j        ]\n",
      " [ 2.30963001e-02+0.j         -6.67838614e-02+0.j\n",
      "  -4.18661030e-02+0.j         ... -5.19120649e-02+0.02438637j\n",
      "   6.68404317e-02+0.j         -3.68207424e-03+0.j        ]\n",
      " ...\n",
      " [ 9.56880571e-03+0.j         -2.09233913e-02+0.j\n",
      "  -7.47472407e-02+0.j         ...  2.57272057e-03-0.00157974j\n",
      "   2.88587000e-02+0.j          8.21182175e-02+0.j        ]\n",
      " [ 1.78561445e-03+0.j          6.92153904e-03+0.j\n",
      "  -6.16609564e-03+0.j         ... -9.21979786e-04-0.02067815j\n",
      "  -3.06881197e-02+0.j         -4.23123979e-02+0.j        ]\n",
      " [ 1.13401849e-03+0.j         -5.25807561e-02+0.j\n",
      "  -3.15129093e-02+0.j         ... -1.42752575e-02+0.01897217j\n",
      "   1.23702716e-02+0.j          1.02735822e-02+0.j        ]]\n",
      "[[8.79623579e+10+0.00000000e+00j 2.38006282e+11-1.11758709e-08j\n",
      "  5.44365980e+07-4.07453626e-10j ... 1.20265996e+10+0.00000000e+00j\n",
      "  1.07287294e+10+0.00000000e+00j 1.21561487e+09-1.39698386e-09j]\n",
      " [2.38006282e+11+1.11758709e-08j 6.52197677e+11+0.00000000e+00j\n",
      "  1.44519528e+08-2.32830644e-10j ... 3.33531206e+10+9.31322575e-10j\n",
      "  2.96751235e+10-4.65661287e-09j 3.34423931e+09+0.00000000e+00j]\n",
      " [5.44365980e+07+4.07453626e-10j 1.44519528e+08+2.32830644e-10j\n",
      "  1.33119883e+06+0.00000000e+00j ... 5.67983974e+06+5.82076609e-11j\n",
      "  7.67153844e+06-1.74622983e-10j 7.53880224e+05-2.91038305e-11j]\n",
      " ...\n",
      " [1.20265996e+10+0.00000000e+00j 3.33531206e+10-9.31322575e-10j\n",
      "  5.67983974e+06-5.82076609e-11j ... 1.68634072e+09+0.00000000e+00j\n",
      "  1.54966470e+09-1.86264515e-09j 1.75137190e+08+0.00000000e+00j]\n",
      " [1.07287294e+10+0.00000000e+00j 2.96751235e+10+4.65661287e-09j\n",
      "  7.67153844e+06+1.74622983e-10j ... 1.54966470e+09+1.86264515e-09j\n",
      "  1.32043391e+09+0.00000000e+00j 1.42305464e+08+1.86264515e-09j]\n",
      " [1.21561487e+09+1.39698386e-09j 3.34423931e+09+0.00000000e+00j\n",
      "  7.53880224e+05+2.91038305e-11j ... 1.75137190e+08+0.00000000e+00j\n",
      "  1.42305464e+08-1.86264515e-09j 1.66441418e+07+0.00000000e+00j]]\n",
      "[[ 5.21422188e+08+0.00000000e+00j  1.38199005e+10+0.00000000e+00j\n",
      "   6.42674343e+09-5.67524694e-10j ... -1.57907122e+08+3.02692584e+07j\n",
      "   5.74482175e+07+0.00000000e+00j  4.64487164e+05+0.00000000e+00j]\n",
      " [ 1.38199005e+10+0.00000000e+00j  3.27463608e+11+0.00000000e+00j\n",
      "   1.57202794e+11-5.35510480e-09j ... -3.52074345e+09+8.01832047e+08j\n",
      "   1.27334572e+09+2.32830644e-10j  1.03464865e+05-2.18278728e-11j]\n",
      " [ 6.42674343e+09+5.67524694e-10j  1.57202794e+11+5.35510480e-09j\n",
      "   7.52861980e+10+0.00000000e+00j ... -1.73417038e+09+3.84042692e+08j\n",
      "   6.17414341e+08-9.31322575e-10j  3.48267583e+06-1.16415322e-10j]\n",
      " ...\n",
      " [-1.57907122e+08-3.02692584e+07j -3.52074345e+09-8.01832047e+08j\n",
      "  -1.73417038e+09-3.84042692e+08j ...  5.00452240e+07+0.00000000e+00j\n",
      "  -1.64459374e+07+2.89684929e+06j -1.58064146e+05+1.47518151e+05j]\n",
      " [ 5.74482175e+07+0.00000000e+00j  1.27334572e+09-2.32830644e-10j\n",
      "   6.17414341e+08+9.31322575e-10j ... -1.64459374e+07-2.89684929e+06j\n",
      "   1.11386788e+07+0.00000000e+00j  1.39403187e+05-9.09494702e-12j]\n",
      " [ 4.64487164e+05+0.00000000e+00j  1.03464865e+05+2.18278728e-11j\n",
      "   3.48267583e+06+1.16415322e-10j ... -1.58064146e+05-1.47518151e+05j\n",
      "   1.39403187e+05+9.09494702e-12j  6.63433346e+05+0.00000000e+00j]]\n"
     ]
    }
   ],
   "source": [
    "import numpy as np \n",
    "import pandas as pd\n",
    "from scipy.stats import ttest_ind\n",
    "from sklearn.feature_selection import *\n",
    "import tqdm\n",
    "import networkx as nx\n",
    "import matplotlib.pyplot as plt\n",
    "import torch.nn as nn\n",
    "import torch\n",
    "import seaborn as sns\n",
    "import requests\n",
    "import os\n",
    "from scipy.special import softmax\n",
    "\n",
    "try:\n",
    "    os.mkdir('US')\n",
    "    os.mkdir('UB')\n",
    "    os.mkdir('US_csv')\n",
    "    os.mkdir('UB_csv')\n",
    "except:\n",
    "    pass\n",
    "#############################\n",
    "############UTILS############\n",
    "#############################\n",
    "# NORMALIZE GRAPH AGJACENCY\n",
    "def norm_adj(G):\n",
    "    A = nx.to_numpy_matrix(G)\n",
    "    # 1/MI can result in infty if MI small, -> \n",
    "    A[A == np.inf] = -1\n",
    "    A[A == -1] = np.max(A)\n",
    "    # Normalize\n",
    "    A = (A-A.min())/(A.max()-A.min())\n",
    "    return A\n",
    "# GET SUBGRAPH\n",
    "def get_nodes(G, A, num_nodes = 256, save = True):\n",
    "    nodes = G.nodes\n",
    "    scr = A.sum(0).tolist()\n",
    "    scr = scr[0]\n",
    "    df = pd.DataFrame([])\n",
    "    df['Gene Name'] = G.nodes\n",
    "    df['scr'] = scr\n",
    "    df = df.sort_values(by = 'scr', ascending = False)\n",
    "    df = df[:num_nodes]\n",
    "    if save:\n",
    "        df.to_csv('MI.csv', index = False)\n",
    "    s_genes = df['Gene Name'].tolist()\n",
    "    return G.subgraph(s_genes)\n",
    "# STREAMING PROTEIN-PROTEIN INTERACTION FOR GAIA\n",
    "def get_string_graph(gs):\n",
    "    # Source: https://towardsdatascience.com/visualizing-protein-networks-in-python-58a9b51be9d5\n",
    "    proteins = '%0d'.join(gs)\n",
    "    url = 'https://string-db.org/api/tsv/network?identifiers=' + proteins + '&species=9606' + '&add_node=50'\n",
    "    r = requests.get(url)\n",
    "    lines = r.text.split('\\n') # pull the text from the response object and split based on new lines\n",
    "    data = [l.split('\\t') for l in lines] # split each line into its components based on tabs\n",
    "    # convert to dataframe using the first row as the column names; drop empty, final row\n",
    "    df = pd.DataFrame(data[1:-1], columns = data[0]) \n",
    "    # dataframe with the preferred names of the two proteins and the score of the interaction\n",
    "    interactions = df[['preferredName_A', 'preferredName_B', 'score']]  \n",
    "    #print(interactions)\n",
    "    G=nx.Graph(name='Protein Interaction Graph')\n",
    "    interactions = np.array(interactions)\n",
    "    for i in range(len(interactions)):\n",
    "        interaction = interactions[i]\n",
    "        w = float(interaction[2]) # score as weighted edge where high scores = low weight\n",
    "        a = interaction[0] # protein a node\n",
    "        b = interaction[1] # protein b node\n",
    "        #if w > 0.5:\n",
    "        G.add_weighted_edges_from([(a,b,w)]) # add weighted edge to graph\n",
    "    return G\n",
    "#############################\n",
    "###########GETMAP############\n",
    "#############################\n",
    "# MI GRAPH\n",
    "G = nx.read_gpickle('star_graph.gpickle')\n",
    "# ..?! SOME UNKNOWN PROCESSING\n",
    "G.remove_node('RAS')\n",
    "A = norm_adj(G)\n",
    "As = norm_adj(G)\n",
    "gs = G.nodes\n",
    "# STRING GRAPH\n",
    "Gb = get_string_graph(G.nodes)\n",
    "gb = Gb.nodes\n",
    "Ab = norm_adj(Gb)\n",
    "# FIND COMMON GENE NODES\n",
    "inters = set(gs) & set(gb)\n",
    "Gs = G.subgraph(sorted(inters))\n",
    "Gb = Gb.subgraph(sorted(inters))\n",
    "print(len(set(Gs.nodes) & set(Gb.nodes)))\n",
    "As = norm_adj(Gs)\n",
    "Ab = norm_adj(Gb)\n",
    "print(Gs)\n",
    "print(Gb)\n",
    "print(Gs.nodes)\n",
    "print(Gb.nodes)\n",
    "print(As.shape)\n",
    "print(Ab.shape)\n",
    "df_As = pd.DataFrame(As)\n",
    "df_As.columns = Gs.nodes\n",
    "df_As = df_As.reindex(sorted(df_As.columns), axis=1)\n",
    "df_Ab = pd.DataFrame(Ab)\n",
    "df_Ab.columns = Gb.nodes\n",
    "df_Ab = df_Ab.reindex(sorted(df_Ab.columns), axis=1)\n",
    "print(df_As)\n",
    "print(df_Ab)\n",
    "sns.heatmap(df_As , cbar = False)\n",
    "plt.savefig('ADJACENCY_MAP_GALOIS(MI).jpg', dpi =600)\n",
    "sns.heatmap(df_Ab, cbar = False)\n",
    "plt.savefig('ADJACENCY_MAP_STRING(ICE).jpg', dpi =600)\n",
    "# UNCAPTION TO SAVE DATAMAP\n",
    "#df_As.to_csv('MI_map.csv')\n",
    "#df_Ab.to_csv('STRING_map.csv')\n",
    "As = df_As.to_numpy()\n",
    "Ab = df_Ab.to_numpy()\n",
    "def Sampling(As, Ab, initiate = True, state_s = None, state_b = None, dt = 7, iters = None):\n",
    "    # INITIATE IF FIRST STEP\n",
    "    if initiate:\n",
    "        state_s = np.zeros(len(As))\n",
    "        state_s[0] = 1\n",
    "        state_b = np.zeros(len(Ab))\n",
    "        state_b[0] = 1\n",
    "    # ELSE USE PREVIOUS STATE\n",
    "    #print(state_s,state_b)\n",
    "    # SPECTRAL DECOMPOSITION\n",
    "    eval_As, evec_As = np.linalg.eig(As)\n",
    "    eval_Ab, evec_Ab = np.linalg.eig(Ab)\n",
    "    print(eval_As, evec_As)\n",
    "    print(eval_Ab, evec_Ab)\n",
    "    #eval_sum = eta*eval_As+(1-eta)*eval_Ab\n",
    "    eval_sum = eval_As + eval_Ab\n",
    "    D = np.diag(eval_sum*dt*1j)\n",
    "    # COMPUTING UNITARY TRANSFORMATION (DUAL-TRANSITION)\n",
    "    Us = np.matmul(np.matmul(evec_As.conj().T, D), evec_As)\n",
    "    Ub = np.matmul(np.matmul(evec_Ab.conj().T, D), evec_Ab)\n",
    "    print(Us.conj().T*Us)\n",
    "    print(Ub.conj().T*Ub)\n",
    "    Us = np.abs(Us)\n",
    "    Ub = np.abs(Ub)\n",
    "    #print(evec_As.shape)\n",
    "    #print(evec_Ab.shape)\n",
    "    df_US = pd.DataFrame(Us)\n",
    "    df_US.columns = inters\n",
    "    df_US.to_csv('US_csv/Us_{}.csv'.format(iters),index = True)\n",
    "    df_UB = pd.DataFrame(Ub)\n",
    "    df_UB.columns = inters\n",
    "    df_UB.to_csv('UB_csv/Ub_{}.csv'.format(iters),index = True)\n",
    "    # PLOT DUAL-TRANSITION\n",
    "    sns.heatmap(Us , cbar = False)\n",
    "    plt.savefig('US/Us_{}.jpg'.format(iters), dpi =600)\n",
    "    sns.heatmap(Ub, cbar = False)\n",
    "    plt.savefig('UB/Ub_{}.jpg'.format(iters), dpi =600)\n",
    "    state_st = np.matmul(Us,state_s)\n",
    "    state_bt = np.matmul(Ub,state_b)\n",
    "    return Us, Ub, state_st, state_bt\n",
    "\n",
    "Us, Ub,state_st, state_bt = Sampling(As, Ab, initiate = True)\n",
    "print(np.argmax(state_st))\n",
    "print(np.argmax(state_bt))\n",
    "\n",
    "n_iters = 10\n",
    "for i in range(n_iters):\n",
    "    print(\"iter: {}\".format(i))\n",
    "    Us, Ub, state_st, state_bt = Sampling(Us, Ub, initiate = False, state_s=state_st, state_b=state_bt, iters = i)\n",
    "    #print(state_st)\n",
    "    #print(state_bt)\n",
    "    ps = softmax(state_st)\n",
    "    pb = softmax(state_bt)\n",
    "    print(np.argmax(ps))\n",
    "    print(np.argmax(pb))\n",
    "    if (np.argmax(ps) == 0) and (np.argmax(pb) == 0):\n",
    "        break\n",
    "#"
   ]
  },
  {
   "attachments": {},
   "cell_type": "markdown",
   "metadata": {},
   "source": [
    "# Historical Note\n",
    "Galois and Ice suprise. They just create the first Quantum Ants, or QuanAnts Machine. They look at the immersive, tiny creature....\n",
    "![Ants](ant_0e1b5c7be347178eb5640772bafa5cbdd36e5a6945fe0e47ced39a48c03df79c.001.jpeg)\n",
    "\n"
   ]
  }
 ],
 "metadata": {
  "kernelspec": {
   "display_name": "quanonco",
   "language": "python",
   "name": "python3"
  },
  "language_info": {
   "codemirror_mode": {
    "name": "ipython",
    "version": 3
   },
   "file_extension": ".py",
   "mimetype": "text/x-python",
   "name": "python",
   "nbconvert_exporter": "python",
   "pygments_lexer": "ipython3",
   "version": "3.7.0"
  },
  "orig_nbformat": 4,
  "vscode": {
   "interpreter": {
    "hash": "5b2011cb8497c0fe76179b60457e28cf71fb36836ec4627e587aa282d4c30b18"
   }
  }
 },
 "nbformat": 4,
 "nbformat_minor": 2
}
