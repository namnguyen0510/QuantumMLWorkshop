{
 "cells": [
  {
   "attachments": {},
   "cell_type": "markdown",
   "metadata": {},
   "source": [
    "# The Duality Game\n",
    "(Author: Nam Nguyen)\n",
    "\n",
    "To this point, we have established all (**easter eggs**) for our upcoming theories. Now, let's recall:\n",
    "- Linear Dynamics: ${Y} = 3.14 {x}$.\n",
    "- Non-Linear Dynamics but Linear Model $f({z})$ spanned by $\\{1,{z},{z}^2,{z}^3 \\}$.\n",
    "\n",
    "We encode the domain information, i.e., ${A}_b$ and ${A}_s$, by altering Euler Representations with spectral decomposition theorem. Of note, multi-modality analysis demands understanding of many domain types, ranging from images or text sequences. There are a bunch of ways that we can create mixture of domain graphs ${A}_b$ and ${A}_s$:\n",
    "- Additive Mixture: ${A}_b+{A}_s$.\n",
    "- Multiplicative Mixture: ${A}_b{A}_s$.\n",
    "\n",
    "However, I proposed\n",
    "\\begin{equation}\n",
    "    \\begin{split}\n",
    "    {A}_b &= {S}_b^\\dagger \\Lambda_b {S}_b\\\\\n",
    "    {A}_s &= {S}_s^\\dagger \\Lambda_s {S}_s\n",
    "    \\end{split}\n",
    "\\end{equation}\n",
    "where $\\Lambda_b = \\text{diag} (\\lambda^{(b)}_1, \\dots, \\lambda^{(b)}_N)$ and $\\Lambda_s = \\text{diag} (\\lambda^{(s)}_1, \\dots, \\lambda^{(s)}_N)$ are diagonal matrix of eigenvalues for ${A}_b$ and ${A}_s$, respectively. By this, we aggregate the most important information of **a domain matrix**. Specifically, an **eigenvector** of a matrix is a nonzero vector that, when multiplied by the matrix, results in a scalar multiple of the original vector (linear scale). In other words, an eigenvector of a matrix $A$ is a vector $\\vec{v}$ that satisfies the equation $A\\vec{v} = \\lambda \\vec{v}$\n",
    "where $\\lambda$ is a scalar value called the eigenvalue corresponding to the eigenvector $\\vec{v}$. Noted that both $\\Lambda_b$ and $\\Lambda_s$ are complex-valued matrix as ${A}_b$ and ${A}_s$ is asymmetric matrices; i.e., ${A}_b \\neq {A}_b^{\\dagger}$ and ${A}_s \\neq {A}_s^{\\dagger}$. Other applications of such mathematical quantity:\n",
    "- In quantum mechanics, eigenvectors of a Hermitian operator correspond to the possible states of a quantum system. For example, the eigenvectors of the position operator in one dimension correspond to the position eigenstates of a particle. The eigenvalues of the operator represent the possible outcomes of a measurement of the associated observable.\n",
    "- In solid-state physics, eigenvectors of a matrix describing the interactions between atoms in a crystal lattice correspond to the normal modes of vibration of the lattice. The eigenvalues of the matrix represent the frequencies at which the lattice can vibrate.\n",
    "- In classical mechanics, eigenvectors of a matrix describing the motion of a system correspond to the directions in which the system oscillates with a simple harmonic motion. The eigenvalues of the matrix represent the frequencies of oscillation in each direction.\n",
    "- In general, eigenvectors represent the directions in which a linear transformation (represented by a matrix) has a particularly simple behavior, such as stretching or rotating without changing direction. They can also be thought of as the \"building blocks\" of a matrix, since any matrix can be decomposed into a linear combination of its eigenvectors.\n",
    "\n"
   ]
  },
  {
   "attachments": {},
   "cell_type": "markdown",
   "metadata": {},
   "source": [
    "**Ant Colony Optimization (ACO)** is a discrete optimization algorithm introduced in \\cite{dorigo2006ant}, which has the biological beauty of nature: a group of ants walking on a graph $\\mathcal{G}$ (\\textbf{domain}) from their nest (site 1) to the food source (site 2) and then come back to the nest (site 3). During the process, they left \\textbf{pheromone trait} on their paths. Suppose each ant carry an equal initial tank of liquid, decaying during the quest from (site 1) to (site 2) to (site 3). The intensity is computed by (liquid volume)/(total distance). Thus, the longer the distance, the less intensive the pheromone; equivalently, the shorter path will have a higher intensity of pheromone. \n",
    "\n",
    "Ants can sense the pheromone trait to build stochastic models for the optimal traveling paths: \n",
    "- The pheromone is evaporating due to the environment's evolution. Thus, a path with a more intensive pheromone will last longer, and more ants will follow these paths. This makes beneficial-natural bias; the system of ants is optimized in the sense of resources: more ants will have to travel less due to the optimal pheromone trait paths.\n",
    "- When ants touch each other, there is hypothesized to have communication transferred from ant to ant. The biological facts are out of the scope of this work. Here, we observe that if the information can be shared among ant workers, it will be more optimized and more beneficial, as they will share prior knowledge so that (1) more-common paths will be known and (2) less-common paths will be forgotten.\n",
    "\n",
    "\n",
    "## The Activity 3 Hand-ons\n",
    " Given a set of genes $\\mathcal{G} = \\{G_1, \\dots, G_N\\}$ and a targeted pathway (targeted variable ${Y}$), find the optimal biomarker sets that (1) most relevant for the targeted pathway and (2) optimal (less redundant) for Machine Learning (ML) algorithms. This criterion is so-called minimize redundancy and maximizing relevancy for selected feature sets\\cite{peng2005feature}. This problem is challenging for ML approaches: given that $k$ is the number of biomarkers for targeted pathways, there are\n",
    "\\begin{equation}\n",
    "    \\sum_{i=0}^{N}{N\\choose k} = 2^N\n",
    "\\end{equation}\n",
    "combinations of candidate sets. We do not know the actual number of $k$ for each target; thus, we must consider all possible values for $k$, resulting in a larger summation of combinations.\n",
    "\n",
    "We have approximately $N=20,000$ to $25,000$ genes in our genome; hence, a massive search space has been induced with an exponential scale of input genes. We want to see how large the number is: we have $2^{300}$ to $2^{500}$ atoms in the \\textit{universe}\\cite{nielsen2002quantum}; thus, the number of candidate marker sets for exhaustive search is $3.2019 \\times 10^{6577}$ times bigger than the number of all atoms. This is only the complexity analysis for \\textit{one-mode} problem, i.e., selecting from a single molecular feature set. The problem is then trivially computationally prohibited when we extend the analysis to multi-modality modeling (by considering combinations of miRNA, mRNA, DNA methylation, RNA, and protein expressions). \n",
    " "
   ]
  },
  {
   "attachments": {},
   "cell_type": "markdown",
   "metadata": {},
   "source": [
    "The star_graph.file in hand-ons: act 3 is the domain graph from mRNA expression, while the protein-protein interaction graph is streamed from STRING database. We used QuantAnts Machine to discover biomarkers using mixture of domains in Equation (1)."
   ]
  },
  {
   "attachments": {},
   "cell_type": "markdown",
   "metadata": {},
   "source": [
    "\n",
    "### Interpretation\n",
    "We show adjacency matrices of (1) a protein interaction network collected from STRING database\\cite{szklarczyk2019string} and (2) an RNA interaction network from TCGA database\\cite{weinstein2013cancer} in Figure~\\ref{fig:maps}. We would like to associate protein- and RNA-derived domains with the analogy of \"\\textbf{continents-sea}\" for three reasons:\n",
    "- Proteins are large DNA sequences with folded information and structure; hence,\n",
    "    it is hard to deconvolute these stacked information to transform one protein to other protein. This is the reason for \"protein continents\" metaphor to describe proteins domain as it is hard to commute from one \"mountain\" to other \"mountain\"; i.e., transformation of one protein to another one.\n",
    "- RNA are smaller molecules than proteins with less stacked genetic information (lower-mode). Thus, is it easier to transform one RNA to other RNA configurations. Similarly, we use \"RNA sea\" for metaphor of such a phenomenon.\n",
    "- Continents and sea altogether make an environment to deploy our QuantAnts machine; i.e., our proposed agents will simultaneously walk on these two domains to learn combinations of biomarker for certain pathways.\n",
    "\n",
    "(P/S): If you run the code in act 3 end-to-end. You will discover the Protein Continents Maps and the mRNA sea maps.\n"
   ]
  },
  {
   "attachments": {},
   "cell_type": "markdown",
   "metadata": {},
   "source": [
    "## Tumor as a Quantum Object\n",
    "Now, we know how to use Abstract Algebra and the language of Group to present physical motion. Recall from act 2:\n",
    "\n",
    "(**EXAMPLE**)\n",
    "Let $f$ be a rigid motion of the square. We define $h(f)$ to be the area of the square that is fixed by $f$. \n",
    "- It turns out that $h$ is a homomorphism from $G$ to $(\\mathbb{R}, +)$. To see this, note that The identity element of $G$ is the identity motion that leaves the square unchanged. \n",
    "- The area fixed by the identity motion is the entire square, which has area $1$. Therefore, $h(\\text{id}) = 1$, which is the identity element of $(\\mathbb{R}, +)$.\n",
    "- If $f$ and $g$ are two rigid motions of the square, then $fg$ is the motion obtained by applying $g$ followed by $f$. \n",
    "- It can be shown that the area fixed by $fg$ is the intersection of the areas fixed by $f$ and $g$. Therefore, we have $h(fg) = h(f) + h(g)$, which is the same as the group operation in $(\\mathbb{R}, +)$. (See \\textbf{Animation S1})\n",
    "\n",
    "\n",
    "\n",
    "\n"
   ]
  },
  {
   "attachments": {},
   "cell_type": "markdown",
   "metadata": {},
   "source": [
    "## Now, let's try three scenario:\n",
    "<img src=\"fire_f71838b53228ad6332612892564d602bb9d25a36a218501921c66f66591465f7.001.jpeg\" alt=\"alt text\" width=\"23%\">\n",
    "<img src=\"ice_f71838b53228ad6332612892564d602bb9d25a36a218501921c66f66591465f7.001.jpeg\" alt=\"alt text\" width=\"23%\">\n",
    "\n",
    "<img src=\"ant_0e1b5c7be347178eb5640772bafa5cbdd36e5a6945fe0e47ced39a48c03df79c.001.jpeg\" alt=\"alt text\" width=\"47%\">\n",
    "\n"
   ]
  },
  {
   "attachments": {},
   "cell_type": "markdown",
   "metadata": {},
   "source": [
    "- Fire: 1969\n",
    "- Ice: 1913\n",
    "- Ants: Now"
   ]
  },
  {
   "attachments": {},
   "cell_type": "markdown",
   "metadata": {},
   "source": [
    "![char_select](TEEA_v0.005.jpeg)"
   ]
  },
  {
   "attachments": {},
   "cell_type": "markdown",
   "metadata": {},
   "source": [
    "### Fire: 1969\n",
    "[**GPT**]\n",
    "Behinds the **Biology** of Von Bertalanfy Growth: In a forest far away, there lived a majestic deer named Emerald. Emerald was a young deer, born just a few months ago, and his mother was worried about his growth. She wanted to make sure that Emerald was growing well and would be able to survive in the forest.\n",
    "\n",
    "One day, a renowned biologist named Ludwig von Bertalanffy arrived in the forest. He was studying the growth patterns of different animals, and he was particularly interested in the growth of deer. Von Bertalanffy had observed that many metabolic processes in mammals scale not with body mass or volume, but with something more akin to surface area.\n",
    "\n",
    "Von Bertalanffy approached Emerald's mother and explained his theory about growth. He told her that he could estimate **Emerald's growth trajectory using a mathematical model called the von Bertalanffy growth function**. He explained that the model would allow him to estimate the maximum size that Emerald would attain and the rate at which he would approach his maximum size.\n",
    "\n",
    "Emerald's mother was intrigued by the idea and agreed to let von Bertalanffy study Emerald's growth. Over the next few months, von Bertalanffy observed Emerald closely, measuring his length and weight at regular intervals.\n",
    "\n",
    "Using the von Bertalanffy growth function, von Bertalanffy estimated that Emerald would reach a maximum length of six feet and that he would approach his maximum length at a rate of 0.2 feet per year. He also estimated that Emerald's theoretical age at which he had zero length was two months.\n",
    "\n",
    "As Emerald grew, von Bertalanffy's predictions proved to be remarkably accurate. Emerald grew steadily and reached his maximum length of six feet by the time he was five years old. His mother was delighted with the results and grateful to von Bertalanffy for his help.\n",
    "\n",
    "From that day on, von Bertalanffy's theory of growth became well-known in the forest. Many other animals, including bears, foxes, and rabbits, came to him for help with their own growth patterns. And Emerald, the majestic deer, continued to roam the forest, a testament to the power of science and the wonders of nature.\n",
    "\n",
    "[**Theory**]\n",
    "The growth of Emerald (Von Bert) is given by\n",
    "$$\\frac{dV}{dt} = \\alpha V^\\nu - \\beta V^\\mu$$\n",
    "with the conservation equation: growth equals “births” ($\\alpha V^\\nu $) minus “deaths ($\\beta V^\\mu$)”."
   ]
  },
  {
   "attachments": {},
   "cell_type": "markdown",
   "metadata": {},
   "source": [
    "### Ice: 1913\n",
    "The Bohr model, developed by Niels Bohr and Ernest Rutherford in 1913, is a representation of the atom in atomic physics. It comprises a small and dense nucleus that is surrounded by electrons orbiting around it. The structure is similar to that of the Solar System, but instead of gravity, the attraction between the nucleus and the electrons is provided by electrostatic force. This model succeeded and replaced many earlier models in the history of atomic physics, such as the solar system model proposed by Joseph Larmor in 1897, Jean Perrin's model in 1901, the cubical model in 1902, Hantaro Nagaoka's Saturnian model in 1904, the plum pudding model in 1904, Arthur Haas's quantum model in 1910, the Rutherford model in 1911, and John William Nicholson's nuclear quantum model in 1912.\n",
    "\n",
    "<img src=\"TEEA_v0.005.jpeg\" width=\"23%\">\n",
    "<img src=\"TEEA_v0.012.jpeg\" width=\"23%\">\n",
    "<img src=\"TEEA_v0.013.jpeg\" width=\"23%\">\n",
    "<img src=\"TEEA_v0.014.jpeg\" width=\"23%\">\n",
    "\n",
    "<img src=\"TEEA_v0.015.jpeg\" width=\"47%\">\n",
    "<img src=\"TEEA_v0.016.jpeg\" width=\"47%\">\n",
    "<img src=\"TEEA_v0.017.jpeg\" width=\"47%\">\n",
    "<img src=\"TEEA_v0.018.jpeg\" width=\"47%\">\n",
    "\n",
    "<img src=\"TEEA_v0.019.jpeg\" width=\"100%\">"
   ]
  },
  {
   "attachments": {},
   "cell_type": "markdown",
   "metadata": {},
   "source": [
    "### Ants: Now\n",
    "[**GPT**]\n",
    "The QuanAnts are very strange creature. It needs two people to control the machine. Galois and Ice must pass through the Zoo of Architecture by pass through the orbits $\\{s,p,d,f\\}$. Of note, these orbits are not linear, or in alignment..?!\n",
    "\n",
    "\n",
    "They met Emerald, again.\n",
    "<video width=\"320\" height=\"240\" controls>\n",
    "  <source src=\"e_0.mov\" type=\"video/mov\">\n",
    "</video>\n",
    "\n",
    "\n",
    "[**Theory**]\n",
    "\n",
    "- To-do: Introduce The Duality Game\n",
    "\n",
    "\n",
    "## Hand-ons\n",
    "- Real Case Study of Tumor Modeling\n"
   ]
  }
 ],
 "metadata": {
  "kernelspec": {
   "display_name": "quanonco",
   "language": "python",
   "name": "python3"
  },
  "language_info": {
   "name": "python",
   "version": "3.7.0"
  },
  "orig_nbformat": 4,
  "vscode": {
   "interpreter": {
    "hash": "5b2011cb8497c0fe76179b60457e28cf71fb36836ec4627e587aa282d4c30b18"
   }
  }
 },
 "nbformat": 4,
 "nbformat_minor": 2
}
